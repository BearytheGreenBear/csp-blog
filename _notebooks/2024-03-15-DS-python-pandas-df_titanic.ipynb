{
 "cells": [
  {
   "cell_type": "raw",
   "metadata": {},
   "source": [
    "---\n",
    "layout: post\n",
    "toc: true\n",
    "title: ML, Titanic Data 2\n",
    "description: Exploring the Titanic dataset with machine learning. \n",
    "courses: { compsci: {week: 25} }\n",
    "type: hacks\n",
    "---"
   ]
  },
  {
   "cell_type": "code",
   "execution_count": 2,
   "metadata": {},
   "outputs": [
    {
     "name": "stdout",
     "output_type": "stream",
     "text": [
      "     survived  pclass  sex   age  sibsp  parch      fare  alone  embarked_C  \\\n",
      "0           0       3    1  22.0      1      0    7.2500      0         0.0   \n",
      "1           1       1    0  38.0      1      0   71.2833      0         1.0   \n",
      "2           1       3    0  26.0      0      0    7.9250      1         0.0   \n",
      "3           1       1    0  35.0      1      0   53.1000      0         0.0   \n",
      "4           0       3    1  35.0      0      0    8.0500      1         0.0   \n",
      "..        ...     ...  ...   ...    ...    ...       ...    ...         ...   \n",
      "705         0       2    1  39.0      0      0   26.0000      1         0.0   \n",
      "706         1       2    0  45.0      0      0   13.5000      1         0.0   \n",
      "707         1       1    1  42.0      0      0   26.2875      1         0.0   \n",
      "708         1       1    0  22.0      0      0  151.5500      1         0.0   \n",
      "710         1       1    0  24.0      0      0   49.5042      1         1.0   \n",
      "\n",
      "     embarked_Q  embarked_S  \n",
      "0           0.0         1.0  \n",
      "1           0.0         0.0  \n",
      "2           0.0         1.0  \n",
      "3           0.0         1.0  \n",
      "4           0.0         1.0  \n",
      "..          ...         ...  \n",
      "705         0.0         1.0  \n",
      "706         0.0         1.0  \n",
      "707         1.0         0.0  \n",
      "708         0.0         1.0  \n",
      "710         0.0         0.0  \n",
      "\n",
      "[564 rows x 11 columns]\n"
     ]
    }
   ],
   "source": [
    "from sklearn.tree import DecisionTreeClassifier, export_text\n",
    "from sklearn.linear_model import LogisticRegression\n",
    "from sklearn.metrics import accuracy_score\n",
    "from sklearn.model_selection import train_test_split\n",
    "from sklearn.preprocessing import OneHotEncoder\n",
    "import pandas as pd\n",
    "import seaborn as sns\n",
    "import numpy as np\n",
    "# Define the TitanicRegression global variable\n",
    "titanic_regression = None\n",
    "# Define the TitanicRegression class\n",
    "class TitanicRegression:\n",
    "    def __init__(self):\n",
    "        self.dt = None\n",
    "        self.logreg = None\n",
    "        self.X_train = None\n",
    "        self.X_test = None\n",
    "        self.y_train = None\n",
    "        self.y_test = None\n",
    "        self.encoder = None\n",
    "    def initTitanic(self):\n",
    "        titanic_data = sns.load_dataset('titanic')\n",
    "        self.td = titanic_data\n",
    "        self.td.drop(['alive', 'who', 'adult_male', 'class', 'embark_town', 'deck'], axis=1, inplace=True)\n",
    "        self.td.dropna(inplace=True) # drop rows with at least one missing value, after dropping unuseful columns\n",
    "        self.td['sex'] = self.td['sex'].apply(lambda x: 1 if x == 'male' else 0)\n",
    "        self.td['alone'] = self.td['alone'].apply(lambda x: 1 if x == True else 0)\n",
    "        # Encode categorical variables\n",
    "        self.enc = OneHotEncoder(handle_unknown='ignore')\n",
    "        self.enc.fit(self.td[['embarked']])\n",
    "        self.onehot = self.enc.transform(self.td[['embarked']]).toarray()\n",
    "        cols = ['embarked_' + val for val in self.enc.categories_[0]]\n",
    "        self.td[cols] = pd.DataFrame(self.onehot)\n",
    "        self.td.drop(['embarked'], axis=1, inplace=True)\n",
    "        self.td.dropna(inplace=True)\n",
    "        print(self.td)\n",
    "        # clean data\n",
    "    def runDecisionTree(self):\n",
    "        X = self.td.drop('survived', axis=1) # all except 'survived'\n",
    "        y = self.td['survived'] # only 'survived'\n",
    "        self.X_train, X_test, self.y_train, y_test = train_test_split(X, y, test_size=0.3, random_state=42)\n",
    "        dt = DecisionTreeClassifier()\n",
    "        dt.fit(self.X_train, self.y_train)\n",
    "        self.dt = dt\n",
    "        print(export_text(dt, feature_names=X.columns.tolist()))\n",
    "        # more code here\n",
    "    def runLogisticRegression(self):\n",
    "        # more code here\n",
    "        self.logreg = LogisticRegression()\n",
    "        self.logreg.fit(self.X_train, self.y_train)\n",
    "def initTitanic():\n",
    "    global titanic_regression\n",
    "    titanic_regression = TitanicRegression()\n",
    "    titanic_regression.initTitanic()\n",
    "# From API\n",
    "def predictSurvival(self,passenger):\n",
    "    new_passenger = passenger.copy()\n",
    "    # Preprocess the new passenger data\n",
    "    new_passenger['sex'] = new_passenger['sex'].apply(lambda x: 1 if x == 'male' else 0)\n",
    "    new_passenger['alone'] = new_passenger['alone'].apply(lambda x: 1 if x == True else 0)\n",
    "    # Encode 'embarked' variable\n",
    "    self.onehot = self.enc.transform(new_passenger[['embarked']]).toarray()\n",
    "    cols = ['embarked_' + val for val in self.enc.categories_[0]]\n",
    "    new_passenger[cols] = pd.DataFrame(self.onehot, index=new_passenger.index)\n",
    "    new_passenger.drop(['name'], axis=1, inplace=True)\n",
    "    new_passenger.drop(['embarked'], axis=1, inplace=True)\n",
    "    aliveProb = np.squeeze(self.logreg.predict_proba(new_passenger))\n",
    "    # more code here\n",
    "    # interact with\n",
    "    return aliveProb\n",
    "# Sample usage without API\n",
    "if __name__ == \"__main__\":\n",
    "    # Initialize the Titanic model\n",
    "    initTitanic()"
   ]
  },
  {
   "cell_type": "code",
   "execution_count": null,
   "metadata": {},
   "outputs": [],
   "source": []
  }
 ],
 "metadata": {
  "kernelspec": {
   "display_name": "Python 3 (ipykernel)",
   "language": "python",
   "name": "python3"
  },
  "language_info": {
   "codemirror_mode": {
    "name": "ipython",
    "version": 3
   },
   "file_extension": ".py",
   "mimetype": "text/x-python",
   "name": "python",
   "nbconvert_exporter": "python",
   "pygments_lexer": "ipython3",
   "version": "3.9.13"
  },
  "vscode": {
   "interpreter": {
    "hash": "65f6bdf080211a4261ca30203f2967d5d410cd9d47d7b7e5694003092334a949"
   }
  }
 },
 "nbformat": 4,
 "nbformat_minor": 2
}
