{
 "cells": [
  {
   "cell_type": "markdown",
   "metadata": {},
   "source": [
    "---\n",
    "toc: false\n",
    "comments: true\n",
    "layout: post\n",
    "title: Psuedo Code, Python, & Javascript (Hack)\n",
    "description:  Psuedo Code, Python, Javascript Hacks\n",
    "courses: { compsci: {week: 2} }\n",
    "type: hacks\n",
    "---"
   ]
  },
  {
   "cell_type": "markdown",
   "metadata": {},
   "source": [
    "### Pseudo code IF Code Block\n",
    "```\n",
    "a ← 1\n",
    "b ← 1\n",
    "\n",
    "IF (a = b) {\n",
    "   DISPLAY(\"A equals B\")\n",
    "}\n",
    "```"
   ]
  },
  {
   "cell_type": "code",
   "execution_count": null,
   "metadata": {},
   "outputs": [],
   "source": [
    "# Python code if block to match Pseudo Code\n",
    "a = 1\n",
    "b = 1\n",
    "if (a == b):\n",
    "    # Python uses indent to establish code block, Teacher use tab key\n",
    "    print(\"A equals B\")"
   ]
  },
  {
   "cell_type": "code",
   "execution_count": null,
   "metadata": {
    "vscode": {
     "languageId": "javascript"
    }
   },
   "outputs": [],
   "source": [
    "// Javascript If Statement\n",
    "let a = 1;\n",
    "let b = 1;\n",
    "if (a === b) {\n",
    "    // JavaScript also uses curly braces to establish code block\n",
    "    console.log(\"A equals B\");\n",
    "}"
   ]
  },
  {
   "cell_type": "markdown",
   "metadata": {},
   "source": [
    "## Pseudo Code For Loop\n",
    "```\n",
    "sumOfNums ← 0\n",
    "i ← 1\n",
    "REPEAT 100 TIMES {\n",
    "    sumOfNums ← sumOfNums + i\n",
    "    i ← i + 1\n",
    "}\n",
    "DISPLAY(sum)\n",
    "```"
   ]
  },
  {
   "cell_type": "code",
   "execution_count": null,
   "metadata": {},
   "outputs": [],
   "source": [
    "# Python For Loop\n",
    "sumOfNums = 0 # \"sum\" is a function name I think\n",
    "for i in range(1, 101):\n",
    "    sumOfNums += i\n",
    "print(i)"
   ]
  },
  {
   "cell_type": "code",
   "execution_count": null,
   "metadata": {
    "vscode": {
     "languageId": "javascript"
    }
   },
   "outputs": [],
   "source": [
    "// Javascript For Loop\n",
    "let sumOfNums = 0;\n",
    "for (let i = 1; i <= 100; i++) {\n",
    "    sumOfNums += i;\n",
    "}\n",
    "console.log(sumOfNums);"
   ]
  },
  {
   "cell_type": "markdown",
   "metadata": {},
   "source": [
    "## Psuedo Code Benefits\n",
    "Psuedo code allows me to come up with the basic program before going coding it into a specific language (Python or Javascript).\n",
    "\n",
    "## Pseudo Code Definitions\n",
    "**Code Block**: A sequence of programming instructions (Ex. inside a if-statement)\n",
    "**Sequence**: A sequence of programming instructions (equivalant to a Python Function).\n",
    "**Selection**: Runs the code block based on the selection (equivalant to a Python If-Statement).\n",
    "**Iteration**: Repeat a code block a certain number of times (equivalant to Python For-Loop/While-Loop)\n"
   ]
  },
  {
   "cell_type": "markdown",
   "metadata": {},
   "source": [
    "# Mathematical Expressions (Latex Sort-Of)\n",
    "\n",
    "## Pythagorean Theorem\n",
    "The Pythagorean theorem states that for any right triangle with legs of lengths $a$ and $b$ and hypotenuse of length $c$, the following equation holds:\n",
    "$$\n",
    "a^2 + b^2 = c^2\n",
    "$$\n",
    "\n",
    "## Trigonometric Identity (Euler's Formula)\n",
    "Euler's formula is a fundamental identity in mathematics relating complex exponentials and trigonometric functions:\n",
    "$$\n",
    "e^{i\\theta} = \\cos(\\theta) + i\\sin(\\theta)\n",
    "$$\n",
    "\n",
    "## Calculus Equation (Differentiation)\n",
    "The derivative of a function $f(x)$ with respect to $x$, denoted as $f'(x)$ or $\\frac{df}{dx}$, can be defined using the limit:\n",
    "$$\n",
    "f'(x) = \\lim_{{h \\to 0}} \\frac{f(x + h) - f(x)}{h}\n",
    "$$"
   ]
  }
 ],
 "metadata": {
  "kernelspec": {
   "display_name": "Python 3 (ipykernel)",
   "language": "python",
   "name": "python3"
  },
  "language_info": {
   "codemirror_mode": {
    "name": "ipython",
    "version": 3
   },
   "file_extension": ".py",
   "mimetype": "text/x-python",
   "name": "python",
   "nbconvert_exporter": "python",
   "pygments_lexer": "ipython3",
   "version": "3.10.12"
  }
 },
 "nbformat": 4,
 "nbformat_minor": 2
}
