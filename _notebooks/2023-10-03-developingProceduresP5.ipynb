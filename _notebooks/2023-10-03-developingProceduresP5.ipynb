{
 "cells": [
  {
   "cell_type": "markdown",
   "metadata": {},
   "source": [
    "---\n",
    "# toc: true\n",
    "comments: false\n",
    "layout: default\n",
    "title: CB 3.12,3.13 Developing Procedures \n",
    "type: hacks \n",
    "courses: { compsci: {week: 9} }\n",
    "description: CB 3.12,3.13 Developing Procedures \n",
    "---"
   ]
  },
  {
   "cell_type": "markdown",
   "metadata": {},
   "source": [
    "<h1>- CB 3.12,3.13 Developing Procedures</h1>"
   ]
  },
  {
   "cell_type": "markdown",
   "metadata": {},
   "source": [
    "\n",
    "What is a procedure?\n",
    "\n",
    "A procedure is a named group of code that has paramaters and return values. Procedures are known as methods or functions depending on the language.\n",
    "\n",
    "A procedure executes the statements within it on the parameters to provide a return value.\n",
    "\n",
    "What are parameters?\n",
    "\n",
    "Paramaters are input values of a procedure that are specified by arguments.Arguments specify the values of the parameters when a procedure is called.\n",
    "\n",
    "By creating theses algorithms the readibility of code increases and the complexity decreases. This is becasue a function's name can tell the reader what action it will perform, and by calling it, the code becomes more clean and easy to understand.\n",
    "\n"
   ]
  },
  {
   "cell_type": "markdown",
   "metadata": {},
   "source": [
    "<h1>What is a return value?</h1>\n",
    "<h3>A return value is the value that is returned when a function or a method is called.</h3>\n",
    "<h3>That return value can be assigned or printed</h3>"
   ]
  },
  {
   "cell_type": "markdown",
   "metadata": {},
   "source": [
    "<img src = \"/passionProject/_notebooks/images.png\">"
   ]
  },
  {
   "cell_type": "markdown",
   "metadata": {},
   "source": [
    "Procedures are used to create algorthims that can perform certain actions or return values. When a procedure returns a value, theis information must be stored in a variable for later use. However some procedures like the MOVE_FORWARD() perform an action, and don't return a value. The image above provides an example of where procedures that don't output a value would be used."
   ]
  },
  {
   "cell_type": "code",
   "execution_count": null,
   "metadata": {},
   "outputs": [],
   "source": [
    "A 60$ item recieves a 20% discount and taxed at 8%.\n",
    "PROCEDURE applyDiscount(cost, percentDiscounted)\n",
    "{\n",
    "    temp ← 100 - percentDiscounted\n",
    "    temp← temp/ 100\n",
    "    cost ← cost *temp\n",
    "    RETURN(cost)\n",
    "}\n",
    "\n",
    "price ← applyDiscount(60, 20)\n",
    "This is how we get the final price with the discount by calling the procedure and assigning it to the price variable.\n",
    "\n",
    "\n",
    "PROCEDURE applyTax(cost, percentTaxed)\n",
    "{\n",
    "    temp ← 100 + percentTaxed\n",
    "    temp← temp/ 100\n",
    "    cost ← cost *temp\n",
    "    RETURN(cost)\n",
    "}\n",
    "price ← applyTax(price, 8)\n",
    "This applys the 8% tax to the price determined after the discount."
   ]
  },
  {
   "cell_type": "markdown",
   "metadata": {},
   "source": [
    "<h3>Popcorn Hack 1</h3>\n",
    "Given the applyTax procedure above:\n",
    "How would you call the procedure to get it to find the price using cost = 50, and percentTaxed = 10, and what value will it return?"
   ]
  },
  {
   "cell_type": "code",
   "execution_count": null,
   "metadata": {},
   "outputs": [],
   "source": [
    "price ← applyTax(50, 10) // 55"
   ]
  },
  {
   "cell_type": "markdown",
   "metadata": {},
   "source": [
    "<h1>What Are Functions?</h1>\n",
    "<ul>\n",
    "    <li>Collections of code</li>\n",
    "    <li>Divides large program into smaller chunks</li>\n",
    "    <li>Better readability</li>\n",
    "    <li>Less repetitive code</li>\n",
    "    <li>More efficient code</li>\n",
    "    <li>Good organization</li>\n",
    "</ul>\n",
    "\n",
    "\n",
    "\n",
    "<h1>What Are The Components of a Function?</h1>\n",
    "<ul>\n",
    "    <li>The function declaration</li>\n",
    "    <li>The parameters (input). This is also referred to as an argument when a value is being passed to the actual function.</li>\n",
    "    <li>The functionality</li>\n",
    "    <li>The return value (output)</li>\n",
    "    <li>Calling the function</li>\n",
    "</ul>"
   ]
  },
  {
   "cell_type": "code",
   "execution_count": null,
   "metadata": {},
   "outputs": [],
   "source": [
    "# Defining Functions\n",
    "#\n",
    "# def function_name(parameter1, parameter2, etc..):\n",
    "#     code here...\n",
    "#\n",
    "#     return return_value;\n",
    "\n",
    "# return the value of parameter1 plus parameter2;\n",
    "def add(parameter1, parameter2): # creates a function that takes in two parameters\n",
    "    solution = parameter1 + parameter2; # sets solution to the sum of parameter1 and parameter2\n",
    "    return solution; # return solution\n",
    "    \n",
    "print(add(5, 5)); # prints the return value of add(5,5)"
   ]
  },
  {
   "cell_type": "markdown",
   "metadata": {},
   "source": [
    "<h2 style=\"font-weight:bold\">Popcorn Hack 2:</h2>\n",
    "<h3>1. Make a function that returns the difference of two numbers</h3>"
   ]
  },
  {
   "cell_type": "code",
   "execution_count": null,
   "metadata": {},
   "outputs": [],
   "source": [
    "def diff(a, b):\n",
    "    return a - b\n",
    "    \n",
    "print(diff(2, 4))"
   ]
  },
  {
   "cell_type": "markdown",
   "metadata": {},
   "source": [
    "<h1>What is a Class?</h1>\n",
    "<ul>\n",
    "    <li>A class is an outline for a set of nested functions and variables.</li>\n",
    "    <li>There are instance variables</li>\n",
    "    <li>Functions</li>\n",
    "    <ul>\n",
    "        <li>Constructor method (Required)</li>\n",
    "        <li>To String method</li>\n",
    "        <li>Getter method</li>\n",
    "        <li>Setter method</li>\n",
    "    </ul>\n",
    "</ul>\n",
    "<h1>How Does a Class Work?</h1>"
   ]
  },
  {
   "cell_type": "code",
   "execution_count": null,
   "metadata": {},
   "outputs": [],
   "source": [
    "# Defining Classes\n",
    "class person:\n",
    "    def __init__(self, name, age, ): # constructor\n",
    "        self.name = name;\n",
    "        self.age = age;\n",
    "    \n",
    "    def getName(self): # method to create get name\n",
    "        return self.name;\n",
    "    \n",
    "    def getAge(self): # method to create get age\n",
    "        return self.age;\n",
    "    \n",
    "    def setName(self, name): # method to create set name\n",
    "        self.name = name;\n",
    "        \n",
    "    def setAge(self, age): # method to create set age\n",
    "        self.age = age;\n",
    "        \n",
    "    def yearOlder(self): # method to increment age by 1\n",
    "        self.age += 1;\n",
    "        \n",
    "    def __str__(self): # method that returns a string when the object is printed\n",
    "        return (f\"My name is {self.name} and I am {self.age} years old.\")\n",
    "\n",
    "Person1 = person(\"John Doe\", 15);\n",
    "print(Person1)\n",
    "\n",
    "\n",
    "print(Person1);"
   ]
  },
  {
   "cell_type": "markdown",
   "metadata": {},
   "source": [
    "<h2 style=\"font-weight:bold\">Popcorn Hack 3:</h2>\n",
    "<h3>1. Create a Car class which has the attributes model, vehicle name, and price</h3>\n",
    "<h3>2. Create instances of the following cars</h3>\n",
    "<ul>\n",
    "    <li>Name: Honda Civic , Model Year: 2018 , Price: $13,000 </li>\n",
    "    <li>Name: Toyota Prius, Model Year: 2023 , Price: $28,000 </li>\n",
    "    <li>Name: Chevrolet Impala, Model Year: 2020 , Price: $22,000 </li>\n",
    "</ul>"
   ]
  },
  {
   "cell_type": "code",
   "execution_count": null,
   "metadata": {},
   "outputs": [],
   "source": [
    "# Defining Classes\n",
    "class car:\n",
    "    def __init__(self, model, name, price): # constructor\n",
    "        self.model = model;\n",
    "        self.name = name;\n",
    "        self.price = price;\n",
    "        \n",
    "    def __str__(self): \n",
    "        return (f\"Model: {self.model}\\nName: {str(self.name)}\\nPrice {str(self.price)}\")\n",
    "\n",
    "cars = [\n",
    "    car(\"Honda Civic\", 2018, 13000),\n",
    "    car(\"Toyota Prius\", 2023, 28000),\n",
    "    car(\"Chevrolet Impala\", 2020, 22000)\n",
    "]\n",
    "\n",
    "for curCar in cars:\n",
    "    print(curCar)"
   ]
  },
  {
   "cell_type": "markdown",
   "metadata": {},
   "source": [
    "<h1>Homework:</h1>\n",
    "<h2>Assignment 1: How do you use functions?</h2>\n",
    "<h3>Create a turtle python function that...</h3>\n",
    "<ol>\n",
    "    <li>Takes a single parameter as the number of sides</li>\n",
    "    <li>Outputs a shape corresponding to the number of sides</li>\n",
    "    <li>Call the function with the argument being a variable with the user input</li>\n",
    "</ol>\n",
    "<h3>Hint: </h3>"
   ]
  },
  {
   "cell_type": "code",
   "execution_count": 1,
   "metadata": {},
   "outputs": [],
   "source": [
    "import turtle\n",
    "\n",
    "# Create a Turtle object\n",
    "pen = turtle.Turtle()\n",
    "\n",
    "# Define the shape function that takes the number of sides as a parameter\n",
    "def shape(sides):\n",
    "    angle = 360 / sides  # Calculate the angle for each turn\n",
    "    for _ in range(sides):\n",
    "        pen.forward(50)  # Move the pen forward by 50 units\n",
    "        pen.right(angle)  # Turn the pen right by the calculated angle\n",
    "\n",
    "# Get user input for the number of sides\n",
    "numsides = int(input('How many sides do you want in your shape? '))\n",
    "shape(numsides)  # Call the shape function with the user's input\n",
    "\n",
    "# Keep the turtle graphics window open until the user closes it\n",
    "turtle.done()\n"
   ]
  },
  {
   "cell_type": "markdown",
   "metadata": {},
   "source": [
    "<h2>Assignment 2:</h2>\n",
    "<h3>Create a student class that...</h3>\n",
    "<ol>\n",
    "    <li>Has a constructor that takes three parameters as attributes</li>\n",
    "    <li>\n",
    "        <ul>\n",
    "            <li>email</li>\n",
    "            <li>name</li>\n",
    "            <li>grade</li>\n",
    "        </ul>\n",
    "    </li>\n",
    "    <li>Three getter methods to access the name, email, and grade</li>\n",
    "    <li>Three setter methods to modify the name, email, and grade</li>\n",
    "    <li>A to string method that returns the three instance variables in this format - \"My name is {name}. My email is {email}. My grade is {grade}</li>\n",
    "    <li>Create an instance of the class that corresponds with you</li>\n",
    "</ol>\n"
   ]
  },
  {
   "cell_type": "code",
   "execution_count": 7,
   "metadata": {},
   "outputs": [
    {
     "name": "stdout",
     "output_type": "stream",
     "text": [
      "My name is Kyle Liang. My email is liangkyle@gmail.com. My courses (and grades) are: {'Calc AB': 'A+', 'Honors Humanities': 'A', 'Chinese': 'A', 'AP Chem': 'C++', 'CSP': 'A-'}\n",
      "My email is Kyle Liang\n",
      "My new grades are: {'Calc AB': 'A+', 'Honors Humanities': 'A', 'Chinese': 'A', 'AP Chem': 'F', 'CSP': 'A-'}\n",
      " :skull:\n"
     ]
    }
   ],
   "source": [
    "class student:\n",
    "    def __init__(self, email, name, courses): # constructor\n",
    "        self.email = email;\n",
    "        self.name = name;\n",
    "        self.courses = courses;\n",
    "    \n",
    "    def getEmail(self):\n",
    "        return self.email\n",
    "    \n",
    "    def getName(self):\n",
    "        return self.name\n",
    "    \n",
    "    def getGrade(self): # Grade in each course\n",
    "        return self.courses\n",
    "    \n",
    "    def setEmail(self, email):\n",
    "        self.email = email\n",
    "        \n",
    "    def setName(self, name):\n",
    "        self.name = name\n",
    "    \n",
    "    def setGrade(self, grade, course):\n",
    "        self.courses[course] = grade;\n",
    "    \n",
    "    def __str__(self): \n",
    "        return (f\"My name is {self.name}. My email is {self.email}. My courses (and grades) are: {self.courses}\")\n",
    "\n",
    "courses = {\n",
    "    \"Calc AB\": \"A+\",\n",
    "    \"Honors Humanities\": \"A\",\n",
    "    \"Chinese\": \"A\",\n",
    "    \"AP Chem\": \"C++\",\n",
    "    \"CSP\": \"A-\"\n",
    "}\n",
    "    \n",
    "kyle = student(\"liangkyle@gmail.com\", \"Kyle Liang\", courses)\n",
    "print(kyle)\n",
    "print(f\"My email is {kyle.getName()}\")\n",
    "kyle.setGrade(\"F\", \"AP Chem\")\n",
    "print(f\"My new grades are: {kyle.getGrade()}\\n :skull:\")"
   ]
  },
  {
   "cell_type": "markdown",
   "metadata": {},
   "source": [
    "UPDATED HW assignment 1: Create a function that takes in an array as the parameter and returns the array of distinct values. DON'T USE SETS. TEST ARRAY: arr1 = [2,1,3,2,0,2,0,0,4,2,0,0,0,2,0,0,1,2,3,0,7,4,5,2,1,2,3,4,6]."
   ]
  },
  {
   "cell_type": "code",
   "execution_count": 5,
   "metadata": {},
   "outputs": [
    {
     "name": "stdout",
     "output_type": "stream",
     "text": [
      "[2, 1, 3, 0, 4, 7, 5, 6]\n"
     ]
    }
   ],
   "source": [
    "# Number of distinct elements (NEW PROBLEM 1)\n",
    "\n",
    "def distinctValues(arr):\n",
    "    newArr = []\n",
    "    for v in arr:\n",
    "        if (v not in newArr):\n",
    "            newArr.append(v)\n",
    "    return newArr\n",
    "\n",
    "myArr = [2,1,3,2,0,2,0,0,4,2,0,0,0,2,0,0,1,2,3,0,7,4,5,2,1,2,3,4,6]\n",
    "print(distinctValues(myArr))"
   ]
  },
  {
   "cell_type": "markdown",
   "metadata": {},
   "source": [
    "UPDATED HW assignment 1: Create a function that takes in an array as the parameter and returns the array of distinct values. DON'T USE SETS. TEST ARRAY: arr1 = [2,1,3,2,0,2,0,0,4,2,0,0,0,2,0,0,1,2,3,0,7,4,5,2,1,2,3,4,6]."
   ]
  },
  {
   "cell_type": "code",
   "execution_count": 1,
   "metadata": {},
   "outputs": [
    {
     "name": "stdout",
     "output_type": "stream",
     "text": [
      "[2, 1, 3, 0, 4, 7, 5, 6]\n"
     ]
    }
   ],
   "source": [
    "def distinctValues(arr):\n",
    "    newArr = []\n",
    "    for v in arr:\n",
    "        if v not in newArr: \n",
    "            newArr.append(v)\n",
    "    return newArr\n",
    "\n",
    "myArr = [2,1,3,2,0,2,0,0,4,2,0,0,0,2,0,0,1,2,3,0,7,4,5,2,1,2,3,4,6]\n",
    "print(distinctValues(myArr))"
   ]
  }
 ],
 "metadata": {
  "kernelspec": {
   "display_name": "Python 3 (ipykernel)",
   "language": "python",
   "name": "python3"
  },
  "language_info": {
   "codemirror_mode": {
    "name": "ipython",
    "version": 3
   },
   "file_extension": ".py",
   "mimetype": "text/x-python",
   "name": "python",
   "nbconvert_exporter": "python",
   "pygments_lexer": "ipython3",
   "version": "3.10.5"
  }
 },
 "nbformat": 4,
 "nbformat_minor": 2
}
