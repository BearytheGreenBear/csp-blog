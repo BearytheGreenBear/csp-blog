{
 "cells": [
  {
   "cell_type": "markdown",
   "id": "efe44849",
   "metadata": {},
   "source": [
    "### Create a Visual Illustration of a program, algorithm, or process. (Kyle Liang)\n",
    "\n",
    "**Scenerio**\n",
    "You have some flights between some cities. From a specific city, you want to know the minimum amount of flights to travel to each other city.\n",
    "\n",
    ">Diagram (On Kyle's Blog): https://bearythegreenbear.github.io/csp-blog//2023/09/20/BFS_Diagram_Image.html\n",
    ">\n",
    ">Diagram (On Canva): https://www.canva.com/design/DAFvBqcU3NM/X3n9oiOzy1dLxmL7grUibA/edit?utm_content=DAFvBqcU3NM&utm_campaign=designshare&utm_medium=link2&utm_source=sharebutton"
   ]
  },
  {
   "cell_type": "code",
   "execution_count": 1,
   "id": "413cdef0",
   "metadata": {},
   "outputs": [
    {
     "name": "stdout",
     "output_type": "stream",
     "text": [
      "The minimum number of flights from SD to SD is 0.\n",
      "The minimum number of flights from SD to SF is 1.\n",
      "The minimum number of flights from SD to LA is 1.\n",
      "The minimum number of flights from SD to LV is 2.\n",
      "The minimum number of flights from SD to HO is 1.\n",
      "The minimum number of flights from SD to MA is 2.\n",
      "The minimum number of flights from SD to NY is 1.\n",
      "The minimum number of flights from SD to BO is 2.\n",
      "The minimum number of flights from SD to DC is 2.\n",
      "The minimum number of flights from SD to LO is 3.\n"
     ]
    }
   ],
   "source": [
    "from queue import Queue\n",
    "\n",
    "# All cities\n",
    "# SD - San Diego\n",
    "# SF - San Francisco\n",
    "# LA - Los Angeles\n",
    "# LV - Los Vegas\n",
    "# HO - Honolulu\n",
    "# MA - Maui\n",
    "# NY - New York City\n",
    "# BO - Boston\n",
    "# DC - Washington D.C.\n",
    "# LO - London\n",
    "\n",
    "cities = [\"SD\", \"SF\", \"LA\", \"LV\", \"HO\", \"MA\", \"NY\", \"BO\", \"DC\", \"LO\"]\n",
    "flights = [\n",
    "    (\"SD\", \"SF\"),\n",
    "    (\"SD\", \"LA\"),\n",
    "    (\"SD\", \"HO\"),\n",
    "    (\"HO\", \"MA\"),\n",
    "    (\"SD\", \"NY\"),\n",
    "    (\"LA\", \"LV\"),\n",
    "    (\"NY\", \"BO\"),\n",
    "    (\"NY\", \"DC\"),\n",
    "    (\"DC\", \"LO\")\n",
    "]\n",
    "\n",
    "adjList = dict()\n",
    "seen = dict()\n",
    "dist = dict()\n",
    "\n",
    "\n",
    "def initialize():\n",
    "    for city in cities:\n",
    "        adjList[city] = []\n",
    "        seen[city] = False\n",
    "        dist[city] = 0\n",
    "    for u, v in flights:\n",
    "        adjList[u].append(v)\n",
    "        adjList[v].append(u)\n",
    "\n",
    "        \n",
    "def BFS(node, curDepth):\n",
    "    if seen[node]:\n",
    "        return\n",
    "    seen[node] = True\n",
    "    dist[node] = curDepth\n",
    "    for child in adjList[node]:\n",
    "        BFS(child, curDepth+1)\n",
    "        \n",
    "        \n",
    "def display():\n",
    "    root = \"SD\"\n",
    "    for city in cities:\n",
    "        if dist[city] == 0:\n",
    "            root = city\n",
    "            break\n",
    "    for city in cities:\n",
    "        print(f\"The minimum number of flights from {root} to {city} is {dist[city]}.\")\n",
    "        \n",
    "\n",
    "# Main Code\n",
    "initialize()\n",
    "BFS(\"SD\", 0)\n",
    "display()\n",
    "    "
   ]
  },
  {
   "cell_type": "code",
   "execution_count": null,
   "id": "49e3501d",
   "metadata": {},
   "outputs": [],
   "source": []
  }
 ],
 "metadata": {
  "kernelspec": {
   "display_name": "Python 3 (ipykernel)",
   "language": "python",
   "name": "python3"
  },
  "language_info": {
   "codemirror_mode": {
    "name": "ipython",
    "version": 3
   },
   "file_extension": ".py",
   "mimetype": "text/x-python",
   "name": "python",
   "nbconvert_exporter": "python",
   "pygments_lexer": "ipython3",
   "version": "3.10.12"
  }
 },
 "nbformat": 4,
 "nbformat_minor": 5
}
