{
 "cells": [
  {
   "cell_type": "markdown",
   "id": "744f50cd",
   "metadata": {},
   "source": [
    "## Check Tools"
   ]
  },
  {
   "cell_type": "code",
   "execution_count": 2,
   "id": "4f511106",
   "metadata": {},
   "outputs": [
    {
     "name": "stdout",
     "output_type": "stream",
     "text": [
      "Checking installed software and version information...\n",
      "====================================================\n",
      "Package: code\n",
      "Version: 1.81.1\n",
      "6c3e3dba23e8fadc360aed75ce363ba185c49794\n",
      "x64\n",
      "-------------------------\n",
      "Package: python\n",
      "Version: Python 3.10.12\n",
      "-------------------------\n",
      "Package: google-chrome\n",
      "Version: Starting Chrome\n",
      "Google Chrome 115.0.5790.170 \n",
      "-------------------------\n",
      "Package: jupyter\n",
      "Version: Selected Jupyter core packages...\n",
      "IPython          : 7.31.1\n",
      "ipykernel        : 6.7.0\n",
      "ipywidgets       : 6.0.0\n",
      "jupyter_client   : 7.1.2\n",
      "jupyter_core     : 4.9.1\n",
      "jupyter_server   : not installed\n",
      "jupyterlab       : not installed\n",
      "nbclient         : 0.5.6\n",
      "nbconvert        : 6.4.0\n",
      "nbformat         : 5.1.3\n",
      "notebook         : 6.4.8\n",
      "qtconsole        : not installed\n",
      "traitlets        : 5.1.1\n",
      "-------------------------\n",
      "Package: slack\n",
      "Version: Not available\n",
      "-------------------------\n",
      "Software check completed.\n"
     ]
    },
    {
     "name": "stderr",
     "output_type": "stream",
     "text": [
      "Failed to move to new namespace: PID namespaces supported, Network namespace supported, but failed: errno = Operation not permitted\n"
     ]
    }
   ],
   "source": [
    "%%script bash\n",
    "\n",
    "# Function to check if a command exists\n",
    "command_exists() {\n",
    "  type \"$1\" &> /dev/null\n",
    "}\n",
    "\n",
    "# Function to check and print package status with version\n",
    "check_package() {\n",
    "  package_name=\"$1\"\n",
    "  version_command=\"$2\"\n",
    "  if command_exists \"$package_name\"; then\n",
    "    echo \"Package: $package_name\"\n",
    "    version_info=\"$($version_command)\"\n",
    "    if [ -n \"$version_info\" ]; then\n",
    "      echo \"Version: $version_info\"\n",
    "    else\n",
    "      echo \"Version: Not available\"\n",
    "    fi\n",
    "    echo \"-------------------------\"\n",
    "  else\n",
    "    echo \"$package_name is not installed.\"\n",
    "    echo \"-------------------------\"\n",
    "  fi\n",
    "}\n",
    "\n",
    "echo \"Checking installed software and version information...\"\n",
    "echo \"====================================================\"\n",
    "\n",
    "# Check for Visual Studio Code (VSCode)\n",
    "check_package \"code\" \"code --version\"\n",
    "\n",
    "# Check for Python\n",
    "check_package \"python\" \"python --version 2>&1\"\n",
    "\n",
    "# Check for Google Chrome\n",
    "check_package \"google-chrome\" \"google-chrome --version\"\n",
    "\n",
    "# Check for Jupyter Notebook\n",
    "check_package \"jupyter\" \"jupyter --version\"\n",
    "\n",
    "# Check for Slack\n",
    "check_package \"slack\" \"slack --version\"\n",
    "\n",
    "echo \"Software check completed.\"\n"
   ]
  },
  {
   "cell_type": "code",
   "execution_count": null,
   "id": "b4b48ced",
   "metadata": {},
   "outputs": [],
   "source": []
  }
 ],
 "metadata": {
  "kernelspec": {
   "display_name": "Python 3 (ipykernel)",
   "language": "python",
   "name": "python3"
  },
  "language_info": {
   "codemirror_mode": {
    "name": "ipython",
    "version": 3
   },
   "file_extension": ".py",
   "mimetype": "text/x-python",
   "name": "python",
   "nbconvert_exporter": "python",
   "pygments_lexer": "ipython3",
   "version": "3.10.12"
  }
 },
 "nbformat": 4,
 "nbformat_minor": 5
}
