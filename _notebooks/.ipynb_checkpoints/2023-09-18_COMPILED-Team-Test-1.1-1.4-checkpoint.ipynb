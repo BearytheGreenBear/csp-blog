{
 "cells": [
  {
   "cell_type": "markdown",
   "id": "6a442239",
   "metadata": {},
   "source": [
    "---\n",
    "toc: true\n",
    "comments: false\n",
    "layout: default\n",
    "title: Team Test 1.1-1.4 (Compiled)\n",
    "courses: { csp: {week: 5} }\n",
    "type: hacks\n",
    "---"
   ]
  },
  {
   "cell_type": "markdown",
   "id": "dfbc16b5",
   "metadata": {},
   "source": [
    "## Collaboration Review\n",
    ">What are the benefits of a team? Explain some of the diveristies that your team has to offer.\n",
    "Describe how you will facilitate communication amongst group members.\n",
    "How will you hold each person accountable for their portion of the work? Think about dates, review tickets, and peer revies."
   ]
  }
 ],
 "metadata": {
  "kernelspec": {
   "display_name": "Python 3 (ipykernel)",
   "language": "python",
   "name": "python3"
  },
  "language_info": {
   "codemirror_mode": {
    "name": "ipython",
    "version": 3
   },
   "file_extension": ".py",
   "mimetype": "text/x-python",
   "name": "python",
   "nbconvert_exporter": "python",
   "pygments_lexer": "ipython3",
   "version": "3.9.13"
  }
 },
 "nbformat": 4,
 "nbformat_minor": 5
}
