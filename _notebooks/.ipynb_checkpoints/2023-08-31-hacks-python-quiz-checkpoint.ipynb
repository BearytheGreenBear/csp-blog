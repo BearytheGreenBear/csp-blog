{
 "cells": [
  {
   "cell_type": "markdown",
   "metadata": {},
   "source": [
    "---\n",
    "comments: true\n",
    "layout: post\n",
    "title: Python Quiz (Hack)\n",
    "description: My own Python Quiz :)\n",
    "type: hacks\n",
    "courses: { compsci: {week: 2} }\n",
    "---"
   ]
  },
  {
   "cell_type": "markdown",
   "metadata": {},
   "source": [
    "My quiz thing :D"
   ]
  },
  {
   "cell_type": "code",
   "execution_count": null,
   "metadata": {},
   "outputs": [
    {
     "name": "stdout",
     "output_type": "stream",
     "text": [
      "Ready for a test? How many questions do you want to answer?\n",
      "> 100\n",
      "Question 1. What is 6 - 10?\n",
      "> -4\n",
      "Correct!\n",
      "Question 2. What is 4 * 4?\n",
      "> 16\n",
      "Correct!\n",
      "Question 3. What is 8 - 7?\n",
      "> 1\n",
      "Correct!\n",
      "Question 4. What is 4 // 4?\n",
      "> 1\n",
      "Correct!\n",
      "Question 5. What is 5 * 1?\n",
      "> 5\n",
      "Correct!\n",
      "Question 6. What is 1 // 1?\n",
      "> 1\n",
      "Correct!\n"
     ]
    }
   ],
   "source": [
    "from random import randint\n",
    "\n",
    "rsp = None\n",
    "numOfQuestions = 0\n",
    "# How many questions in the test?\n",
    "while True:\n",
    "    rsp = input(\"Ready for a test? How many questions do you want to answer?\\n> \")\n",
    "    if (rsp.isnumeric and int(rsp) > 0):\n",
    "        numOfQuestions = int(rsp)\n",
    "        rsp = None\n",
    "        break\n",
    "\n",
    "# Go through all questions\n",
    "key = {0: \"+\",\n",
    "        1: \"-\",\n",
    "        2: \"*\",\n",
    "        3: \"//\",\n",
    "        4: \"^\",\n",
    "        5: \"%\",\n",
    "        6: \"AND\",\n",
    "        7: \"OR\",\n",
    "        8: \"XOR\",\n",
    "        9: \"?\"}\n",
    "\n",
    "numCorrect = 0\n",
    "for i in range(1, numOfQuestions+1):\n",
    "    op = 0\n",
    "    A = randint(1, 10)\n",
    "    B = randint(1, 10)\n",
    "    if (1 <= i <= 5):\n",
    "        op = randint(0, 3)\n",
    "    elif (6 <= i <= 10):\n",
    "        op = randint(0, 5)\n",
    "    elif (11 <= i <= 15):\n",
    "        op = randint(0, 8)\n",
    "    else:\n",
    "        op = 9\n",
    "    rsp = input(f\"Question {i}. What is {A} {key[op]} {B}?\\n> \")\n",
    "    if ((not rsp.strip(\"-\").isnumeric()) or op == 9):\n",
    "        print(\"Wrong!\")\n",
    "        continue\n",
    "    ans = 0\n",
    "    if (op == 0): ans = A+B\n",
    "    if (op == 1): ans = A-B\n",
    "    if (op == 2): ans = A*B\n",
    "    if (op == 3): ans = A//B\n",
    "    if (op == 4): ans = A**B\n",
    "    if (op == 5): ans = A%B\n",
    "    if (op == 6): ans = A&B\n",
    "    if (op == 7): ans = A|B\n",
    "    if (op == 8): ans = A^B\n",
    "    if (ans != int(rsp)):\n",
    "        print(\"Wrong!\")\n",
    "    else:\n",
    "        print(\"Correct!\")\n",
    "        numCorrect += 1\n",
    "print(f\"You got {numCorrect}/{numOfQuestions} or %{numCorrect/numOfQuestions * 100}\")\n",
    "\n",
    "\n"
   ]
  },
  {
   "cell_type": "code",
   "execution_count": null,
   "metadata": {},
   "outputs": [],
   "source": []
  },
  {
   "cell_type": "code",
   "execution_count": null,
   "metadata": {},
   "outputs": [],
   "source": []
  },
  {
   "cell_type": "code",
   "execution_count": null,
   "metadata": {},
   "outputs": [],
   "source": []
  }
 ],
 "metadata": {
  "kernelspec": {
   "display_name": "Python 3 (ipykernel)",
   "language": "python",
   "name": "python3"
  },
  "language_info": {
   "codemirror_mode": {
    "name": "ipython",
    "version": 3
   },
   "file_extension": ".py",
   "mimetype": "text/x-python",
   "name": "python",
   "nbconvert_exporter": "python",
   "pygments_lexer": "ipython3",
   "version": "3.10.12"
  }
 },
 "nbformat": 4,
 "nbformat_minor": 2
}
