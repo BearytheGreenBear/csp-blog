{
 "cells": [
  {
   "cell_type": "markdown",
   "id": "a9cc843a",
   "metadata": {},
   "source": [
    "https://www.canva.com/design/DAFvBqcU3NM/X3n9oiOzy1dLxmL7grUibA/edit?utm_content=DAFvBqcU3NM&utm_campaign=designshare&utm_medium=link2&utm_source=sharebutton"
   ]
  },
  {
   "cell_type": "code",
   "execution_count": 5,
   "id": "d6019c9e",
   "metadata": {},
   "outputs": [],
   "source": [
    "from queue import Queue\n",
    "\n",
    "# All cities\n",
    "# SD - San Diego\n",
    "# SF - San Francisco\n",
    "# LA - Los Angeles\n",
    "# LV - Los Vegas\n",
    "# HO - Honolulu\n",
    "# MA - Maui\n",
    "# NY - New York City\n",
    "# BO - Boston\n",
    "# DC - Washington D.C.\n",
    "# LO - London\n",
    "\n",
    "cities = [\"SD\", \"SF\", \"LA\", \"LV\", \"HO\", \"MA\", \"NY\", \"BO\", \"DC\", \"LO\"]\n",
    "\n",
    "adjList = {\n",
    "    \"SD\": [\"SF\", \"LA\", \"NY\", \"HO\"],\n",
    "    \"SF\": [\"LA\"],\n",
    "    \"LA\": [\"LV\"],\n",
    "    \"HO\": [\"MA\"],\n",
    "    \"NY\": [\"BO\", \"DC\"],\n",
    "    \"DC\": [\"LO\"]\n",
    "}\n",
    "\n",
    "seen = dict()\n",
    "depth = dict()\n",
    "\n",
    "\n",
    "def initalize():\n",
    "    for city in cities:\n",
    "        if city not in adjList.keys():\n",
    "            adjList[city] = []\n",
    "        seen[city] = False\n",
    "        depth[city] = 0\n",
    "\n",
    "def BFS(node, curDepth):\n",
    "    if seen[node]:\n",
    "        return\n",
    "    seen[node] = True\n",
    "    depth[node] = curDepth\n",
    "    for child in adjList[node]:\n",
    "        BFS(child, curDepth+1)\n",
    "\n",
    "for i in adjList[\"LO\"]:\n",
    "    print(i)\n",
    "# BFS(\"SA\", 0)\n",
    "        \n",
    "    "
   ]
  },
  {
   "cell_type": "code",
   "execution_count": null,
   "id": "f9a6b68c",
   "metadata": {},
   "outputs": [],
   "source": []
  }
 ],
 "metadata": {
  "kernelspec": {
   "display_name": "Python 3 (ipykernel)",
   "language": "python",
   "name": "python3"
  },
  "language_info": {
   "codemirror_mode": {
    "name": "ipython",
    "version": 3
   },
   "file_extension": ".py",
   "mimetype": "text/x-python",
   "name": "python",
   "nbconvert_exporter": "python",
   "pygments_lexer": "ipython3",
   "version": "3.10.12"
  }
 },
 "nbformat": 4,
 "nbformat_minor": 5
}
