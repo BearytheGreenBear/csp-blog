{
 "cells": [
  {
   "cell_type": "markdown",
   "metadata": {},
   "source": [
    "https://www.canva.com/design/DAFvBqcU3NM/X3n9oiOzy1dLxmL7grUibA/edit?utm_content=DAFvBqcU3NM&utm_campaign=designshare&utm_medium=link2&utm_source=sharebutton"
   ]
  },
  {
   "cell_type": "code",
   "execution_count": 15,
   "metadata": {},
   "outputs": [
    {
     "ename": "SyntaxError",
     "evalue": "invalid syntax (<ipython-input-15-4990b188467f>, line 59)",
     "output_type": "error",
     "traceback": [
      "\u001b[1;36m  File \u001b[1;32m\"<ipython-input-15-4990b188467f>\"\u001b[1;36m, line \u001b[1;32m59\u001b[0m\n\u001b[1;33m    print(f\"The minimum number of flights from {root}\")\u001b[0m\n\u001b[1;37m                                                     ^\u001b[0m\n\u001b[1;31mSyntaxError\u001b[0m\u001b[1;31m:\u001b[0m invalid syntax\n"
     ]
    }
   ],
   "source": [
    "from queue import Queue\n",
    "\n",
    "# All cities\n",
    "# SD - San Diego\n",
    "# SF - San Francisco\n",
    "# LA - Los Angeles\n",
    "# LV - Los Vegas\n",
    "# HO - Honolulu\n",
    "# MA - Maui\n",
    "# NY - New York City\n",
    "# BO - Boston\n",
    "# DC - Washington D.C.\n",
    "# LO - London\n",
    "\n",
    "cities = [\"SD\", \"SF\", \"LA\", \"LV\", \"HO\", \"MA\", \"NY\", \"BO\", \"DC\", \"LO\"]\n",
    "flights = [\n",
    "    (\"SD\", \"SF\"),\n",
    "    (\"SD\", \"LA\"),\n",
    "    (\"SD\", \"HO\"),\n",
    "    (\"HO\", \"MA\"),\n",
    "    (\"SD\", \"NY\"),\n",
    "    (\"LA\", \"LV\"),\n",
    "    (\"NY\", \"BO\"),\n",
    "    (\"NY\", \"DC\"),\n",
    "    (\"DC\", \"LO\")\n",
    "]\n",
    "\n",
    "adjList = dict()\n",
    "seen = dict()\n",
    "dist = dict()\n",
    "\n",
    "\n",
    "def initialize():\n",
    "    for city in cities:\n",
    "        adjList[city] = []\n",
    "        seen[city] = False\n",
    "        depth[city] = 0\n",
    "    for u, v in flights:\n",
    "        adjList[u].append(v)\n",
    "        adjList[v].append(u)\n",
    "\n",
    "        \n",
    "def BFS(node, curDepth):\n",
    "    if seen[node]:\n",
    "        return\n",
    "    seen[node] = True\n",
    "    dist[node] = curDepth\n",
    "    for child in adjList[node]:\n",
    "        BFS(child, curDepth+1)\n",
    "        \n",
    "        \n",
    "def display():\n",
    "    root = \"SD\"\n",
    "    for city in cities:\n",
    "        if dist[city] == 0:\n",
    "            root = city\n",
    "            break\n",
    "    for city in cities:\n",
    "        print(f\"The minimum number of flights from {root}\")\n",
    "        \n",
    "\n",
    "# Main Code\n",
    "initialize()\n",
    "BFS(\"SD\", 0)\n",
    "display()\n",
    "    "
   ]
  },
  {
   "cell_type": "code",
   "execution_count": null,
   "metadata": {},
   "outputs": [],
   "source": []
  }
 ],
 "metadata": {
  "kernelspec": {
   "display_name": "Python 2",
   "language": "python",
   "name": "python2"
  },
  "language_info": {
   "codemirror_mode": {
    "name": "ipython",
    "version": 2
   },
   "file_extension": ".py",
   "mimetype": "text/x-python",
   "name": "python",
   "nbconvert_exporter": "python",
   "pygments_lexer": "ipython2",
   "version": "2.7.16"
  }
 },
 "nbformat": 4,
 "nbformat_minor": 5
}
