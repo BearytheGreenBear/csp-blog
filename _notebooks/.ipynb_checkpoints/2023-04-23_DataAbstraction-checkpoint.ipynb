{
 "cells": [
  {
   "cell_type": "code",
   "execution_count": null,
   "id": "49e3501d",
   "metadata": {},
   "outputs": [],
   "source": [
    "string = \"Oranges\"\n",
    "print(string)"
   ]
  },
  {
   "cell_type": "code",
   "execution_count": null,
   "id": "16eeffa3",
   "metadata": {},
   "outputs": [],
   "source": [
    "num = 88\n",
    "string = \"qwerty\"\n",
    "bool = False"
   ]
  },
  {
   "cell_type": "code",
   "execution_count": 1,
   "id": "fc1c9791",
   "metadata": {},
   "outputs": [
    {
     "name": "stdout",
     "output_type": "stream",
     "text": [
      "2 2 2\n"
     ]
    }
   ],
   "source": [
    "A = 0\n",
    "B = 1\n",
    "C = 2\n",
    "A = B = C\n",
    "print(A, B, C)"
   ]
  },
  {
   "cell_type": "code",
   "execution_count": 2,
   "id": "7cf9647f",
   "metadata": {},
   "outputs": [
    {
     "name": "stdout",
     "output_type": "stream",
     "text": [
      "49\n"
     ]
    }
   ],
   "source": [
    "myList = [i**2 for i in range(100)]\n",
    "print(myList[7]) # 49"
   ]
  },
  {
   "cell_type": "code",
   "execution_count": 3,
   "id": "4662988f",
   "metadata": {},
   "outputs": [],
   "source": [
    "people = {\n",
    "    \"Bruh\": 1;\n",
    "}"
   ]
  },
  {
   "cell_type": "code",
   "execution_count": 4,
   "id": "a7ecb26f",
   "metadata": {},
   "outputs": [
    {
     "name": "stdout",
     "output_type": "stream",
     "text": [
      "\"{'Bob': 1, 'Alice': 2, 'Malala': 3}\"\n"
     ]
    }
   ],
   "source": [
    "import json\n",
    "string = \"{'Bob': 1, 'Alice': 2, 'Malala': 3}\"\n",
    "json_obj = json.dumps(string)\n",
    "print(json_obj)"
   ]
  },
  {
   "cell_type": "markdown",
   "id": "8fd84881",
   "metadata": {},
   "source": [
    "### Homework"
   ]
  },
  {
   "cell_type": "code",
   "execution_count": 12,
   "id": "b79c4c82",
   "metadata": {},
   "outputs": [
    {
     "name": "stdout",
     "output_type": "stream",
     "text": [
      "name:\tKyle Liang\n",
      "age:\t15\n",
      "isStudent:\tTrue\n",
      "books:\t['Sapiens', 'Twelve Rules For Life', '1984']\n"
     ]
    }
   ],
   "source": [
    "def displayData(data):\n",
    "    for key, val in person.items():\n",
    "        print(f\"{key}:\\t{val}\")\n",
    "\n",
    "myDict = {\n",
    "    \"name\": \"Kyle Liang\",\n",
    "    \"age\": 15,\n",
    "    \"student\": True,\n",
    "    \"books\": [\"Sapiens\", \"Twelve Rules For Life\", \"1984\"]\n",
    "}\n",
    "\n",
    "displayData(myDict)\n",
    "\n"
   ]
  },
  {
   "cell_type": "code",
   "execution_count": null,
   "id": "f702a21c",
   "metadata": {},
   "outputs": [],
   "source": []
  }
 ],
 "metadata": {
  "kernelspec": {
   "display_name": "Python 3 (ipykernel)",
   "language": "python",
   "name": "python3"
  },
  "language_info": {
   "codemirror_mode": {
    "name": "ipython",
    "version": 3
   },
   "file_extension": ".py",
   "mimetype": "text/x-python",
   "name": "python",
   "nbconvert_exporter": "python",
   "pygments_lexer": "ipython3",
   "version": "3.10.12"
  }
 },
 "nbformat": 4,
 "nbformat_minor": 5
}
