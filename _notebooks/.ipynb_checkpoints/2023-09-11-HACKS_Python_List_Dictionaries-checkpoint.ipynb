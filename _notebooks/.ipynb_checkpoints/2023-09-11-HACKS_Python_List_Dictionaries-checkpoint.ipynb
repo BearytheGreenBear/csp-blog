{
 "cells": [
  {
   "cell_type": "markdown",
   "id": "50faae94",
   "metadata": {},
   "source": [
    "---\n",
    "toc: true\n",
    "comments: true\n",
    "layout: default\n",
    "title: HACK Python Lists and Dictionaries\n",
    "description: Build on Mr. Mortensen's database on people and cars.\n",
    "courses: { csp: {week: 4} }\n",
    "type: hacks\n",
    "---"
   ]
  },
  {
   "cell_type": "markdown",
   "id": "e5b9ec85",
   "metadata": {},
   "source": [
    "## Initalization\n",
    "Create functions that will help with user input/manipulation. Similar code to the Tech Talk."
   ]
  },
  {
   "cell_type": "code",
   "execution_count": 1,
   "id": "4b5e57ee",
   "metadata": {},
   "outputs": [],
   "source": [
    "# Define an empty List called InfoDb\n",
    "InfoDb = []\n",
    "\n",
    "# InfoDB is a data structure with expected Keys and Values\n",
    "\n",
    "# Sample Dictionary to Append to InfoDB\n",
    "sample_dict = {\n",
    "    \"FirstName\": \"N/A\",\n",
    "    \"LastName\": \"N/A\",\n",
    "    \"DOB\": \"N/A\",\n",
    "    \"Residence\": \"N/A\",\n",
    "    \"Email\": \"N/A\",\n",
    "    \"Owns_Cars\": []\n",
    "}\n",
    "\n",
    "# Append to List a Dictionary of key/values related to a person and cars (from user input)\n",
    "def db_append():\n",
    "    print(\"~~~Create New Entry~~~\")\n",
    "    current_dict = sample_dict.copy()\n",
    "    # First Name\n",
    "    current_dict[\"FirstName\"] = input(\"First Name\\n> \")\n",
    "    # Last Name\n",
    "    current_dict[\"LastName\"] = input(\"Last Name\\n> \")\n",
    "    # DOB\n",
    "    current_dict[\"DOB\"] = input(\"Date of Birth\\nExample Format: October 21 or July 4\\n> \")\n",
    "    # Residence\n",
    "    current_dict[\"Residence\"] = input(\"Residence City\\n> \")\n",
    "    # Email\n",
    "    current_dict[\"Email\"] = input(\"Email\\n> \")\n",
    "    num_of_cars = input(\"How many cars do you have?\\n> \")\n",
    "    if (num_of_cars.isnumeric()):\n",
    "        for _ in range(int(num_of_cars)):\n",
    "            current_dict[\"Owns_Cars\"].append(input(\"Car\\nExample Format: 2015-Fusion or 1969-Cadillac\\n> \"))\n",
    "    InfoDb.append(current_dict)\n",
    "    \n",
    "# Display data with formatting with a for-loop\n",
    "def print_data():\n",
    "    print(\"~~~Data Base~~~\\n\")\n",
    "    for record in InfoDb:\n",
    "        print(record[\"FirstName\"], record[\"LastName\"])  # using comma puts space between values\n",
    "        print(\"\\t\", \"Residence:\", record[\"Residence\"]) # \\t is a tab indent\n",
    "        print(\"\\t\", \"Birth Day:\", record[\"DOB\"])\n",
    "        print(\"\\t\", \"Cars: \", end=\"\")  # end=\"\" make sure no return occurs\n",
    "        print(\", \".join(record[\"Owns_Cars\"]))  # join allows printing a string list with separator\n",
    "        print()"
   ]
  },
  {
   "cell_type": "markdown",
   "id": "6131906f",
   "metadata": {},
   "source": [
    "## Interaction with Database"
   ]
  },
  {
   "cell_type": "code",
   "execution_count": 2,
   "id": "f98ff998",
   "metadata": {},
   "outputs": [
    {
     "name": "stdout",
     "output_type": "stream",
     "text": [
      "Commands to interact with the database\n",
      "help - List of all commands\n",
      "append - Create and append new entry to the database\n",
      "print - Display the entire database\n",
      "> append\n",
      "~~~Create New Entry~~~\n",
      "First Name\n",
      "> Kyle\n",
      "Last Name\n",
      "> Liang\n",
      "Date of Birth\n",
      "Example Format: October 21 or July 4\n",
      "> August 17\n",
      "Residence City\n",
      "> San Dieog\n",
      "Email\n",
      "> bruh@bruh.com\n",
      "How many cars do you have?\n",
      "> 2\n",
      "Car\n",
      "Example Format: 2015-Fusion or 1969-Cadillac\n",
      "> 9911-Ford\n",
      "Car\n",
      "Example Format: 2015-Fusion or 1969-Cadillac\n",
      "> Bruhmobile\n",
      "> print\n",
      "~~~Data Base~~~\n",
      "\n"
     ]
    },
    {
     "ename": "NameError",
     "evalue": "name 'd_rec' is not defined",
     "output_type": "error",
     "traceback": [
      "\u001b[0;31m---------------------------------------------------------------------------\u001b[0m",
      "\u001b[0;31mNameError\u001b[0m                                 Traceback (most recent call last)",
      "\u001b[0;32m/tmp/ipykernel_935/1563295883.py\u001b[0m in \u001b[0;36m<module>\u001b[0;34m\u001b[0m\n\u001b[1;32m     11\u001b[0m         \u001b[0mdb_append\u001b[0m\u001b[0;34m(\u001b[0m\u001b[0;34m)\u001b[0m\u001b[0;34m\u001b[0m\u001b[0;34m\u001b[0m\u001b[0m\n\u001b[1;32m     12\u001b[0m     \u001b[0;32mif\u001b[0m \u001b[0;34m(\u001b[0m\u001b[0minp\u001b[0m \u001b[0;34m==\u001b[0m \u001b[0;34m\"print\"\u001b[0m\u001b[0;34m)\u001b[0m\u001b[0;34m:\u001b[0m\u001b[0;34m\u001b[0m\u001b[0;34m\u001b[0m\u001b[0m\n\u001b[0;32m---> 13\u001b[0;31m         \u001b[0mprint_data\u001b[0m\u001b[0;34m(\u001b[0m\u001b[0;34m)\u001b[0m\u001b[0;34m\u001b[0m\u001b[0;34m\u001b[0m\u001b[0m\n\u001b[0m\u001b[1;32m     14\u001b[0m     \u001b[0minp\u001b[0m \u001b[0;34m=\u001b[0m \u001b[0minput\u001b[0m\u001b[0;34m(\u001b[0m\u001b[0;34m\"> \"\u001b[0m\u001b[0;34m)\u001b[0m\u001b[0;34m\u001b[0m\u001b[0;34m\u001b[0m\u001b[0m\n\u001b[1;32m     15\u001b[0m \u001b[0;34m\u001b[0m\u001b[0m\n",
      "\u001b[0;32m/tmp/ipykernel_935/2275417526.py\u001b[0m in \u001b[0;36mprint_data\u001b[0;34m()\u001b[0m\n\u001b[1;32m     38\u001b[0m     \u001b[0mprint\u001b[0m\u001b[0;34m(\u001b[0m\u001b[0;34m\"~~~Data Base~~~\\n\"\u001b[0m\u001b[0;34m)\u001b[0m\u001b[0;34m\u001b[0m\u001b[0;34m\u001b[0m\u001b[0m\n\u001b[1;32m     39\u001b[0m     \u001b[0;32mfor\u001b[0m \u001b[0mrecord\u001b[0m \u001b[0;32min\u001b[0m \u001b[0mInfoDb\u001b[0m\u001b[0;34m:\u001b[0m\u001b[0;34m\u001b[0m\u001b[0;34m\u001b[0m\u001b[0m\n\u001b[0;32m---> 40\u001b[0;31m         \u001b[0mprint\u001b[0m\u001b[0;34m(\u001b[0m\u001b[0md_rec\u001b[0m\u001b[0;34m[\u001b[0m\u001b[0;34m\"FirstName\"\u001b[0m\u001b[0;34m]\u001b[0m\u001b[0;34m,\u001b[0m \u001b[0md_rec\u001b[0m\u001b[0;34m[\u001b[0m\u001b[0;34m\"LastName\"\u001b[0m\u001b[0;34m]\u001b[0m\u001b[0;34m)\u001b[0m  \u001b[0;31m# using comma puts space between values\u001b[0m\u001b[0;34m\u001b[0m\u001b[0;34m\u001b[0m\u001b[0m\n\u001b[0m\u001b[1;32m     41\u001b[0m         \u001b[0mprint\u001b[0m\u001b[0;34m(\u001b[0m\u001b[0;34m\"\\t\"\u001b[0m\u001b[0;34m,\u001b[0m \u001b[0;34m\"Residence:\"\u001b[0m\u001b[0;34m,\u001b[0m \u001b[0md_rec\u001b[0m\u001b[0;34m[\u001b[0m\u001b[0;34m\"Residence\"\u001b[0m\u001b[0;34m]\u001b[0m\u001b[0;34m)\u001b[0m \u001b[0;31m# \\t is a tab indent\u001b[0m\u001b[0;34m\u001b[0m\u001b[0;34m\u001b[0m\u001b[0m\n\u001b[1;32m     42\u001b[0m         \u001b[0mprint\u001b[0m\u001b[0;34m(\u001b[0m\u001b[0;34m\"\\t\"\u001b[0m\u001b[0;34m,\u001b[0m \u001b[0;34m\"Birth Day:\"\u001b[0m\u001b[0;34m,\u001b[0m \u001b[0md_rec\u001b[0m\u001b[0;34m[\u001b[0m\u001b[0;34m\"DOB\"\u001b[0m\u001b[0;34m]\u001b[0m\u001b[0;34m)\u001b[0m\u001b[0;34m\u001b[0m\u001b[0;34m\u001b[0m\u001b[0m\n",
      "\u001b[0;31mNameError\u001b[0m: name 'd_rec' is not defined"
     ]
    }
   ],
   "source": [
    "inp = \"help\"\n",
    "msg = [\n",
    "    \"Commands to interact with the database\",\n",
    "    \"help - List of all commands\",\n",
    "    \"append - Create and append new entry to the database\",\n",
    "    \"print - Display the entire database\"]\n",
    "while (True):\n",
    "    if (inp == \"help\"):\n",
    "        for v in msg: print(v)\n",
    "    if (inp == \"append\"):\n",
    "        db_append()\n",
    "    if (inp == \"print\"):\n",
    "        print_data()\n",
    "    inp = input(\"> \")\n",
    "    "
   ]
  },
  {
   "cell_type": "code",
   "execution_count": null,
   "id": "26c3e970",
   "metadata": {},
   "outputs": [],
   "source": []
  }
 ],
 "metadata": {
  "kernelspec": {
   "display_name": "Python 3 (ipykernel)",
   "language": "python",
   "name": "python3"
  },
  "language_info": {
   "codemirror_mode": {
    "name": "ipython",
    "version": 3
   },
   "file_extension": ".py",
   "mimetype": "text/x-python",
   "name": "python",
   "nbconvert_exporter": "python",
   "pygments_lexer": "ipython3",
   "version": "3.10.12"
  }
 },
 "nbformat": 4,
 "nbformat_minor": 5
}
