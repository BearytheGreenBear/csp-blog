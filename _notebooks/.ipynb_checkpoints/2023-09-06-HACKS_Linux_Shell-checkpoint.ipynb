{
 "cells": [
  {
   "cell_type": "code",
   "execution_count": 17,
   "id": "04d5f9ea",
   "metadata": {},
   "outputs": [
    {
     "name": "stdout",
     "output_type": "stream",
     "text": [
      "Checking installed software and version information...\n",
      "====================================================\n",
      "Package: Operating System (Not Installed)\n",
      "-------------------------\n",
      "Package: Kernel (Not Installed)\n",
      "-------------------------\n",
      "Package: Bash (Not Installed)\n",
      "-------------------------\n",
      "Package: Python (Not Installed)\n",
      "-------------------------\n",
      "Package: Node.js (Not Installed)\n",
      "-------------------------\n",
      "Package: Docker (Not Installed)\n",
      "-------------------------\n",
      "Software information check completed.\n"
     ]
    }
   ],
   "source": [
    "%%script bash\n",
    "\n",
    "# Function to get version information for a package\n",
    "get_version_info() {\n",
    "  package_name=\"$1\"\n",
    "  version_command=\"$2\"\n",
    "  if command_exists \"$version_command\"; then\n",
    "    version_info=\"$($version_command)\"\n",
    "    echo \"Package: $package_name\"\n",
    "    echo \"Version: $version_info\"\n",
    "    echo \"-------------------------\"\n",
    "  else\n",
    "    echo \"Package: $package_name (Not Installed)\"\n",
    "    echo \"-------------------------\"\n",
    "  fi\n",
    "}\n",
    "\n",
    "echo \"Checking installed software and version information...\"\n",
    "echo \"====================================================\"\n",
    "\n",
    "# List of packages and their respective version check commands\n",
    "# Add or modify entries as needed\n",
    "packages=(\n",
    "  \"Operating System\" \"cat /etc/os-release\"\n",
    "  \"Kernel\" \"uname -r\"\n",
    "  \"Bash\" \"bash --version\"\n",
    "  \"Python\" \"python --version \"\n",
    "  \"Node.js\" \"node --version\"\n",
    "  \"Docker\" \"docker --version\"\n",
    ")\n",
    "\n",
    "# Loop through the list and retrieve version information\n",
    "for ((i = 0; i < ${#packages[@]}; i += 2)); do\n",
    "  package_name=\"${packages[i]}\"\n",
    "  version_command=\"${packages[i + 1]}\"\n",
    "  get_version_info (\"$package_name\" \"$version_command\")\n",
    "done\n",
    "\n",
    "echo \"Software information check completed.\""
   ]
  },
  {
   "cell_type": "code",
   "execution_count": null,
   "id": "a15ac65c",
   "metadata": {},
   "outputs": [],
   "source": []
  },
  {
   "cell_type": "markdown",
   "id": "c4d04ce1",
   "metadata": {},
   "source": [
    "## Check Tools"
   ]
  },
  {
   "cell_type": "code",
   "execution_count": null,
   "id": "23cdb78d",
   "metadata": {},
   "outputs": [],
   "source": []
  }
 ],
 "metadata": {
  "kernelspec": {
   "display_name": "Python 3 (ipykernel)",
   "language": "python",
   "name": "python3"
  },
  "language_info": {
   "codemirror_mode": {
    "name": "ipython",
    "version": 3
   },
   "file_extension": ".py",
   "mimetype": "text/x-python",
   "name": "python",
   "nbconvert_exporter": "python",
   "pygments_lexer": "ipython3",
   "version": "3.10.12"
  }
 },
 "nbformat": 4,
 "nbformat_minor": 5
}
