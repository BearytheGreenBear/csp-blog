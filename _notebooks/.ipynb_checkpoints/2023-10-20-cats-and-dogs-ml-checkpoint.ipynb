{
 "cells": [
  {
   "cell_type": "markdown",
   "metadata": {
    "id": "MhoQ0WE77laV"
   },
   "source": [
    "---\n",
    "toc: false\n",
    "comments: true\n",
    "layout: post\n",
    "title: Cats and Dogs (ML)\n",
    "description: Yay\n",
    "courses: { compsci: {week: 8} }\n",
    "type: tangibles\n",
    "---"
   ]
  },
  {
   "cell_type": "markdown",
   "metadata": {},
   "source": [
    "### 1. Install Required Libraries And Import\n",
    "\n",
    "https://chat.openai.com/share/e42d217a-6bc8-4b45-b138-d217427e00ff"
   ]
  },
  {
   "cell_type": "code",
   "execution_count": 1,
   "metadata": {},
   "outputs": [
    {
     "ename": "SyntaxError",
     "evalue": "invalid syntax (2504648293.py, line 1)",
     "output_type": "error",
     "traceback": [
      "\u001b[1;36m  File \u001b[1;32m\"C:\\Users\\liang\\AppData\\Local\\Temp\\ipykernel_23132\\2504648293.py\"\u001b[1;36m, line \u001b[1;32m1\u001b[0m\n\u001b[1;33m    pip install tensorflow\u001b[0m\n\u001b[1;37m        ^\u001b[0m\n\u001b[1;31mSyntaxError\u001b[0m\u001b[1;31m:\u001b[0m invalid syntax\n"
     ]
    }
   ],
   "source": [
    "pip install tensorflow\n",
    "pip install tensorflow-datasets\n",
    "\n",
    "# https://github.com/tensorflow/datasets/issues/5097\n",
    "# pip install --upgrade --force-reinstall tfds-nightly\n"
   ]
  },
  {
   "cell_type": "code",
   "execution_count": 13,
   "metadata": {
    "scrolled": true
   },
   "outputs": [],
   "source": [
    "import tensorflow as tf\n",
    "import tensorflow_datasets as tfds\n",
    "from tensorflow.keras import layers, models\n",
    "import numpy as np\n",
    "from PIL import Image"
   ]
  },
  {
   "cell_type": "markdown",
   "metadata": {},
   "source": [
    "### 2. Load \"cats_vs_dogs\" Dataset"
   ]
  },
  {
   "cell_type": "code",
   "execution_count": 7,
   "metadata": {},
   "outputs": [],
   "source": [
    "# Load the \"cats_vs_dogs\" dataset\n",
    "dataset, info = tfds.load(\"cats_vs_dogs\", split=\"train[:80%]\", with_info=True, as_supervised=True)\n",
    "\n",
    "# Split the dataset into training and testing sets\n",
    "train_dataset = dataset\n",
    "test_dataset = tfds.load(\"cats_vs_dogs\", split=\"train[80%:]\", as_supervised=True)\n",
    "\n",
    "# Preprocess and batch the data\n",
    "def preprocess_image(image, label):\n",
    "    image = tf.image.resize(image, (150, 150))\n",
    "    image = tf.image.per_image_standardization(image)\n",
    "    return image, label\n",
    "\n",
    "BATCH_SIZE = 32\n",
    "train_dataset = train_dataset.map(preprocess_image).batch(BATCH_SIZE)\n",
    "test_dataset = test_dataset.map(preprocess_image).batch(BATCH_SIZE)\n",
    "\n",
    "# Initialize empty lists for train and test labels\n",
    "train_labels = []\n",
    "test_labels = []\n",
    "\n",
    "# Iterate through the training dataset and collect labels\n",
    "for image, label in train_dataset:\n",
    "    train_labels.extend(label.numpy())\n",
    "\n",
    "# Iterate through the test dataset and collect labels\n",
    "for image, label in test_dataset:\n",
    "    test_labels.extend(label.numpy())"
   ]
  },
  {
   "cell_type": "markdown",
   "metadata": {},
   "source": [
    "### 3. Build the Model\n",
    "Convolution Neural Network (CNN)"
   ]
  },
  {
   "cell_type": "code",
   "execution_count": 8,
   "metadata": {},
   "outputs": [],
   "source": [
    "model = models.Sequential([\n",
    "    layers.Conv2D(32, (3, 3), activation='relu', input_shape=(150, 150, 3)),\n",
    "    layers.MaxPooling2D((2, 2)),\n",
    "    layers.Conv2D(64, (3, 3), activation='relu'),\n",
    "    layers.MaxPooling2D((2, 2)),\n",
    "    layers.Conv2D(128, (3, 3), activation='relu'),\n",
    "    layers.MaxPooling2D((2, 2)),\n",
    "    layers.Flatten(),\n",
    "    layers.Dense(128, activation='relu'),\n",
    "    layers.Dense(1, activation='sigmoid')\n",
    "])\n",
    "\n",
    "model.compile(optimizer='adam', loss='binary_crossentropy', metrics=['accuracy'])\n"
   ]
  },
  {
   "cell_type": "markdown",
   "metadata": {},
   "source": [
    "### 4. Train the Model"
   ]
  },
  {
   "cell_type": "code",
   "execution_count": 10,
   "metadata": {},
   "outputs": [
    {
     "name": "stdout",
     "output_type": "stream",
     "text": [
      "Epoch 1/10\n",
      "582/582 [==============================] - 238s 407ms/step - loss: 0.5898 - accuracy: 0.6812 - val_loss: 0.5149 - val_accuracy: 0.7377\n",
      "Epoch 2/10\n",
      "582/582 [==============================] - 249s 428ms/step - loss: 0.4435 - accuracy: 0.7902 - val_loss: 0.4594 - val_accuracy: 0.7741\n",
      "Epoch 3/10\n",
      "582/582 [==============================] - 259s 446ms/step - loss: 0.3612 - accuracy: 0.8393 - val_loss: 0.4289 - val_accuracy: 0.7964\n",
      "Epoch 4/10\n",
      "582/582 [==============================] - 251s 432ms/step - loss: 0.2738 - accuracy: 0.8846 - val_loss: 0.4849 - val_accuracy: 0.7889\n",
      "Epoch 5/10\n",
      "582/582 [==============================] - 257s 442ms/step - loss: 0.2020 - accuracy: 0.9188 - val_loss: 0.4994 - val_accuracy: 0.8022\n",
      "Epoch 6/10\n",
      "582/582 [==============================] - 255s 439ms/step - loss: 0.1600 - accuracy: 0.9362 - val_loss: 0.6196 - val_accuracy: 0.8031\n",
      "Epoch 7/10\n",
      "582/582 [==============================] - 250s 430ms/step - loss: 0.1046 - accuracy: 0.9597 - val_loss: 0.8221 - val_accuracy: 0.7966\n",
      "Epoch 8/10\n",
      "582/582 [==============================] - 259s 445ms/step - loss: 0.0744 - accuracy: 0.9714 - val_loss: 0.9190 - val_accuracy: 0.8093\n",
      "Epoch 9/10\n",
      "582/582 [==============================] - 257s 442ms/step - loss: 0.0615 - accuracy: 0.9782 - val_loss: 0.8191 - val_accuracy: 0.8115\n",
      "Epoch 10/10\n",
      "582/582 [==============================] - 258s 444ms/step - loss: 0.0462 - accuracy: 0.9839 - val_loss: 1.0149 - val_accuracy: 0.8052\n"
     ]
    }
   ],
   "source": [
    "history = model.fit(train_dataset, epochs=10, validation_data=test_dataset)"
   ]
  },
  {
   "cell_type": "markdown",
   "metadata": {},
   "source": [
    "### 5. Evaluate the Model"
   ]
  },
  {
   "cell_type": "code",
   "execution_count": 12,
   "metadata": {},
   "outputs": [
    {
     "name": "stdout",
     "output_type": "stream",
     "text": [
      "146/146 [==============================] - 9s 62ms/step - loss: 1.0149 - accuracy: 0.8052\n",
      "Test accuracy: 0.805245041847229\n"
     ]
    }
   ],
   "source": [
    "test_loss, test_accuracy = model.evaluate(test_dataset)\n",
    "print(f'Test accuracy: {test_accuracy}')"
   ]
  },
  {
   "cell_type": "code",
   "execution_count": 22,
   "metadata": {},
   "outputs": [],
   "source": [
    "# Save the entire model in the native Keras format\n",
    "model.save('my_model.keras')"
   ]
  },
  {
   "cell_type": "code",
   "execution_count": 29,
   "metadata": {},
   "outputs": [
    {
     "ename": "ValueError",
     "evalue": "setting an array element with a sequence. The requested array has an inhomogeneous shape after 3 dimensions. The detected shape was (8, 150, 150) + inhomogeneous part.",
     "output_type": "error",
     "traceback": [
      "\u001b[1;31m---------------------------------------------------------------------------\u001b[0m",
      "\u001b[1;31mValueError\u001b[0m                                Traceback (most recent call last)",
      "\u001b[1;32m~\\AppData\\Local\\Temp\\ipykernel_23132\\2975205521.py\u001b[0m in \u001b[0;36m<module>\u001b[1;34m\u001b[0m\n\u001b[0;32m     24\u001b[0m \u001b[1;33m\u001b[0m\u001b[0m\n\u001b[0;32m     25\u001b[0m \u001b[1;31m# Convert the new images to a NumPy array\u001b[0m\u001b[1;33m\u001b[0m\u001b[1;33m\u001b[0m\u001b[0m\n\u001b[1;32m---> 26\u001b[1;33m \u001b[0mnew_images\u001b[0m \u001b[1;33m=\u001b[0m \u001b[0mnp\u001b[0m\u001b[1;33m.\u001b[0m\u001b[0marray\u001b[0m\u001b[1;33m(\u001b[0m\u001b[0mnew_images\u001b[0m\u001b[1;33m)\u001b[0m\u001b[1;33m\u001b[0m\u001b[1;33m\u001b[0m\u001b[0m\n\u001b[0m\u001b[0;32m     27\u001b[0m \u001b[1;33m\u001b[0m\u001b[0m\n\u001b[0;32m     28\u001b[0m \u001b[1;31m# Display the preprocessed images\u001b[0m\u001b[1;33m\u001b[0m\u001b[1;33m\u001b[0m\u001b[0m\n",
      "\u001b[1;31mValueError\u001b[0m: setting an array element with a sequence. The requested array has an inhomogeneous shape after 3 dimensions. The detected shape was (8, 150, 150) + inhomogeneous part."
     ]
    }
   ],
   "source": [
    "import tensorflow as tf\n",
    "import numpy as np\n",
    "from PIL import Image\n",
    "import matplotlib.pyplot as plt\n",
    "\n",
    "# Load and preprocess the new images with relative paths\n",
    "new_images = []  # List to store the preprocessed images\n",
    "image_paths = [\n",
    "    \"../images/cat1.jpg\",\n",
    "    \"../images/cat2.jpg\",\n",
    "    \"../images/cat3.jpg\",\n",
    "    \"../images/dog1.jpg\",\n",
    "    \"../images/dog2.jpg\",\n",
    "    \"../images/dog3.jpg\",\n",
    "    \"../images/dog4.jpg\",\n",
    "    \"../images/ian.png\"\n",
    "]  # Replace with your relative image file paths\n",
    "\n",
    "for image_path in image_paths:\n",
    "    image = Image.open(image_path)\n",
    "    image = image.resize((150, 150))\n",
    "    image = np.array(image) / 255.0  # Normalize pixel values to [0, 1]\n",
    "    new_images.append(image)\n",
    "\n",
    "# Convert the new images to a NumPy array\n",
    "new_images = np.array(new_images)\n",
    "\n",
    "# Display the preprocessed images\n",
    "fig, axes = plt.subplots(2, 4, figsize=(12, 8))\n",
    "for i, ax in enumerate(axes.flat):\n",
    "    ax.imshow(new_images[i])\n",
    "    ax.set_title(f\"Image {i+1}\")\n",
    "    ax.axis(\"off\")\n",
    "\n",
    "plt.show()\n"
   ]
  },
  {
   "cell_type": "code",
   "execution_count": 26,
   "metadata": {},
   "outputs": [
    {
     "name": "stdout",
     "output_type": "stream",
     "text": [
      "1/1 [==============================] - 0s 32ms/step\n",
      "[[0]\n",
      " [0]\n",
      " [0]\n",
      " [0]\n",
      " [0]\n",
      " [0]\n",
      " [0]]\n",
      "[[3.0722974e-06]\n",
      " [8.5617666e-11]\n",
      " [1.3814248e-02]\n",
      " [8.1779547e-02]\n",
      " [2.4898970e-01]\n",
      " [3.0234423e-03]\n",
      " [1.5889858e-04]]\n"
     ]
    }
   ],
   "source": [
    "# Load and preprocess the new images\n",
    "new_images = []  # List to store the preprocessed images\n",
    "image_paths = [\n",
    "    \"../images/cat1.jpg\",\n",
    "    \"../images/cat2.jpg\",\n",
    "    \"../images/cat3.jpg\",\n",
    "    \"../images/dog1.jpg\",\n",
    "    \"../images/dog2.jpg\",\n",
    "    \"../images/dog3.jpg\",\n",
    "    \"../images/dog4.jpg\"\n",
    "]\n",
    "\n",
    "for image_path in image_paths:\n",
    "    image = Image.open(image_path)\n",
    "    image = image.resize((150, 150))\n",
    "    image = np.array(image) / 255.0  # Normalize pixel values to [0, 1]\n",
    "    new_images.append(image)\n",
    "\n",
    "# Convert the new images to a NumPy array\n",
    "new_images = np.array(new_images)\n",
    "\n",
    "# Make predictions\n",
    "predictions = model.predict(new_images)\n",
    "\n",
    "# If you have binary classification (cats vs. dogs), you can threshold the predictions\n",
    "threshold = 0.01  # You can adjust this threshold\n",
    "\n",
    "# Threshold the predictions (0 for cats, 1 for dogs)\n",
    "binary_predictions = (predictions > threshold).astype(int)\n",
    "\n",
    "# Print the predictions\n",
    "print(binary_predictions)\n",
    "\n",
    "# Print the raw probabilities for reference\n",
    "print(predictions)"
   ]
  },
  {
   "cell_type": "code",
   "execution_count": null,
   "metadata": {},
   "outputs": [],
   "source": []
  }
 ],
 "metadata": {
  "colab": {
   "collapsed_sections": [],
   "name": "classification.ipynb",
   "toc_visible": true
  },
  "kernelspec": {
   "display_name": "Python 3 (ipykernel)",
   "language": "python",
   "name": "python3"
  },
  "language_info": {
   "codemirror_mode": {
    "name": "ipython",
    "version": 3
   },
   "file_extension": ".py",
   "mimetype": "text/x-python",
   "name": "python",
   "nbconvert_exporter": "python",
   "pygments_lexer": "ipython3",
   "version": "3.9.13"
  }
 },
 "nbformat": 4,
 "nbformat_minor": 1
}
