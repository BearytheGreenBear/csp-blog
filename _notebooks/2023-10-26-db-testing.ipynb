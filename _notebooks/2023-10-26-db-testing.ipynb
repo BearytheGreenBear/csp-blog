{
 "cells": [
  {
   "cell_type": "markdown",
   "metadata": {},
   "source": [
    "---\n",
    "toc: false\n",
    "comments: true\n",
    "layout: post\n",
    "title: Database Testing\n",
    "description: Yay\n",
    "courses: { compsci: {week: 8} }\n",
    "type: tangibles\n",
    "---"
   ]
  },
  {
   "cell_type": "code",
   "execution_count": 1,
   "metadata": {},
   "outputs": [],
   "source": [
    "from sqlalchemy import create_engine, Column, Integer, String\n",
    "from sqlalchemy.ext.declarative import declarative_base\n",
    "from sqlalchemy.orm import sessionmaker"
   ]
  },
  {
   "cell_type": "code",
   "execution_count": 4,
   "metadata": {},
   "outputs": [
    {
     "name": "stdout",
     "output_type": "stream",
     "text": [
      "User ID: 1, Username: john_doe, Email: john@example.com\n"
     ]
    }
   ],
   "source": [
    "Base = declarative_base()\n",
    "\n",
    "class User(Base):\n",
    "    __tablename__ = 'users'\n",
    "    id = Column(Integer, primary_key=True, nullable=False)  # Added nullable=False for primary key\n",
    "    name = Column(String, nullable=False)  # Added nullable=False for non-nullable columns\n",
    "    func = Column(String, nullable=False)  # Added nullable=False for non-nullable columns\n",
    "    image = Column(String, nullable=False)\n",
    "\n",
    "# Create a database connection and session\n",
    "engine = create_engine('sqlite:///mydatabase.db')\n",
    "Session = sessionmaker(bind=engine)\n",
    "session = Session()\n",
    "\n",
    "# Create the database table\n",
    "Base.metadata.create_all(engine)"
   ]
  },
  {
   "cell_type": "code",
   "execution_count": null,
   "metadata": {},
   "outputs": [],
   "source": [
    "# Insert data into the database\n",
    "new_user = User(username='john_doe', email='john@example.com')\n",
    "session.add(new_user)\n",
    "session.commit()\n",
    "\n",
    "# Query data from the database\n",
    "users = session.query(User).all()\n",
    "for user in users:\n",
    "    print(f\"User ID: {user.id}, Username: {user.username}, Email: {user.email}\")\n",
    "\n",
    "# Close the session\n",
    "session.close()"
   ]
  },
  {
   "cell_type": "markdown",
   "metadata": {},
   "source": [
    "### Add A User"
   ]
  }
 ],
 "metadata": {
  "kernelspec": {
   "display_name": "Python 3 (ipykernel)",
   "language": "python",
   "name": "python3"
  },
  "language_info": {
   "codemirror_mode": {
    "name": "ipython",
    "version": 3
   },
   "file_extension": ".py",
   "mimetype": "text/x-python",
   "name": "python",
   "nbconvert_exporter": "python",
   "pygments_lexer": "ipython3",
   "version": "3.10.12"
  }
 },
 "nbformat": 4,
 "nbformat_minor": 1
}
