{
 "cells": [
  {
   "cell_type": "markdown",
   "metadata": {},
   "source": [
    "---\n",
    "toc: false\n",
    "comments: true\n",
    "layout: post\n",
    "title: Database Testing\n",
    "description: Yay\n",
    "courses: { compsci: {week: 8} }\n",
    "type: hacks\n",
    "---"
   ]
  },
  {
   "cell_type": "code",
   "execution_count": 34,
   "metadata": {},
   "outputs": [],
   "source": [
    "from sqlalchemy import create_engine, Column, Integer, String\n",
    "from sqlalchemy.orm import sessionmaker, declarative_base\n",
    "import json # NOTE: Can replace with Flask jsonify later"
   ]
  },
  {
   "cell_type": "code",
   "execution_count": 35,
   "metadata": {},
   "outputs": [],
   "source": [
    "Base = declarative_base()\n",
    "\n",
    "class Images(Base):\n",
    "    __tablename__ = 'images'\n",
    "    imageName = Column(String, primary_key=True, nullable=False)  # Added nullable=False for primary key\n",
    "    imageFunc = Column(String, nullable=False)  # Added nullable=False for non-nullable columns\n",
    "    imageBase64 = Column(String, nullable=False)\n",
    "\n",
    "# Create a database connection and session\n",
    "engine = create_engine('sqlite:///database2.db')\n",
    "Session = sessionmaker(bind=engine)\n",
    "session = Session()\n",
    "\n",
    "# Create the database table\n",
    "Base.metadata.create_all(engine)"
   ]
  },
  {
   "cell_type": "code",
   "execution_count": 36,
   "metadata": {},
   "outputs": [],
   "source": [
    "# Insert data into the database\n",
    "def createImage(name, func, image):\n",
    "    newImage = Images(imageName=name, imageFunc=func, imageBase64=image)\n",
    "    session.add(newImage)\n",
    "    session.commit()\n",
    "\n",
    "# Query data from the database\n",
    "def queryImages():\n",
    "    images = session.query(Images).all()\n",
    "    image_list = []\n",
    "\n",
    "    for image in images:\n",
    "        image_data = {\n",
    "            'name': image.imageName,\n",
    "            'func': image.imageFunc,\n",
    "            'image': image.imageBase64\n",
    "        }\n",
    "        image_list.append(image_data)\n",
    "\n",
    "    return json.dumps(image_list)  # Return JSON"
   ]
  },
  {
   "cell_type": "code",
   "execution_count": 40,
   "metadata": {},
   "outputs": [
    {
     "name": "stdout",
     "output_type": "stream",
     "text": [
      "[{\"name\": \"test1\", \"func\": \"pixelate\", \"image\": \"base-64sdfsdfsdfsdf\"}, {\"name\": \"test2\", \"func\": \"combine\", \"image\": \"base-64yayayayayaya\"}, {\"name\": \"test3\", \"func\": \"a\", \"image\": \"sdfsdfasfsdf-ballin\"}, {\"name\": \"test4\", \"func\": \"b\", \"image\": \"waltuh\"}]\n"
     ]
    }
   ],
   "source": [
    "createImage(\"test1\", \"pixelate\", \"base-64sdfsdfsdfsdf\")\n",
    "createImage(\"test2\", \"combine\", \"base-64yayayayayaya\")\n",
    "createImage(\"test3\", \"a\", \"sdfsdfasfsdf-ballin\")\n",
    "createImage(\"test4\", \"b\", \"waltuh\")\n",
    "print(queryImages())"
   ]
  },
  {
   "cell_type": "code",
   "execution_count": 39,
   "metadata": {},
   "outputs": [],
   "source": [
    "session.rollback()\n",
    "\n",
    "session.query(Images).delete()\n",
    "session.commit()\n",
    "\n",
    "session.close()"
   ]
  }
 ],
 "metadata": {
  "kernelspec": {
   "display_name": "Python 3 (ipykernel)",
   "language": "python",
   "name": "python3"
  },
  "language_info": {
   "codemirror_mode": {
    "name": "ipython",
    "version": 3
   },
   "file_extension": ".py",
   "mimetype": "text/x-python",
   "name": "python",
   "nbconvert_exporter": "python",
   "pygments_lexer": "ipython3",
   "version": "3.9.13"
  }
 },
 "nbformat": 4,
 "nbformat_minor": 1
}
