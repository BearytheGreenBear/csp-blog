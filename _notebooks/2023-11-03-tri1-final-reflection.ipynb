{
 "cells": [
  {
   "cell_type": "markdown",
   "metadata": {},
   "source": [
    "---\n",
    "toc: false\n",
    "comments: true\n",
    "layout: post\n",
    "title: Tri 1 Final Reflection\n",
    "description: ._.\n",
    "courses: { compsci: {week: 11} }\n",
    "type: tangibles\n",
    "---"
   ]
  },
  {
   "cell_type": "markdown",
   "metadata": {},
   "source": [
    ">- Team Teach Learning + Reflection\n",
    ">- Passion Project\n",
    ">- Weekly Reflections\n",
    ">- Passion Project\n",
    ">- CB"
   ]
  },
  {
   "cell_type": "markdown",
   "metadata": {},
   "source": [
    "### Team Teach (What I Learned + Reflection)\n",
    "\n",
    "I already had some experience with coding (especially in python) so much of the team teaches were review to me. However, I learned about some of these topics in greater depth. The following are some of are some of the topics/teachings that resonated most with me:\n",
    "\n",
    "1. **Boolean If**: Ironically, I learned a lot from my own team's team teach. I already understood the basics of different boolean operators (AND, OR, XOR, etc.) though when researching for more difficult material, I learned how to make more advanced gates from basic gates (e.g. making a XOR gate from only NAND gates). In addition, I do most of my coding in C++ nowadays, so it was helpful for me to learn how to implement the different built-in methods of boolean operators in python.\n",
    "\n",
    "2. **Algorithms**: As an extracurricular activity, I do a lot of competitive programming in C++, and so I am very familiar with different algorithms. Honestly speaking, I think I could do a more comprehensive teaching about algorithms than the respective teams, though as just an introduction, I think my classmates did ok. Having a review on Big O Notation, Binary Search, etc. was still interesting, I guess.\n",
    "\n",
    "3. **Classes/Objects**: I don't use classes/objects in competitive programming normally, so it was fun to learn about classes because there are a lot of applications of them in the real world (like OOP). The team teachs incoporating these were a great introduction to the concept.\n",
    "\n",
    "4. **Libraries**: The libraries team teached focused on the random module a lot, and although I don't use random a lot in competitive programming, many different progjects can utilize random. Even in the passion project itself, I used a lot of different libraries."
   ]
  },
  {
   "cell_type": "markdown",
   "metadata": {},
   "source": [
    "### Passion Project Individual Review\n",
    "\n",
    "I focused mainly on the backend. The following are a few different parts that I helped to work on:"
   ]
  },
  {
   "cell_type": "markdown",
   "metadata": {},
   "source": [
    "1. **API**: Ian and I worked together to set up the API based on jokes. We worked equally to make a barebones api that we could interact with in Postman."
   ]
  },
  {
   "cell_type": "code",
   "execution_count": null,
   "metadata": {},
   "outputs": [],
   "source": [
    "# Barebones API w/ a single testing function\n",
    "\n",
    "pixel_partner_api = Blueprint('pixel_partner_api', __name__,\n",
    "                   url_prefix='/api/pixel-partner-api')\n",
    "\n",
    "api = Api(pixel_partner_api)\n",
    "\n",
    "class PixelPartnerAPI:\n",
    "\n",
    "    class _Test(Resource):\n",
    "        def get(self):\n",
    "            response = jsonify({\"Connection Test\": \"Successfully connected to backend!\"})\n",
    "            return response\n",
    "        \n",
    "    api.add_resource(_Test, '/test')"
   ]
  },
  {
   "cell_type": "markdown",
   "metadata": {},
   "source": [
    "2. [**Database**](https://bearythegreenbear.github.io/csp-blog//2023/10/26/db-testing_IPYNB_2_.html): With help from ChatGPT, I made a basic SQL database in the backend. I was able to connect it to our API and Postman, and we used it up as a history for image uploads in the final project."
   ]
  },
  {
   "cell_type": "code",
   "execution_count": null,
   "metadata": {},
   "outputs": [],
   "source": [
    "Base = declarative_base()\n",
    "\n",
    "class Images(Base):\n",
    "    __tablename__ = 'images'\n",
    "    imageName = Column(String, primary_key=True, nullable=False)  # Added nullable=False for primary key\n",
    "    imageFunc = Column(String, nullable=False)  # Added nullable=False for non-nullable columns\n",
    "    imageBase64 = Column(String, nullable=False)\n",
    "\n",
    "# Create a database connection and session\n",
    "engine = create_engine('sqlite:///database2.db')\n",
    "Session = sessionmaker(bind=engine)\n",
    "session = Session()\n",
    "\n",
    "# Create the database table\n",
    "Base.metadata.create_all(engine)\n",
    "# Insert data into the database\n",
    "def createImage(name, func, image):\n",
    "    newImage = Images(imageName=name, imageFunc=func, imageBase64=image)\n",
    "    session.add(newImage)\n",
    "    session.commit()\n",
    "\n",
    "# Query data from the database\n",
    "def queryImages():\n",
    "    images = session.query(Images).all()\n",
    "    image_list = []\n",
    "\n",
    "    for image in images:\n",
    "        image_data = {\n",
    "            'name': image.imageName,\n",
    "            'func': image.imageFunc,\n",
    "            'image': image.imageBase64\n",
    "        }\n",
    "        image_list.append(image_data)\n",
    "\n",
    "    return json.dumps(image_list)  # Return JSON\n",
    "\n",
    "createImage(\"test1\", \"pixelate\", \"base-64sdfsdfsdfsdf\")\n",
    "createImage(\"test2\", \"combine\", \"base-64yayayayayaya\")\n",
    "createImage(\"test3\", \"a\", \"sdfsdfasfsdf-ballin\")\n",
    "createImage(\"test4\", \"b\", \"waltuh\")\n",
    "print(queryImages())"
   ]
  },
  {
   "cell_type": "markdown",
   "metadata": {},
   "source": [
    "[**3. Colorscale and Grayscale**](https://bearythegreenbear.github.io/csp-blog//2023/10/30/colorscaling_IPYNB_2_.html) Inspired by Mr. Mortensen's binary and image code, I used ChatGPT to help me make a grayscale function and a colorscale function."
   ]
  },
  {
   "cell_type": "code",
   "execution_count": null,
   "metadata": {},
   "outputs": [],
   "source": []
  }
 ],
 "metadata": {
  "kernelspec": {
   "display_name": "Python 3 (ipykernel)",
   "language": "python",
   "name": "python3"
  },
  "language_info": {
   "codemirror_mode": {
    "name": "ipython",
    "version": 3
   },
   "file_extension": ".py",
   "mimetype": "text/x-python",
   "name": "python",
   "nbconvert_exporter": "python",
   "pygments_lexer": "ipython3",
   "version": "3.10.12"
  }
 },
 "nbformat": 4,
 "nbformat_minor": 1
}
