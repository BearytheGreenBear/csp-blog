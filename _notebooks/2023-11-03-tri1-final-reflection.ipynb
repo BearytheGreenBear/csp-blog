{
 "cells": [
  {
   "cell_type": "markdown",
   "metadata": {},
   "source": [
    "---\n",
    "toc: false\n",
    "comments: true\n",
    "layout: post\n",
    "title: Tri 1 Final Reflection\n",
    "description: ._.\n",
    "courses: { compsci: {week: 11} }\n",
    "type: tangibles\n",
    "---"
   ]
  },
  {
   "cell_type": "markdown",
   "metadata": {},
   "source": [
    ">- Team Teach Learning + Reflection\n",
    ">- Passion Project\n",
    ">- Weekly Reflections\n",
    ">- Passion Project\n",
    ">- CB"
   ]
  },
  {
   "cell_type": "markdown",
   "metadata": {},
   "source": [
    "### Team Teach (What I Learned + Reflection)\n",
    "\n",
    "I already had some experience with coding (especially in python) so much of the team teaches were review to me. However, I learned about some of these topics in greater depth. The following are some of are some of the topics/teachings that resonated most with me:\n",
    "\n",
    "1. **Boolean If**: Ironically, I learned a lot from my own team's team teach. I already understood the basics of different boolean operators (AND, OR, XOR, etc.) though when researching for more difficult material, I learned how to make more advanced gates from basic gates (e.g. making a XOR gate from only NAND gates). In addition, I do most of my coding in C++ nowadays, so it was helpful for me to learn how to implement the different built-in methods of boolean operators in python.\n",
    "\n",
    "2. **Algorithms**: As an extracurricular activity, I do a lot of competitive programming in C++, and so I am very familiar with different algorithms. Honestly speaking, I think I could do a more comprehensive teaching about algorithms than the respective teams, though as just an introduction, I think my classmates did ok. Having a review on Big O Notation, Binary Search, etc. was still interesting, I guess.\n",
    "\n",
    "3. **Classes/Objects**: I don't use classes/objects in competitive programming normally, so it was fun to learn about classes because there are a lot of applications of them in the real world (like OOP). The team teachs incoporating these were a great introduction to the concept.\n",
    "\n",
    "4. **Libraries**: The libraries team teached focused on the random module a lot, and although I don't use random a lot in competitive programming, many different progjects can utilize random. Even in the passion project itself, I used a lot of different libraries."
   ]
  },
  {
   "cell_type": "markdown",
   "metadata": {},
   "source": [
    "### Passion Project Individual Review\n",
    "\n",
    "I focused mainly on the backend. The following are a few different parts that I helped to work on:"
   ]
  },
  {
   "cell_type": "markdown",
   "metadata": {},
   "source": [
    "1. **API**: Ian and I worked together to set up the API based on jokes. We worked equally to make a barebones api that we could interact with in Postman."
   ]
  },
  {
   "cell_type": "code",
   "execution_count": null,
   "metadata": {},
   "outputs": [],
   "source": [
    "# Barebones API w/ a single testing function\n",
    "\n",
    "pixel_partner_api = Blueprint('pixel_partner_api', __name__,\n",
    "                   url_prefix='/api/pixel-partner-api')\n",
    "\n",
    "api = Api(pixel_partner_api)\n",
    "\n",
    "class PixelPartnerAPI:\n",
    "\n",
    "    class _Test(Resource):\n",
    "        def get(self):\n",
    "            response = jsonify({\"Connection Test\": \"Successfully connected to backend!\"})\n",
    "            return response\n",
    "        \n",
    "    api.add_resource(_Test, '/test')"
   ]
  },
  {
   "cell_type": "markdown",
   "metadata": {},
   "source": [
    "2. [**Database**](https://bearythegreenbear.github.io/csp-blog//2023/10/26/db-testing_IPYNB_2_.html): With help from ChatGPT, I made a basic SQL database in the backend. I was able to connect it to our API and Postman, and we used it up as a history for image uploads in the final project."
   ]
  },
  {
   "cell_type": "code",
   "execution_count": null,
   "metadata": {},
   "outputs": [],
   "source": [
    "Base = declarative_base()\n",
    "\n",
    "class Images(Base):\n",
    "    __tablename__ = 'images'\n",
    "    imageName = Column(String, primary_key=True, nullable=False)  # Added nullable=False for primary key\n",
    "    imageFunc = Column(String, nullable=False)  # Added nullable=False for non-nullable columns\n",
    "    imageBase64 = Column(String, nullable=False)\n",
    "\n",
    "# Create a database connection and session\n",
    "engine = create_engine('sqlite:///database2.db')\n",
    "Session = sessionmaker(bind=engine)\n",
    "session = Session()\n",
    "\n",
    "# Create the database table\n",
    "Base.metadata.create_all(engine)\n",
    "# Insert data into the database\n",
    "def createImage(name, func, image):\n",
    "    newImage = Images(imageName=name, imageFunc=func, imageBase64=image)\n",
    "    session.add(newImage)\n",
    "    session.commit()\n",
    "\n",
    "# Query data from the database\n",
    "def queryImages():\n",
    "    images = session.query(Images).all()\n",
    "    image_list = []\n",
    "\n",
    "    for image in images:\n",
    "        image_data = {\n",
    "            'name': image.imageName,\n",
    "            'func': image.imageFunc,\n",
    "            'image': image.imageBase64\n",
    "        }\n",
    "        image_list.append(image_data)\n",
    "\n",
    "    return json.dumps(image_list)  # Return JSON\n",
    "\n",
    "createImage(\"test1\", \"pixelate\", \"base-64sdfsdfsdfsdf\")\n",
    "createImage(\"test2\", \"combine\", \"base-64yayayayayaya\")\n",
    "createImage(\"test3\", \"a\", \"sdfsdfasfsdf-ballin\")\n",
    "createImage(\"test4\", \"b\", \"waltuh\")\n",
    "print(queryImages())"
   ]
  },
  {
   "cell_type": "markdown",
   "metadata": {},
   "source": [
    "[**3. Colorscale and Grayscale**](https://bearythegreenbear.github.io/csp-blog//2023/10/30/colorscaling_IPYNB_2_.html) Inspired by Mr. Mortensen's binary and image code, I used ChatGPT to help me make a grayscale function and a colorscale function."
   ]
  },
  {
   "cell_type": "code",
   "execution_count": null,
   "metadata": {},
   "outputs": [],
   "source": [
    "def grayscale(image):\n",
    "    return ImageOps.grayscale(image)\n",
    "\n",
    "def colorscale(image, target_color):\n",
    "    r, g, b = image.split()\n",
    "    r = r.point(lambda i: i * target_color[0] // 255)\n",
    "    g = g.point(lambda i: i * target_color[1] // 255)\n",
    "    b = b.point(lambda i: i * target_color[2] // 255)\n",
    "    return Image.merge('RGB', (r, g, b))"
   ]
  },
  {
   "cell_type": "markdown",
   "metadata": {},
   "source": [
    "**4. ML** Didn't make it into the final project, but I did some experimenting with TensorFlow. I followed a tutorial with TensorFlow, and I also tried making my own code that could predict cat vs. dog (my team decided that the code suffered from overfitting)."
   ]
  },
  {
   "cell_type": "markdown",
   "metadata": {},
   "source": [
    "**5. AWS Deployment** As I was backend, AWS deployment was my job. I had some struggles with this, thought I always asked my teammates and classmates (as well as my teachers) for help when needed. Some specific examples are when to test with Docker and when to test with main.py; how the different ports work (e.g. ours is localhost:8017); and I also crashed AWS once (I ran a command before the previous steps were free of errors)."
   ]
  },
  {
   "cell_type": "markdown",
   "metadata": {},
   "source": [
    "### My Development Strategy\n",
    "To reiterate, some keep aspects that I focused on were databases, colorscaling, and ML. Through the process of developing these, I came up with my own strategy (though it's probably not that unique, as I bet others probably have a similiar strategy).\n",
    "1. **Assignment/Planning** First, my team (most likely the scrum master) will assign me something to do. For example, on Monday our scrum master might tell me to get a database working by the end of the week. I'll then create a basic plan/goal (see Week 8), as well as GitHub issues if applicable (e.g. for collaboration).\n",
    "2. **Testing/Development** Secondly, I would go to Jupyter Notebook to do testing. I like being able to run different parts of code at a time for two reasons: (1) it is easier to keep track of errors and (2) it is easier for documentational purposes. I'd start by asking ChatGPT what I want, though I'll typically have to editted it to my own needs, as well as research specific errors/bugs. (ChatGPT is a good way to get started, I just need to polish it myself).\n",
    "3. **Deployment** Finally, I would be able to share my Jupyter Notebook with my teammates, and together we'd implement it into our API. (Adding JSON, testing with Postman, connecting frontend with backend, etc.)"
   ]
  },
  {
   "cell_type": "markdown",
   "metadata": {},
   "source": [
    "### Pseudo Code and Other Languages\n",
    "My strongest language applicable to this course would probably Python (again, it was my first programming language). However, I also got some new experience with Markdown/HTML (e.g. special formatting, adding tables, adding images/gifs/videos, etc.), Javascript, and College Board Pseudo Code (most prominently in some of the team teaches). See \"CB Psuedo Code\" and various team teaches (including our own - Boolean If) for specific examples."
   ]
  },
  {
   "cell_type": "markdown",
   "metadata": {},
   "source": [
    "### CB Quiz\n",
    "\n",
    "Frankly, the quiz was pretty straight forward to me. The biggest thing I had to search up were techinical terms (e.g. crowdsourcing, cryptography, etc.) As we haven't really touched on these subjects, I don't worry much about them."
   ]
  },
  {
   "cell_type": "markdown",
   "metadata": {},
   "source": [
    "### Final Reflection\n",
    "Overall, I think I did a lot this trimester. Working with my teammates with the passion projects was probably most impactful out of everything I did this trimester. Building the passion project allowed me to test with different python libraries, as well as learning about APIs. Also, deploying to AWS and using docker with Flask was another new experience. The team teaches were OK (I think most stuff was review for me). This was also the first time I coded something together with a team, and so from day one, using how to use Github with the commits/pulls was another vital skill I learned this trimester.\n",
    "\n",
    "In terms of growing and improving for the future, the biggest thing I just try is working with frontend/Javascript. This try I've been reluctant to move away from Python, as Python was my first programming language and one that I am very familiar with. Javascript/HTML/CSS are an equally useful (though different) aspect of code, and so I look towards that in Tri 2."
   ]
  }
 ],
 "metadata": {
  "kernelspec": {
   "display_name": "Python 3 (ipykernel)",
   "language": "python",
   "name": "python3"
  },
  "language_info": {
   "codemirror_mode": {
    "name": "ipython",
    "version": 3
   },
   "file_extension": ".py",
   "mimetype": "text/x-python",
   "name": "python",
   "nbconvert_exporter": "python",
   "pygments_lexer": "ipython3",
   "version": "3.10.12"
  }
 },
 "nbformat": 4,
 "nbformat_minor": 1
}
