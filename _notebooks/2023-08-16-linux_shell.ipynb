{
 "cells": [
  {
   "cell_type": "markdown",
   "metadata": {},
   "source": [
    "---\n",
    "layout: post\n",
    "title: Linux Shell and Bash\n",
    "description: A Tech Talk on Linux and the Bash shell.\n",
    "toc: true\n",
    "comments: true\n",
    "categories: [5.A, C4.1]\n",
    "courses: { compsci: {week: 2} }\n",
    "type: posts\n",
    "---"
   ]
  },
  {
   "cell_type": "markdown",
   "metadata": {},
   "source": [
    "## Bash Tutorial\n",
    "> A brief overview of Bash, on your way to becoming a Linux expert.  <mark>When a computer boots up, a kernel (MacOS, Windows, Linux) is started</mark>.  This kernel provides a shell, or <mark>terminal</mark>, that allows user to interact with a most basic set of commands.  Typically, the casual user will not interact with the shell/terminal as a Desktop User Interface is started by the computer boot up process.  To activate a shell directly, users will run a \"terminal\" through the Desktop. <mark>VS Code provides ability to activate \"terminal\"</mark> while in the IDE."
   ]
  },
  {
   "cell_type": "markdown",
   "metadata": {},
   "source": [
    "## Variable Prerequisites\n",
    "> Setup bash shell dependency variables for this page.  Variables are one of the first aspects of programming.  <mark>Variables have \"name\" and a \"value\"</mark>.\n",
    "\n",
    "- Hack Note: Change variables to match your student project."
   ]
  },
  {
   "cell_type": "markdown",
   "metadata": {},
   "source": [
    "### Define variable\n",
    "The following code cell <mark>defines 3 variables and assigns each a value</mark>.  There are some extra command, called a HERE document, that write these variables to a file.  This is so we can use these variables over and over below."
   ]
  },
  {
   "cell_type": "code",
   "execution_count": 3,
   "metadata": {
    "vscode": {
     "languageId": "shellscript"
    }
   },
   "outputs": [],
   "source": [
    "%%script bash\n",
    "\n",
    "# Dependency Variables, set to match your project directories\n",
    "\n",
    "cat <<EOF > /tmp/variables.sh\n",
    "export project_dir=$HOME/vscode  # change vscode to different name to test git clone\n",
    "export project=\\$project_dir/csp-blog  # change teacher to name of project from git clone\n",
    "export project_repo=\"https://github.com/bearythegreenbear/csp-blog.git\"  # change to project of choice\n",
    "EOF"
   ]
  },
  {
   "cell_type": "markdown",
   "metadata": {},
   "source": [
    "### Output the value of a variable\n",
    "The following code cell <mark>outputs the value of the variables</mark>, using the echo command.  For visual understanding in the output, each echo command provide a title before the $variable "
   ]
  },
  {
   "cell_type": "code",
   "execution_count": 4,
   "metadata": {
    "vscode": {
     "languageId": "shellscript"
    }
   },
   "outputs": [
    {
     "name": "stdout",
     "output_type": "stream",
     "text": [
      "Project dir: /home/kasm-user/vscode\n",
      "Project: /home/kasm-user/vscode/csp-blog\n",
      "Repo: https://github.com/bearythegreenbear/csp-blog.git\n"
     ]
    }
   ],
   "source": [
    "%%script bash\n",
    "\n",
    "# Extract saved variables\n",
    "source /tmp/variables.sh\n",
    "\n",
    "# Output shown title and value variables\n",
    "echo \"Project dir: $project_dir\"\n",
    "echo \"Project: $project\"\n",
    "echo \"Repo: $project_repo\""
   ]
  },
  {
   "cell_type": "markdown",
   "metadata": {},
   "source": [
    "## Project Setup and Analysis with Bash Scripts\n",
    "The bash scripts that follow automate what was done in the setup procedures.  The purpose of this is to show that many of the commands we performed can be added to a script, then performed automatically."
   ]
  },
  {
   "cell_type": "markdown",
   "metadata": {},
   "source": [
    "### Pull Code\n",
    "> Pull code from GitHub to your machine. This is a <mark>bash script</mark>, a sequence of commands, that will create a project directory and add the \"project\" from GitHub to the vscode directory.  There is conditional logic to make sure that clone only happen if it does not (!) exist.   Here are some key elements in this code...\n",
    "\n",
    "- cd command (change directory), remember this from terminal session\n",
    "- if statements (conditional statement, called selection statement by College Board), code inside only happens if condition is met"
   ]
  },
  {
   "cell_type": "code",
   "execution_count": 5,
   "metadata": {
    "vscode": {
     "languageId": "shellscript"
    }
   },
   "outputs": [
    {
     "name": "stdout",
     "output_type": "stream",
     "text": [
      "Using conditional statement to create a project directory and project\n",
      "Directory /home/kasm-user/vscode exists.\n",
      "Directory /home/kasm-user/vscode/csp-blog exists.\n"
     ]
    }
   ],
   "source": [
    "%%script bash\n",
    "\n",
    "# Extract saved variables\n",
    "source /tmp/variables.sh\n",
    "\n",
    "echo \"Using conditional statement to create a project directory and project\"\n",
    "\n",
    "cd ~    # start in home directory\n",
    "\n",
    "# Conditional block to make a project directory\n",
    "if [ ! -d $project_dir ]\n",
    "then \n",
    "    echo \"Directory $project_dir does not exists... makinng directory $project_dir\"\n",
    "    mkdir -p $project_dir\n",
    "fi\n",
    "echo \"Directory $project_dir exists.\" \n",
    "\n",
    "# Conditional block to git clone a project from project_repo\n",
    "if [ ! -d $project ]\n",
    "then\n",
    "    echo \"Directory $project does not exists... cloning $project_repo\"\n",
    "    cd $project_dir\n",
    "    git clone $project_repo\n",
    "    cd ~\n",
    "fi\n",
    "echo \"Directory $project exists.\" "
   ]
  },
  {
   "cell_type": "markdown",
   "metadata": {},
   "source": [
    "### Look at files Github project\n",
    "> All computers contain files and directories.  The clone brought more files from cloud to your machine.  Review the bash shell script, observe the commands that show and interact with files and directories.  These were used during setup.\n",
    "\n",
    "- \"ls\" lists computer files in Unix and Unix-like operating systems\n",
    "- \"cd\" offers way to navigate and change working directory\n",
    "- \"pwd\" print working directory\n",
    "- \"echo\" used to display line of text/string that are passed as an argument"
   ]
  },
  {
   "cell_type": "code",
   "execution_count": 6,
   "metadata": {
    "vscode": {
     "languageId": "shellscript"
    }
   },
   "outputs": [
    {
     "name": "stdout",
     "output_type": "stream",
     "text": [
      "Navigate to project, then navigate to area where files were cloned\n",
      "/home/kasm-user/vscode/csp-blog\n",
      "\n",
      "list top level or root of files with project pulled from github\n",
      "assets\n",
      "compsci.md\n",
      "_config.yml\n",
      "_data\n",
      "fonts\n",
      "Gemfile\n",
      "Gemfile.lock\n",
      "git\n",
      "images\n",
      "_includes\n",
      "indexBlogs.md\n",
      "indexHelp.md\n",
      "index.md\n",
      "_layouts\n",
      "LICENSE\n",
      "Makefile\n",
      "_notebooks\n",
      "_posts\n",
      "README.md\n",
      "scripts\n",
      "_site\n"
     ]
    }
   ],
   "source": [
    "%%script bash\n",
    "\n",
    "# Extract saved variables\n",
    "source /tmp/variables.sh\n",
    "\n",
    "echo \"Navigate to project, then navigate to area where files were cloned\"\n",
    "cd $project\n",
    "pwd\n",
    "\n",
    "echo \"\"\n",
    "echo \"list top level or root of files with project pulled from github\"\n",
    "ls\n"
   ]
  },
  {
   "cell_type": "markdown",
   "metadata": {},
   "source": [
    "### Look at file list with hidden and long attributes\n",
    "> Most linux commands have options to enhance behavior.  The enhanced listing below shows permission bits, owner of file, size and date.\n",
    "\n",
    "[ls reference](https://www.rapidtables.com/code/linux/ls.html)"
   ]
  },
  {
   "cell_type": "code",
   "execution_count": 7,
   "metadata": {
    "vscode": {
     "languageId": "shellscript"
    }
   },
   "outputs": [
    {
     "name": "stdout",
     "output_type": "stream",
     "text": [
      "Navigate to project, then navigate to area wwhere files were cloned\n",
      "/home/kasm-user/vscode/csp-blog\n",
      "\n",
      "list all files in long format\n",
      "total 108\n",
      "drwxr-xr-x 14 kasm-user kasm-user 4096 Sep  6 22:16 .\n",
      "drwxr-xr-x  6 kasm-user kasm-user 4096 Sep  5 22:04 ..\n",
      "drwxr-xr-x  4 kasm-user kasm-user 4096 Aug 30 22:20 assets\n",
      "-rw-r--r--  1 kasm-user kasm-user   91 Aug 29 21:52 compsci.md\n",
      "-rw-r--r--  1 kasm-user kasm-user  435 Aug 30 21:52 _config.yml\n",
      "drwxr-xr-x  2 kasm-user kasm-user 4096 Aug 29 21:52 _data\n",
      "drwxr-xr-x  5 kasm-user kasm-user 4096 Sep  5 22:16 fonts\n",
      "-rw-r--r--  1 kasm-user kasm-user  122 Aug 29 21:52 Gemfile\n",
      "-rw-r--r--  1 kasm-user kasm-user 7296 Aug 29 21:56 Gemfile.lock\n",
      "drwxr-xr-x  8 kasm-user kasm-user 4096 Sep  6 22:17 .git\n",
      "-rw-r--r--  1 kasm-user kasm-user    0 Sep  6 22:16 git\n",
      "drwxr-xr-x  3 kasm-user kasm-user 4096 Aug 29 21:52 .github\n",
      "-rw-r--r--  1 kasm-user kasm-user  104 Aug 29 21:52 .gitignore\n",
      "drwxr-xr-x  2 kasm-user kasm-user 4096 Aug 30 22:20 images\n",
      "drwxr-xr-x  2 kasm-user kasm-user 4096 Aug 30 22:18 _includes\n",
      "-rw-r--r--  1 kasm-user kasm-user   53 Aug 29 21:52 indexBlogs.md\n",
      "-rw-r--r--  1 kasm-user kasm-user   50 Aug 29 21:52 indexHelp.md\n",
      "-rw-r--r--  1 kasm-user kasm-user 1709 Aug 29 22:43 index.md\n",
      "drwxr-xr-x  2 kasm-user kasm-user 4096 Aug 29 21:52 _layouts\n",
      "-rw-r--r--  1 kasm-user kasm-user 1081 Aug 29 21:52 LICENSE\n",
      "-rw-r--r--  1 kasm-user kasm-user 3120 Aug 29 21:52 Makefile\n",
      "drwxr-xr-x  3 kasm-user kasm-user 4096 Sep  6 22:28 _notebooks\n",
      "drwxr-xr-x  2 kasm-user kasm-user 4096 Sep  6 22:17 _posts\n",
      "-rw-r--r--  1 kasm-user kasm-user 6969 Aug 29 21:52 README.md\n",
      "drwxr-xr-x  3 kasm-user kasm-user 4096 Aug 29 21:52 scripts\n",
      "drwxr-xr-x 13 kasm-user kasm-user 4096 Sep  6 22:24 _site\n"
     ]
    }
   ],
   "source": [
    "%%script bash\n",
    "\n",
    "# Extract saved variables\n",
    "source /tmp/variables.sh\n",
    "\n",
    "echo \"Navigate to project, then navigate to area wwhere files were cloned\"\n",
    "cd $project\n",
    "pwd\n",
    "\n",
    "echo \"\"\n",
    "echo \"list all files in long format\"\n",
    "ls -al   # all files -a (hidden) in -l long listing"
   ]
  },
  {
   "cell_type": "code",
   "execution_count": 8,
   "metadata": {
    "vscode": {
     "languageId": "shellscript"
    }
   },
   "outputs": [
    {
     "name": "stdout",
     "output_type": "stream",
     "text": [
      "Look for posts\n",
      "/home/kasm-user/vscode/csp-blog/_posts\n",
      "total 2452\n",
      "-rw-r--r-- 1 kasm-user kasm-user     703 Aug 31 22:40 2023-08-15-Tools_Plans_Sample.md\n",
      "-rw-r--r-- 1 kasm-user kasm-user   10276 Sep  5 21:40 2023-08-16-linux_shell_IPYNB_2_.md\n",
      "-rw-r--r-- 1 kasm-user kasm-user    9052 Sep  5 21:40 2023-08-16-python_hello_IPYNB_2_.md\n",
      "-rw-r--r-- 1 kasm-user kasm-user    4447 Aug 31 22:39 2023-08-16-Tools_Hacks_Sample.md\n",
      "-rw-r--r-- 1 kasm-user kasm-user     549 Aug 29 21:52 2023-08-16-Tools_Help.md\n",
      "-rw-r--r-- 1 kasm-user kasm-user    3751 Sep  5 21:40 2023-08-17-TEACHER-Markdown_Table_Code_Hack_IPYNB_2_.md\n",
      "-rw-r--r-- 1 kasm-user kasm-user    2052 Aug 29 21:52 2023-08-21-GitHub_Pages_Plans.md\n",
      "-rw-r--r-- 1 kasm-user kasm-user    1003 Sep  1 21:42 2023-08-21-GitHub_Pages_Tangibles.md\n",
      "-rw-r--r-- 1 kasm-user kasm-user    6356 Sep  5 21:40 2023-08-21-TEACHER-HTML_Image_Hack_IPYNB_2_.md\n",
      "-rw-r--r-- 1 kasm-user kasm-user    2448 Aug 29 21:52 2023-08-26-GitHub_Sync.md\n",
      "-rw-r--r-- 1 kasm-user kasm-user    7335 Sep  5 22:36 2023-08-30-Calculator.md\n",
      "-rw-r--r-- 1 kasm-user kasm-user   14711 Sep  5 22:32 2023-08-30-Classical_Snake_Game.md\n",
      "-rw-r--r-- 1 kasm-user kasm-user    5696 Aug 30 22:11 2023-08-30-Game_Of_Life.md\n",
      "-rw-r--r-- 1 kasm-user kasm-user    2287 Sep  5 21:40 2023-08-31-CB_Pseudo_Code_IPYNB_2_.md\n",
      "-rw-r--r-- 1 kasm-user kasm-user    3019 Sep  6 22:24 2023-08-31-hacks-python-quiz_IPYNB_2_.md\n",
      "-rw-r--r-- 1 kasm-user kasm-user   11515 Sep  5 21:40 2023-08-31-TEACHER-javascript-output-jquery_IPYNB_2_.md\n",
      "-rw-r--r-- 1 kasm-user kasm-user    5962 Sep  5 21:40 2023-08-31-TEACHER-python_tricks_IPYNB_2_.md\n",
      "-rw-r--r-- 1 kasm-user kasm-user    3147 Aug 31 17:35 2023-08-31-Tic_Tac_Toe.md\n",
      "-rw-r--r-- 1 kasm-user kasm-user     637 Aug 31 22:43 2023-08-31-Week_2_Plan.md\n",
      "-rw-r--r-- 1 kasm-user kasm-user 2367074 Sep  6 22:24 2023-09-01-hacks-Python_Tricks_IPYNB_2_.md\n",
      "-rw-r--r-- 1 kasm-user kasm-user     617 Sep  1 21:45 2023-09-01-Week_2_Review\n",
      "-rw-r--r-- 1 kasm-user kasm-user     109 Sep  6 22:17 2023-09-04-Week_3_Plan.md\n"
     ]
    }
   ],
   "source": [
    "%%script bash\n",
    "\n",
    "# Extract saved variables\n",
    "source /tmp/variables.sh\n",
    "\n",
    "echo \"Look for posts\"\n",
    "export posts=$project/_posts  # _posts inside project\n",
    "cd $posts  # this should exist per fastpages\n",
    "pwd  # present working directory\n",
    "ls -l  # list posts"
   ]
  },
  {
   "cell_type": "code",
   "execution_count": 9,
   "metadata": {
    "vscode": {
     "languageId": "shellscript"
    }
   },
   "outputs": [
    {
     "name": "stdout",
     "output_type": "stream",
     "text": [
      "Look for notebooks\n",
      "/home/kasm-user/vscode/csp-blog/_notebooks\n",
      "total 2428\n",
      "-rw-r--r-- 1 kasm-user kasm-user   21663 Sep  6 22:30 2023-08-16-linux_shell.ipynb\n",
      "-rw-r--r-- 1 kasm-user kasm-user   12043 Aug 31 22:40 2023-08-16-python_hello.ipynb\n",
      "-rw-r--r-- 1 kasm-user kasm-user    5369 Aug 31 22:36 2023-08-17-TEACHER-Markdown_Table_Code_Hack.ipynb\n",
      "-rw-r--r-- 1 kasm-user kasm-user    8948 Aug 31 22:37 2023-08-21-TEACHER-HTML_Image_Hack.ipynb\n",
      "-rw-r--r-- 1 kasm-user kasm-user    4343 Aug 31 22:21 2023-08-31-CB_Pseudo_Code.ipynb\n",
      "-rw-r--r-- 1 kasm-user kasm-user    4900 Sep  5 22:28 2023-08-31-hacks-python-quiz.ipynb\n",
      "-rw-r--r-- 1 kasm-user kasm-user   17132 Aug 31 22:44 2023-08-31-TEACHER-javascript-output-jquery.ipynb\n",
      "-rw-r--r-- 1 kasm-user kasm-user    9015 Aug 31 22:37 2023-08-31-TEACHER-python_tricks.ipynb\n",
      "-rw-r--r-- 1 kasm-user kasm-user 2375812 Sep  5 22:25 2023-09-01-hacks-Python_Tricks.ipynb\n"
     ]
    }
   ],
   "source": [
    "%%script bash\n",
    "\n",
    "# Extract saved variables\n",
    "source /tmp/variables.sh\n",
    "\n",
    "echo \"Look for notebooks\"\n",
    "export notebooks=$project/_notebooks  # _notebooks is inside project\n",
    "cd $notebooks   # this should exist per fastpages\n",
    "pwd  # present working directory\n",
    "ls -l  # list notebooks"
   ]
  },
  {
   "cell_type": "code",
   "execution_count": 10,
   "metadata": {
    "vscode": {
     "languageId": "shellscript"
    }
   },
   "outputs": [
    {
     "name": "stdout",
     "output_type": "stream",
     "text": [
      "Look for images in notebooks, print working directory, list files\n",
      "/home/kasm-user/vscode/csp-blog/_notebooks\n",
      "total 2428\n",
      "-rw-r--r-- 1 kasm-user kasm-user   21663 Sep  6 22:30 2023-08-16-linux_shell.ipynb\n",
      "-rw-r--r-- 1 kasm-user kasm-user   12043 Aug 31 22:40 2023-08-16-python_hello.ipynb\n",
      "-rw-r--r-- 1 kasm-user kasm-user    5369 Aug 31 22:36 2023-08-17-TEACHER-Markdown_Table_Code_Hack.ipynb\n",
      "-rw-r--r-- 1 kasm-user kasm-user    8948 Aug 31 22:37 2023-08-21-TEACHER-HTML_Image_Hack.ipynb\n",
      "-rw-r--r-- 1 kasm-user kasm-user    4343 Aug 31 22:21 2023-08-31-CB_Pseudo_Code.ipynb\n",
      "-rw-r--r-- 1 kasm-user kasm-user    4900 Sep  5 22:28 2023-08-31-hacks-python-quiz.ipynb\n",
      "-rw-r--r-- 1 kasm-user kasm-user   17132 Aug 31 22:44 2023-08-31-TEACHER-javascript-output-jquery.ipynb\n",
      "-rw-r--r-- 1 kasm-user kasm-user    9015 Aug 31 22:37 2023-08-31-TEACHER-python_tricks.ipynb\n",
      "-rw-r--r-- 1 kasm-user kasm-user 2375812 Sep  5 22:25 2023-09-01-hacks-Python_Tricks.ipynb\n"
     ]
    },
    {
     "name": "stderr",
     "output_type": "stream",
     "text": [
      "bash: line 6: cd: /images: No such file or directory\n"
     ]
    }
   ],
   "source": [
    "%%script bash\n",
    "\n",
    "# Extract saved variables\n",
    "source /tmp/variables.sh\n",
    "\n",
    "echo \"Look for images in notebooks, print working directory, list files\"\n",
    "cd $notebooks/images  # this should exist per fastpages\n",
    "pwd\n",
    "ls -l"
   ]
  },
  {
   "cell_type": "markdown",
   "metadata": {},
   "source": [
    "### Look inside a Markdown File\n",
    "> \"cat\" reads data from the file and gives its content as output"
   ]
  },
  {
   "cell_type": "code",
   "execution_count": 11,
   "metadata": {
    "vscode": {
     "languageId": "shellscript"
    }
   },
   "outputs": [
    {
     "name": "stdout",
     "output_type": "stream",
     "text": [
      "Navigate to project, then navigate to area wwhere files were cloned\n",
      "show the contents of README.md\n",
      "\n",
      "## Blog site using GitHub Pages and Jekyll\n",
      "> This site is intended for Students.   This is to record plans, complete hacks, and do work for your learnings.\n",
      "- This can be customized to support computer science as you work through pathway (JavaScript, Python/Flask, Java/Spring)\n",
      "- All tangible artifact work is in a _posts or in a _notebooks.  \n",
      "- Front matter (aka meta data) in ipynb and md files is used to organize information according to week and column in running web site.\n",
      "\n",
      "## GitHub Pages\n",
      "All `GitHub Pages` websites are managed on GitHub infrastructure. GitHub uses `Jekyll` to tranform your content into static websites and blogs. Each time we change files in GitHub it initiates a GitHub Action that rebuilds and publishes the site with Jekyll.  \n",
      "- GitHub Pages is powered by: [Jekyll](https://jekyllrb.com/).\n",
      "- Publised teacher website: [nighthawkcoders.github.io/teacher](https://nighthawkcoders.github.io/teacher/)\n",
      "\n",
      "## Preparing a Preview Site \n",
      "In all development, it is recommended to test your code before deployment.  The GitHub Pages development process is optimized by testing your development on your local machine, prior to files on GitHub\n",
      "\n",
      "Development Cycle. For GitHub pages, the tooling described below will create a development cycle  `make-code-save-preview`.  In the development cycle, it is a requirement to preview work locally, prior to doing a VSCode `commit` to git.\n",
      "\n",
      "Deployment Cycle.  In the deplopyment cycle, `sync-github-action-review`, it is a requirement to complete the development cycle prior to doing a VSCode `sync`.  The sync triggers github repository update.  The action starts the jekyll build to publish the website.  Any step can have errors and will require you to do a review.\n",
      "\n",
      "### WSL and/or Ubuntu installation requirements\n",
      "- The result of these step is Ubuntu tools to run preview server.  These procedures were created using [jekyllrb.com](https://jekyllrb.com/docs/installation/ubuntu/)\n",
      "- Run scripts in scripts directory of student repo: setup_ubuntu.sh and activate.sh. Expected name of the repository to run these scripts is 'student'.\n",
      "\n",
      "### MacOs installation requirements \n",
      "- Ihe result of these step are MacOS tools to run preview server.  These procedures were created using [jekyllrb.com](https://jekyllrb.com/docs/installation/macos/). Run scripts in scripts directory of student repo: setup_macos.sh and activate_macos.sh. Expected name of the repository to run these scripts is 'student'.\n",
      "\n",
      "### Preview\n",
      "- The result of these step is server running on: http://0.0.0.0:4100/teacher/.  Regeneration messages will run in terminal on any save.  Press the Enter or Return key in the terminal at any time to enter commands.\n",
      "\n",
      "- Complete installation\n",
      "```bash\n",
      "bundle install\n",
      "```\n",
      "- Run Server.  This requires running terminal commands `make`, `make stop`, `make clean`, or `make convert` to manage the running server.  Logging of details will appear in terminal.   A `Makefile` has been created in project to support commands and start processes.\n",
      "\n",
      "    - Start preview server in terminal\n",
      "    ```bash\n",
      "    cd ~/vscode/teacher  # my project location, adapt as necessary\n",
      "    make\n",
      "    ```\n",
      "\n",
      "    - Terminal output of shows server address. Cmd or Ctl click http location to open preview server in browser. Example Server address message... \n",
      "    ```\n",
      "    Server address: http://0.0.0.0:4100/teacher/\n",
      "    ```\n",
      "\n",
      "    - Save on ipynb or md activiates \"regeneration\". Refresh browser to see updates. Example terminal message...\n",
      "    ```\n",
      "    Regenerating: 1 file(s) changed at 2023-07-31 06:54:32\n",
      "        _notebooks/2024-01-04-cockpit-setup.ipynb\n",
      "    ```\n",
      "\n",
      "    - Terminal message are generated from background processes.  Click return or enter to obtain prompt and use terminal as needed for other tasks.  Alway return to root of project `cd ~/vscode/teacher` for all \"make\" actions. \n",
      "        \n",
      "\n",
      "    - Stop preview server, but leave constructed files in project for your review.\n",
      "    ```bash\n",
      "    make stop\n",
      "    ```\n",
      "\n",
      "    - Stop server and \"clean\" constructed files, best choice when renaming files to eliminate potential duplicates in constructed files.\n",
      "    ```bash\n",
      "    make clean\n",
      "    ```\n",
      "\n",
      "    - Test notebook conversions, best choice to see if IPYNB conversion is acting up.\n",
      "    ```bash\n",
      "    make convert\n",
      "    ```\n",
      "### Meta Data (Front Matter)\n",
      "- Meta data also known as front matter is a set of key value pairs that can provide additional information to github pages about .md and .ipynb files. This can and probably will be used in other file types (ie doc, pdf), if we added them to the system.\n",
      "\n",
      "- In the front matter you can also define things like a title and description for the page.  Additional front matter is defined to place content on \"Computer Science Lab Notebook\" page.  The `courses:` key will place data on a specific page with the nested `week:` placing data on a specific row on the page.  The `type:` key in front matter will place blog under the plans, hacks(ToDo), and tangibles column. \n",
      "\n",
      "- In our files the front matter is defined at the top of the page or the first markdown cell.\n",
      "\n",
      "    - First open one of the .md or .ipynb files already included in either your _posts folder or your _notebooks folder.\n",
      "\n",
      "    - In the .md file you should notice something similar to this at the top of the page. To see this in your .ipynb files you will need to double click the markdown cell at the top of the file.\n",
      "\n",
      "    ```yaml\n",
      "    ---\n",
      "    toc: true\n",
      "    comments: false\n",
      "    layout: post\n",
      "    title: Daily Plan Sample\n",
      "    description: Example Blog!!!  This shows planning and notes from hacks.\n",
      "    type: plans\n",
      "    courses: { compsci: {week: 0} }\n",
      "    ---\n",
      "    ```\n",
      "\n",
      "- Front matter will always have '---' at the top and bottom to distinguish it and each key value pair will be separated by a ':'.\n",
      "\n",
      "- Here we can modify things like the title and description.\n",
      "\n",
      "- The type value will tells us which column this is going to appear under, supported values: `plans`, `hacks`, `tangibles`.\n",
      "\n",
      "- The courses tells us which menu item it will be under, in this case the `compsci` menu, and the `week` tells it what row (week) it will appear under that menu.\n",
      "\n",
      "- In our examples,  hacks(ToDo) contains references to our IPYNB files; these are stored in GitHub under the `_notebooks` folder.   The plans and tangibles contains references to our MD files; these are stored in GitHub under the `_posts` folder.\n",
      "\n",
      "- Key files in Computer Science Lab Notebook\n",
      "    - `compsci.md` - this is the \"Computer Science Lab Notebook\" page and is the link `https://nighthawkcoders.github.io/student/compsci`.  It contains the Title and Number of units on the page.\n",
      "    - `_data/compsci.yml` - this contains the supporting data that helps organize the units on the page.\n",
      "    - `_layouts`\\schedule.html - this contains code, in the Liquid language, that generates the HTML for all the rows and columns.\n",
      "    - fyi, the schedule.html could work for another type of page.  For instance, you could make a csa.md, _data/csa.yml, and tag files with `csa: {week: 0}` under courses.\n",
      "\n",
      "end of README.md\n"
     ]
    }
   ],
   "source": [
    "%%script bash\n",
    "\n",
    "# Extract saved variables\n",
    "source /tmp/variables.sh\n",
    "\n",
    "echo \"Navigate to project, then navigate to area wwhere files were cloned\"\n",
    "\n",
    "cd $project\n",
    "echo \"show the contents of README.md\"\n",
    "echo \"\"\n",
    "\n",
    "cat README.md  # show contents of file, in this case markdown\n",
    "echo \"\"\n",
    "echo \"end of README.md\"\n"
   ]
  },
  {
   "cell_type": "markdown",
   "metadata": {},
   "source": [
    "## Env, Git and GitHub\n",
    "> Env(ironment) is used to capture things like path to Code or Home directory.  Git and GitHub is NOT Only used to exchange code between individuals, it is often used to exchange code through servers, in our case deployment for Website.   All tools we use have a behind the scenes relationships with the system they run on (MacOS, Windows, Linus) or a relationship with servers which they are connected to (ie GitHub).  There is an \"env\" command in bash.  There are environment files and setting files (.git/config) for Git.  They both use a key/value concept.\n",
    "\n",
    "- \"env\" show setting for your shell\n",
    "- \"git clone\" sets up a director of files\n",
    "- \"cd $project\" allows user to move inside that directory of files\n",
    "- \".git\" is a hidden directory that is used by git to establish relationship between machine and the git server on GitHub.  "
   ]
  },
  {
   "cell_type": "code",
   "execution_count": 12,
   "metadata": {
    "vscode": {
     "languageId": "shellscript"
    }
   },
   "outputs": [
    {
     "name": "stdout",
     "output_type": "stream",
     "text": [
      "Show the shell environment variables, key on left of equal value on right\n",
      "\n",
      "SHELL=/bin/bash\n",
      "SESSION_MANAGER=local/kasm:@/tmp/.ICE-unix/84,unix/kasm:/tmp/.ICE-unix/84\n",
      "WINDOWID=56623107\n",
      "VNCOPTIONS=-PreferBandwidth -DynamicQualityMin=4 -DynamicQualityMax=7 -DLP_ClipDelay=0 -select-de manual\n",
      "COLORTERM=truecolor\n",
      "XDG_CONFIG_DIRS=/etc/xdg\n",
      "XDG_MENU_PREFIX=xfce-\n",
      "PULSE_RUNTIME_PATH=/var/run/pulse\n",
      "HOSTNAME=kasm\n",
      "LANGUAGE=en_US:en\n",
      "SDL_GAMECONTROLLERCONFIG=030000005e040000be02000014010000,XInput Controller,platform:Linux,a:b0,b:b1,x:b2,y:b3,back:b8,guide:b16,start:b9,leftstick:b10,rightstick:b11,leftshoulder:b4,rightshoulder:b5,dpup:b12,dpdown:b13,dpleft:b14,dpright:b15,leftx:a0,lefty:a1,rightx:a2,righty:a3,lefttrigger:b6,righttrigger:b7\n",
      "KASM_SVC_SEND_CUT_TEXT=-SendCutText 1\n",
      "DISTRO=ubuntu\n",
      "INST_DIR=/dockerstartup/install\n",
      "SSH_AUTH_SOCK=/tmp/ssh-XXXXXXfP6THL/agent.147\n",
      "START_PULSEAUDIO=1\n",
      "DESKTOP_SESSION=xfce\n",
      "SSH_AGENT_PID=150\n",
      "KASM_SVC_AUDIO_INPUT=1\n",
      "KASM_SVC_AUDIO=1\n",
      "PWD=/home/kasm-user/vscode/csp-blog/_notebooks\n",
      "VNC_RESOLUTION=1366x612\n",
      "KASM_ID=414e1380-073b-47b6-adf8-32077011fa29\n",
      "PANEL_GDK_CORE_DEVICE_EVENTS=0\n",
      "NVIDIA_DRIVER_CAPABILITIES=graphics,compat32,utility\n",
      "KASM_SVC_DOWNLOADS=1\n",
      "OMP_WAIT_POLICY=PASSIVE\n",
      "HOME=/home/kasm-user\n",
      "LANG=en_US.UTF-8\n",
      "XDG_CURRENT_DESKTOP=XFCE\n",
      "AUDIO_PORT=4901\n",
      "VTE_VERSION=6800\n",
      "DONT_PROMPT_WSL_INSTALL=No_Prompt_please\n",
      "STARTUPDIR=/dockerstartup\n",
      "CLICOLOR=1\n",
      "PROXYPATH=a6dca48b-dc2f-43/79de0bbb-e143-4ee1-b772-dfa77bf99122\n",
      "SKIP_CLEAN=true\n",
      "KASM_SVC_GAMEPAD=0\n",
      "JPY_PARENT_PID=2679\n",
      "GEM_HOME=/home/kasm-user/gems\n",
      "TERM=xterm-color\n",
      "GOMP_SPINCOUNT=0\n",
      "GIT_PAGER=cat\n",
      "KASMVNC_AUTO_RECOVER=true\n",
      "VNC_COL_DEPTH=24\n",
      "KASM_SVC_UPLOADS=1\n",
      "START_XFCE4=1\n",
      "DISPLAY=:1.0\n",
      "SHLVL=1\n",
      "PAGER=cat\n",
      "MAX_FRAME_RATE=24\n",
      "KASM_VNC_PATH=/usr/share/kasmvnc\n",
      "MPLBACKEND=module://matplotlib_inline.backend_inline\n",
      "KASM_RX_HOME=/dockerstartup/kasmrx\n",
      "LD_LIBRARY_PATH=/usr/lib/x86_64-linux-gnu:/usr/lib/i386-linux-gnu:/opt/libjpeg-turbo/lib64/:/usr/local/lib/:/usr/local/nvidia/lib:/usr/local/nvidia/lib64\n",
      "LC_ALL=en_US.UTF-8\n",
      "KASM_SVC_ACCEPT_CUT_TEXT=-AcceptCutText 1\n",
      "INST_SCRIPTS=/ubuntu/install/tools/install_tools.sh                   /ubuntu/install/chrome/install_chrome.sh                   /ubuntu/install/chromium/install_chromium.sh                   /ubuntu/install/sublime_text/install_sublime_text.sh                   /ubuntu/install/slack/install_slack.sh                   /ubuntu/install/vs_code/install_vs_code.sh                   /ubuntu/install/cleanup/cleanup.sh\n",
      "XDG_DATA_DIRS=/usr/local/share:/usr/share\n",
      "VNC_PORT=5901\n",
      "PATH=/home/kasm-user/gems/bin:/home/kasm-user/gems/bin:/home/kasm-user/gems/bin:/home/kasm-user/gems/bin:/home/kasm-user/gems/bin:/usr/local/sbin:/usr/local/bin:/usr/sbin:/usr/bin:/sbin:/bin\n",
      "NO_VNC_PORT=6901\n",
      "DBUS_SESSION_BUS_ADDRESS=unix:abstract=/tmp/dbus-ZTDvCTO9Af,guid=17bf86798599f8f72255d78d64f8f400\n",
      "DEBUG=false\n",
      "DEBIAN_FRONTEND=noninteractive\n",
      "_=/usr/bin/env\n"
     ]
    }
   ],
   "source": [
    "%%script bash\n",
    "\n",
    "# This command has no dependencies\n",
    "\n",
    "echo \"Show the shell environment variables, key on left of equal value on right\"\n",
    "echo \"\"\n",
    "\n",
    "env"
   ]
  },
  {
   "cell_type": "code",
   "execution_count": 13,
   "metadata": {
    "vscode": {
     "languageId": "shellscript"
    }
   },
   "outputs": [
    {
     "name": "stdout",
     "output_type": "stream",
     "text": [
      "\n",
      "show the secrets of .git\n",
      "total 64\n",
      "drwxr-xr-x  2 kasm-user kasm-user 4096 Aug 29 21:52 branches\n",
      "-rw-r--r--  1 kasm-user kasm-user  371 Sep  6 22:16 COMMIT_EDITMSG\n",
      "-rw-r--r--  1 kasm-user kasm-user  293 Sep  6 22:17 config\n",
      "-rw-r--r--  1 kasm-user kasm-user   73 Aug 29 21:52 description\n",
      "-rw-r--r--  1 kasm-user kasm-user  105 Sep  6 22:25 FETCH_HEAD\n",
      "-rw-r--r--  1 kasm-user kasm-user   21 Aug 29 21:52 HEAD\n",
      "drwxr-xr-x  2 kasm-user kasm-user 4096 Aug 29 21:52 hooks\n",
      "-rw-r--r--  1 kasm-user kasm-user 9351 Sep  6 22:17 index\n",
      "drwxr-xr-x  2 kasm-user kasm-user 4096 Aug 29 21:52 info\n",
      "drwxr-xr-x  3 kasm-user kasm-user 4096 Aug 29 21:52 logs\n",
      "drwxr-xr-x 75 kasm-user kasm-user 4096 Sep  6 22:25 objects\n",
      "-rw-r--r--  1 kasm-user kasm-user   41 Sep  6 22:17 ORIG_HEAD\n",
      "-rw-r--r--  1 kasm-user kasm-user  112 Aug 29 21:52 packed-refs\n",
      "drwxr-xr-x  5 kasm-user kasm-user 4096 Aug 29 21:52 refs\n",
      "\n",
      "look at config file\n",
      "[core]\n",
      "\trepositoryformatversion = 0\n",
      "\tfilemode = true\n",
      "\tbare = false\n",
      "\tlogallrefupdates = true\n",
      "[remote \"origin\"]\n",
      "\turl = https://github.com/BearytheGreenBear/csp-blog.git\n",
      "\tfetch = +refs/heads/*:refs/remotes/origin/*\n",
      "[branch \"main\"]\n",
      "\tremote = origin\n",
      "\tmerge = refs/heads/main\n",
      "[pull]\n",
      "\trebase = false\n"
     ]
    }
   ],
   "source": [
    "%%script bash\n",
    "\n",
    "# Extract saved variables\n",
    "source /tmp/variables.sh\n",
    "\n",
    "cd $project\n",
    "\n",
    "echo \"\"\n",
    "echo \"show the secrets of .git\"\n",
    "cd .git\n",
    "ls -l\n",
    "\n",
    "echo \"\"\n",
    "echo \"look at config file\"\n",
    "cat config"
   ]
  },
  {
   "cell_type": "markdown",
   "metadata": {},
   "source": [
    "## Advanced Student Request - Make a file in Bash\n",
    "> This example was requested by a student (Jun Lim, CSA). The request was to make jupyer file using bash, I adapted the request to markdown.  This type of thought will have great extrapolation to coding and possibilities of using List, Arrays, or APIs to build user interfaces.  JavaScript is a language where building HTML is very common.\n",
    "\n",
    "> To get more interesting output from terminal, this will require using something like mdless (https://github.com/ttscoff/mdless).  This enables see markdown in rendered format.\n",
    "- On Desktop [Install PKG from MacPorts](https://www.macports.org/install.php)\n",
    "- In Terminal on MacOS\n",
    "    - [Install ncurses](https://ports.macports.org/port/ncurses/)\n",
    "    - ```gem install mdless```\n",
    "    \n",
    "> Output of the example is much nicer in \"jupyter\""
   ]
  },
  {
   "cell_type": "code",
   "execution_count": null,
   "metadata": {
    "vscode": {
     "languageId": "shellscript"
    }
   },
   "outputs": [],
   "source": [
    "%%script bash\n",
    "\n",
    "# This example has error in VSCode, it run best on Jupyter\n",
    "cd /tmp\n",
    "\n",
    "file=\"sample.md\"\n",
    "if [ -f \"$file\" ]; then\n",
    "    rm $file\n",
    "fi\n",
    "\n",
    "tee -a $file >/dev/null <<EOF\n",
    "# Show Generated Markdown\n",
    "This introductory paragraph and this line and the title above are generated using tee with the standard input (<<) redirection operator.\n",
    "- This bulleted element is still part of the tee body.\n",
    "EOF\n",
    "\n",
    "echo \"- This bulleted element and lines below are generated using echo with standard output (>>) redirection operator.\" >> $file\n",
    "echo \"- The list definition, as is, is using space to seperate lines.  Thus the use of commas and hyphens in output.\" >> $file\n",
    "actions=(\"ls,list-directory\" \"cd,change-directory\" \"pwd,present-working-directory\" \"if-then-fi,test-condition\" \"env,bash-environment-variables\" \"cat,view-file-contents\" \"tee,write-to-output\" \"echo,display-content-of-string\" \"echo_text_>\\$file,write-content-to-file\" \"echo_text_>>\\$file,append-content-to-file\")\n",
    "for action in ${actions[@]}; do  # for loop is very similar to other language, though [@], semi-colon, do are new\n",
    "  action=${action//-/ }  # convert dash to space\n",
    "  action=${action//,/: } # convert comma to colon\n",
    "  action=${action//_text_/ \\\"sample text\\\" } # convert _text_ to sample text, note escape character \\ to avoid \"\" having meaning\n",
    "  echo \"    - ${action//-/ }\" >> $file  # echo is redirected to file with >>\n",
    "done\n",
    "\n",
    "echo \"\"\n",
    "echo \"File listing and status\"\n",
    "ls -l $file # list file\n",
    "wc $file   # show words\n",
    "mdless $file  # this requires installation, but renders markown from terminal\n",
    "\n",
    "rm $file  # clean up termporary file"
   ]
  },
  {
   "cell_type": "markdown",
   "metadata": {},
   "source": [
    "## Hack Preparation.\n",
    "> Review Tool Setup Procedures and think about some thing you could verify through a Shell notebook.\n",
    "- Come up with your own student view of this procedure to show your tools are installed.  It is best that you keep the few things you understand, add things later as you start to understand them.\n",
    "- Name and create blog notes on some Linux commands you will use frequently.\n",
    "- Is there anything we use to verify tools we installed? Review versions?\n",
    "- How would you update a repository?  Use the git command line? \n"
   ]
  }
 ],
 "metadata": {
  "kernelspec": {
   "display_name": "Python 3 (ipykernel)",
   "language": "python",
   "name": "python3"
  },
  "language_info": {
   "codemirror_mode": {
    "name": "ipython",
    "version": 3
   },
   "file_extension": ".py",
   "mimetype": "text/x-python",
   "name": "python",
   "nbconvert_exporter": "python",
   "pygments_lexer": "ipython3",
   "version": "3.10.12"
  },
  "vscode": {
   "interpreter": {
    "hash": "aee8b7b246df8f9039afb4144a1f6fd8d2ca17a180786b69acc140d282b71a49"
   }
  }
 },
 "nbformat": 4,
 "nbformat_minor": 2
}
