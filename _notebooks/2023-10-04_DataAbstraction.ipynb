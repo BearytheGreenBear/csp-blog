{
 "cells": [
  {
   "cell_type": "code",
   "execution_count": null,
   "id": "49e3501d",
   "metadata": {},
   "outputs": [],
   "source": [
    "string = \"Oranges\"\n",
    "print(string)"
   ]
  },
  {
   "cell_type": "code",
   "execution_count": null,
   "id": "b1fd55ab",
   "metadata": {},
   "outputs": [],
   "source": [
    "num = 88\n",
    "string = \"qwerty\"\n",
    "bool = False"
   ]
  },
  {
   "cell_type": "code",
   "execution_count": null,
   "id": "37c03a89",
   "metadata": {},
   "outputs": [],
   "source": [
    "A = 0\n",
    "B = 1\n",
    "C = 2\n",
    "A = B = C\n",
    "print(A, B, C)"
   ]
  },
  {
   "cell_type": "code",
   "execution_count": null,
   "id": "ca24695c",
   "metadata": {},
   "outputs": [],
   "source": [
    "myList = [i**2 for i in range(100)]\n",
    "print(myList[7]) # 49"
   ]
  },
  {
   "cell_type": "code",
   "execution_count": null,
   "id": "03e2c151",
   "metadata": {},
   "outputs": [],
   "source": [
    "people = {\n",
    "    \"Bruh\": 1;\n",
    "}"
   ]
  },
  {
   "cell_type": "code",
   "execution_count": null,
   "id": "3adc75c5",
   "metadata": {},
   "outputs": [],
   "source": [
    "import json\n",
    "string = \"{'Bob': 1, 'Alice': 2, 'Malala': 3}\"\n",
    "json_obj = json.dumps(string)\n",
    "print(json_obj)"
   ]
  },
  {
   "cell_type": "markdown",
   "id": "2729fbe2",
   "metadata": {},
   "source": [
    "### Homework"
   ]
  },
  {
   "cell_type": "code",
   "execution_count": 4,
   "id": "f89ae8a3",
   "metadata": {},
   "outputs": [
    {
     "name": "stdout",
     "output_type": "stream",
     "text": [
      "name:\tKyle Liang\n",
      "age:\t15\n",
      "isStu:\tTrue\n",
      "books:\t['Sapiens', 'Twelve Rules For Life', '1984']\n"
     ]
    }
   ],
   "source": [
    "def displayData(data):\n",
    "    for key, val in data.items():\n",
    "        print(f\"{key}:\\t{val}\")\n",
    "\n",
    "myDict = {\n",
    "    \"name\": \"Kyle Liang\",\n",
    "    \"age\": 15,\n",
    "    \"isStu\": True,\n",
    "    \"books\": [\"Sapiens\", \"Twelve Rules For Life\", \"1984\"]\n",
    "}\n",
    "\n",
    "displayData(myDict)\n",
    "\n"
   ]
  },
  {
   "cell_type": "code",
   "execution_count": null,
   "id": "044bd687",
   "metadata": {},
   "outputs": [],
   "source": []
  }
 ],
 "metadata": {
  "kernelspec": {
   "display_name": "Python 3 (ipykernel)",
   "language": "python",
   "name": "python3"
  },
  "language_info": {
   "codemirror_mode": {
    "name": "ipython",
    "version": 3
   },
   "file_extension": ".py",
   "mimetype": "text/x-python",
   "name": "python",
   "nbconvert_exporter": "python",
   "pygments_lexer": "ipython3",
   "version": "3.10.12"
  }
 },
 "nbformat": 4,
 "nbformat_minor": 5
}
