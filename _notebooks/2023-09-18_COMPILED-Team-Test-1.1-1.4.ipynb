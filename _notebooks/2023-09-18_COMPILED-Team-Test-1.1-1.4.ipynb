{
 "cells": [
  {
   "cell_type": "markdown",
   "id": "3b4fffb9",
   "metadata": {},
   "source": [
    "---\n",
    "toc: true\n",
    "comments: false\n",
    "layout: default\n",
    "title: Team Test 1.1-1.4 (Compiled)\n",
    "courses: { csp: {week: 5} }\n",
    "type: hacks\n",
    "---"
   ]
  },
  {
   "cell_type": "markdown",
   "id": "2d37fa39",
   "metadata": {},
   "source": [
    "## Collaboration Review\n",
    ">What are the benefits of a team? Explain some of the diveristies that your team has to offer.\n",
    "Describe how you will facilitate communication amongst group members.\n",
    "How will you hold each person accountable for their portion of the work? Think about dates, review tickets, and peer revies."
   ]
  },
  {
   "cell_type": "markdown",
   "id": "73b704c9",
   "metadata": {},
   "source": [
    "## Program Function and Purpose"
   ]
  },
  {
   "cell_type": "code",
   "execution_count": null,
   "id": "664116f0",
   "metadata": {},
   "outputs": [],
   "source": [
    "# Program with Output\n",
    "\n",
    "print(\"Hello, World!\")"
   ]
  },
  {
   "cell_type": "code",
   "execution_count": 2,
   "id": "89a3afb0",
   "metadata": {
    "scrolled": true
   },
   "outputs": [
    {
     "name": "stdout",
     "output_type": "stream",
     "text": [
      "What is your name?\n",
      "> Kyle\n",
      "Hello, Kyle!\n"
     ]
    }
   ],
   "source": [
    "# Program with Input and Output\n",
    "\n",
    "name = input(\"What is your name?\\n> \")\n",
    "print(f\"Hello, {name}!\")"
   ]
  },
  {
   "cell_type": "code",
   "execution_count": 4,
   "id": "52055640",
   "metadata": {},
   "outputs": [
    {
     "name": "stdout",
     "output_type": "stream",
     "text": [
      "What is your favorite fruit?\n",
      "> avacado\n",
      "Great! You have 4:\n",
      "0. apple\n",
      "1. banana\n",
      "2. cherry\n",
      "3. avacado\n",
      "Which fruit do you want to eat?\n",
      "> banana\n",
      "Great! You ate the banana. You now have the following fruits:\n",
      "0. apple\n",
      "1. cherry\n",
      "2. avacado\n",
      "Oops! The avacado fell of the table. You now have these fruits:\n",
      "0. apple\n",
      "1. cherry\n"
     ]
    }
   ],
   "source": [
    "# Program with a List\n",
    "\n",
    "myFruits = [\"apple\", \"banana\", \"cherry\"]\n",
    "\n",
    "def displayFruits():\n",
    "    for i, fruit in enumerate(myFruits):\n",
    "        print(f\"{i}. {fruit}\")\n",
    "\n",
    "# Append to List\n",
    "favFruit = input(\"What is your favorite fruit?\\n> \")\n",
    "if favFruit not in myFruits:\n",
    "    myFruits.append(favFruit)\n",
    "print(f\"Great! You have {len(myFruits)}:\")\n",
    "displayFruits()\n",
    "\n",
    "# Remove from List\n",
    "ateFruit = input(\"Which fruit do you want to eat?\\n> \")\n",
    "if ateFruit not in myFruits:\n",
    "    print(\"Huh? You don't have that type of fruit. You only have the following:\")\n",
    "else:\n",
    "    print(f\"Great! You ate the {ateFruit}. You now have the following fruits:\")\n",
    "    myFruits.remove(ateFruit)\n",
    "displayFruits()\n",
    "\n",
    "# Pop from List\n",
    "print(f\"Oops! The {myFruits[-1]} fell of the table. You now have these fruits:\")\n",
    "myFruits.pop()\n",
    "displayFruits()"
   ]
  },
  {
   "cell_type": "code",
   "execution_count": 17,
   "id": "ce92bafb",
   "metadata": {},
   "outputs": [
    {
     "name": "stdout",
     "output_type": "stream",
     "text": [
      "What's your name?\n",
      "> Malala\n",
      "What's your favorite fruit?\n",
      "> egg\n",
      "What! You don't like egg. What is your real favorite fruit?\n",
      "> halal fried chicken\n",
      "Who is your CS teacher?\n",
      "> morteson\n",
      "What is there favorite fruit?\n",
      "> avocado\n",
      "Bruh...\n",
      "Trevor has a apple\n",
      "Jason has a banana\n",
      "Ian has a cherry\n",
      "Malala has a Malala\n",
      "morteson has a avocado\n",
      "Do you like morteson? (YES/NO)NO\n",
      "Bruh..................................\n",
      "Trevor has a apple\n",
      "Jason has a banana\n",
      "Ian has a cherry\n",
      "Malala has a Malala\n"
     ]
    }
   ],
   "source": [
    "# Program with a Dictionary\n",
    "\n",
    "def displayFruits():\n",
    "    for person in favFruits.keys():\n",
    "        print(f\"{person} has a {favFruits[person]}\")\n",
    "\n",
    "myFruits = [\"apple\", \"banana\", \"cherry\"]\n",
    "people = [\"Trevor\", \"Jason\", \"Ian\"]\n",
    "\n",
    "name = input(\"What's your name?\\n> \")\n",
    "people.append(name)\n",
    "fruit = input(\"What's your favorite fruit?\\n> \")\n",
    "myFruits.append(fruit)\n",
    "favFruits = dict()\n",
    "\n",
    "# Creating a Dictionary from two lists (key-value pairs)\n",
    "for person, fruit in zip(people, myFruits):\n",
    "    favFruits[person] = fruit\n",
    "\n",
    "# Editing a Key's Value\n",
    "fruit = input(f\"What! You don't like {favFruits[name]}. What is your real favorite fruit?\\n> \")\n",
    "favFruits[name] = fruit\n",
    "\n",
    "# Appending to a Dictionary\n",
    "teacher = input(\"Who is your CS teacher?\\n> \")\n",
    "fruit = input(\"What is there favorite fruit?\\n> \")\n",
    "favFruits[teacher] = fruit\n",
    "print(\"Bruh...\")\n",
    "displayFruits()\n",
    "\n",
    "# Removing from a Dictionary\n",
    "flag = input(f\"Do you like {teacher}? (YES/NO)\\n> \")\n",
    "if (flag == \"NO\"):\n",
    "    favFruits.pop(teacher)\n",
    "print(\"Bruh..................................\")\n",
    "displayFruits()"
   ]
  },
  {
   "cell_type": "code",
   "execution_count": 27,
   "id": "d481df66",
   "metadata": {},
   "outputs": [
    {
     "name": "stdout",
     "output_type": "stream",
     "text": [
      "Enter a non-negative number (between 2 and 100 inclusive)\n",
      "> 4\n",
      "Your number is 4\n",
      "The prime factors are: 2 2\n",
      "4! is: 24\n"
     ]
    }
   ],
   "source": [
    "# Programming with Iteration\n",
    "\n",
    "# Prime Factorization\n",
    "# https://www.geeksforgeeks.org/sieve-of-eratosthenes/\n",
    "def primeFactors(x):\n",
    "    factors = []\n",
    "    for i in range(2, x): # For-Loop\n",
    "        while x % i == 0: # While-Loop\n",
    "            factors.append(str(i))\n",
    "            x /= i\n",
    "    if (x > 1):\n",
    "            factors.append(x)\n",
    "    return factors\n",
    "\n",
    "# Recursive Function to find Factorial\n",
    "# https://www.geeksforgeeks.org/python-program-for-factorial-of-a-number/\n",
    "def factorial(x):\n",
    "    if (x <= 1):\n",
    "        return 1\n",
    "    return x*factorial(x-1) # Recursion\n",
    "\n",
    "num = input(\"Enter a non-negative number (between 2 and 100 inclusive)\\n> \")\n",
    "if num.isnumeric():\n",
    "    num = max(int(num) % 100, 2)\n",
    "    print(f\"Your number is {num}\")\n",
    "    print(f\"The prime factors are: {' '.join(primeFactors(num))}\")\n",
    "    print(f\"{num}! is: {factorial(num)}\")\n"
   ]
  },
  {
   "cell_type": "code",
   "execution_count": 31,
   "id": "a7fbcf3a",
   "metadata": {},
   "outputs": [
    {
     "name": "stdout",
     "output_type": "stream",
     "text": [
      "The Manhattan Distance between (0, 0) and (3, 4) is: 7\n",
      "The Euclidean Distance between (0, 0) and (3, 4) is: 5.0\n",
      "\n",
      "The Manhattan Distance between (0, 0) and (1, 1) is: 2\n",
      "The Euclidean Distance between (0, 0) and (1, 1) is: 1.4142135623730951\n",
      "\n",
      "The Manhattan Distance between (0, 0) and (5, 12) is: 17\n",
      "The Euclidean Distance between (0, 0) and (5, 12) is: 13.0\n",
      "\n",
      "The Manhattan Distance between (2, 3) and (5, 8) is: 8\n",
      "The Euclidean Distance between (2, 3) and (5, 8) is: 5.830951894845301\n",
      "\n",
      "The Manhattan Distance between (3, 1) and (4, 1) is: 1\n",
      "The Euclidean Distance between (3, 1) and (4, 1) is: 1.0\n",
      "\n"
     ]
    }
   ],
   "source": [
    "# Program with a Function to perform mathematical and/or a statistical calculations\n",
    "\n",
    "def sqrt(x):\n",
    "    return x**0.5\n",
    "\n",
    "# Manhattan Distance\n",
    "# https://www.geeksforgeeks.org/calculate-the-manhattan-distance-between-two-cells-of-given-2d-array/\n",
    "def manhattanDist(x1, y1, x2, y2):\n",
    "    return abs(x1-x2)+abs(y1-y2)\n",
    "\n",
    "# Euclidean Distance\n",
    "# https://www.geeksforgeeks.org/program-calculate-distance-two-points/\n",
    "def euclideanDist(x1, y1, x2, y2):\n",
    "    return sqrt((x1-x2)**2+(y1-y2)**2)\n",
    "\n",
    "points = [\n",
    "    (0, 0, 3, 4),\n",
    "    (0, 0, 1, 1),\n",
    "    (0, 0, 5, 12),\n",
    "    (2, 3, 5, 8),\n",
    "    (3, 1, 4, 1)\n",
    "]\n",
    "\n",
    "for x1, y1, x2, y2 in points:\n",
    "    print(f\"The Manhattan Distance between ({x1}, {y1}) and ({x2}, {y2}) is: {manhattanDist(x1, y1, x2, y2)}\")\n",
    "    print(f\"The Euclidean Distance between ({x1}, {y1}) and ({x2}, {y2}) is: {euclideanDist(x1, y1, x2, y2)}\")\n",
    "    print()\n",
    "    "
   ]
  },
  {
   "cell_type": "code",
   "execution_count": 37,
   "id": "1337c193",
   "metadata": {},
   "outputs": [
    {
     "name": "stdout",
     "output_type": "stream",
     "text": [
      "Guess a number between 1 and 100 (inclusive)\n",
      "> 50\n",
      "Your guess is too low!\n",
      "\n",
      "Guess a number between 1 and 100 (inclusive)\n",
      "> 25\n",
      "Your guess is too low!\n",
      "\n",
      "Guess a number between 1 and 100 (inclusive)\n",
      "> 75\n",
      "Your guess is too low!\n",
      "\n",
      "Guess a number between 1 and 100 (inclusive)\n",
      "> 85\n",
      "Your guess is too high!\n",
      "\n",
      "Guess a number between 1 and 100 (inclusive)\n",
      "> 80\n",
      "Your guess is too low!\n",
      "\n",
      "Guess a number between 1 and 100 (inclusive)\n",
      "> 82\n",
      "Your guess is too low!\n",
      "\n",
      "Guess a number between 1 and 100 (inclusive)\n",
      "> 83\n",
      "Your guess is too low!\n",
      "\n",
      "Guess a number between 1 and 100 (inclusive)\n",
      "> 84\n",
      "Correct! 84 is the right answer! It took you 8 tries to guess correctly!\n",
      "\n"
     ]
    }
   ],
   "source": [
    "# Program with a Selection/Condition\n",
    "\n",
    "from random import randint\n",
    "\n",
    "num = -1\n",
    "ans = randint(1, 101)\n",
    "cnt = 0\n",
    "while num != ans:\n",
    "    num = input(\"Guess a number between 1 and 100 (inclusive)\\n> \")\n",
    "    if not num.isnumeric():\n",
    "        print(\"Error: That's not a number... bruh...\")\n",
    "        break\n",
    "    num = int(num)\n",
    "    cnt += 1\n",
    "    if num < ans:\n",
    "        print(\"Your guess is too low!\\n\")\n",
    "    elif num > ans:\n",
    "        print(\"Your guess is too high!\\n\")\n",
    "    else:\n",
    "        print(f\"Correct! {num} is the right answer! It took you {cnt} tries to guess correctly!\\n\")\n"
   ]
  },
  {
   "cell_type": "code",
   "execution_count": null,
   "id": "158d3ec2",
   "metadata": {},
   "outputs": [],
   "source": []
  }
 ],
 "metadata": {
  "kernelspec": {
   "display_name": "Python 3 (ipykernel)",
   "language": "python",
   "name": "python3"
  },
  "language_info": {
   "codemirror_mode": {
    "name": "ipython",
    "version": 3
   },
   "file_extension": ".py",
   "mimetype": "text/x-python",
   "name": "python",
   "nbconvert_exporter": "python",
   "pygments_lexer": "ipython3",
   "version": "3.9.13"
  }
 },
 "nbformat": 4,
 "nbformat_minor": 5
}
