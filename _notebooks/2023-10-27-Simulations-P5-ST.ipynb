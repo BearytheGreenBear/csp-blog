{
 "cells": [
  {
   "cell_type": "markdown",
   "metadata": {},
   "source": [
    "---\n",
    "comments: true\n",
    "layout: post\n",
    "title: Simulations - Student Teach\n",
    "description: Student Lesson\n",
    "type: hacks\n",
    "courses: { compsci: {week: 8} }\n",
    "---"
   ]
  },
  {
   "cell_type": "markdown",
   "metadata": {},
   "source": [
    "## Simulations \n"
   ]
  },
  {
   "cell_type": "markdown",
   "metadata": {},
   "source": [
    "> A simulation is the use of a computer software to represent the dynamic responses of one system by the behaviour of another system modeled after it. A simulation uses a mathematical descriptions, or models, of a real system in the form of a computer program."
   ]
  },
  {
   "cell_type": "markdown",
   "metadata": {},
   "source": [
    "![simulation](https://www.simscale.com/wp-content/uploads/2022/11/dron-quadcopter-simulation.png)"
   ]
  },
  {
   "cell_type": "markdown",
   "metadata": {},
   "source": [
    "## College Board Essential Knowledge"
   ]
  },
  {
   "cell_type": "markdown",
   "metadata": {},
   "source": [
    "> Simulation are absractions of more complex objects or phenomena for a specific purpose \n",
    "\n",
    "- Mimic Real World Events\n",
    "- Allows investigation of phenomenons without contraints of the Real World\n",
    "- Helps you draw accurate inferences\n",
    "\n",
    "> Simulations utilize varying sets of values to reflect the changings states of a phenomenon\n",
    "\n",
    "- simulations can simplfly things for functionality\n",
    "- Simulations can contain bias from real world elements, that were chosen to be included or excluded\n",
    "\n",
    "> Simulations work best when the real world experemnts are too impractical or time consuming. For example, simulating how different cars behave when they crash, would be much better than crashng actual cars in the real world, which would be expensive and dangerous.\n",
    "\n",
    "<a href=\"https://ibb.co/f4jKcBY\"><img src=\"https://i.ibb.co/NZck4Q6/simulations-vs-experiments.png\" alt=\"simulations-vs-experiments\" border=\"0\"></a>\n"
   ]
  },
  {
   "cell_type": "markdown",
   "metadata": {},
   "source": [
    "## Rolling the Dice"
   ]
  },
  {
   "cell_type": "markdown",
   "metadata": {},
   "source": [
    "<a href=\"https://ibb.co/PGBhfPD\"><img src=\"https://i.ibb.co/XxmsvKY/craps-rolling-seven-7.jpg\" alt=\"craps-rolling-seven-7\" border=\"0\"></a>\n",
    "\n",
    "> Simulating something like a dice roll in real life would require accounting for things like: weight, flaws in design, thrust, and gravity.\n",
    "- KEEP IT SIMPLE! just use a random-number generator! Ignore minor causes of variablility"
   ]
  },
  {
   "cell_type": "markdown",
   "metadata": {},
   "source": [
    "## Random"
   ]
  },
  {
   "cell_type": "markdown",
   "metadata": {},
   "source": [
    "- \"Random\" is a built-in python function that allow the user to draw a random value from a set range.\n",
    "- A Random Number Generator (RNG) is a common simulation that selects a random value from an array.\n",
    "- The following code cell utilizes \"random\" to select a number from 1 to 100."
   ]
  },
  {
   "cell_type": "code",
   "execution_count": null,
   "metadata": {},
   "outputs": [],
   "source": [
    "#imports random module so we can use it in our code\n",
    "import random\n",
    "\n",
    "#sets variable random_number as a random number between 1 and 100\n",
    "random_number = random.randint(1, 100)\n",
    "\n",
    "#Printing out your random Number\n",
    "print(random_number)"
   ]
  },
  {
   "cell_type": "markdown",
   "metadata": {},
   "source": [
    "## More complex usage of \"random\"; Coin Toss Simulation"
   ]
  },
  {
   "cell_type": "code",
   "execution_count": null,
   "metadata": {},
   "outputs": [],
   "source": [
    "import random\n",
    "def flip_coin():\n",
    "    return random.choice([\"Heads\", \"Tails\"])\n",
    "def coin_flip_simulation(num_flips):\n",
    "    heads_count = 0\n",
    "    tails_count = 0\n",
    "    for _ in range(num_flips):\n",
    "        result = flip_coin()\n",
    "        if result == \"Heads\":\n",
    "            heads_count += 1\n",
    "        else:\n",
    "            tails_count += 1\n",
    "    return heads_count, tails_count\n",
    "if __name__ == \"__main__\":\n",
    "    num_flips = 1000  #This is the number of coin flips you want to simulate\n",
    "    heads, tails = coin_flip_simulation(num_flips)\n",
    "    print(\"Number of Heads: \"+ str(heads))\n",
    "    print(\"Number of Tails: \" + str(tails))\n",
    "    print(\"Heads Probability: \"+ str({heads / num_flips}))\n",
    "    print(\"Tails Probability: \"+ str({tails / num_flips}))"
   ]
  },
  {
   "cell_type": "markdown",
   "metadata": {},
   "source": [
    "## Popcorn Hack #1"
   ]
  },
  {
   "cell_type": "markdown",
   "metadata": {},
   "source": [
    "Utilize \"random\" to create a basic simulation of a rolling TWO dice. Print the sum of both dice rolls. Remember to practice good syntax when naming your variables. "
   ]
  },
  {
   "cell_type": "code",
   "execution_count": 3,
   "metadata": {},
   "outputs": [
    {
     "name": "stdout",
     "output_type": "stream",
     "text": [
      "First Dice Roll: 5\n",
      "Second Dice Roll: 2\n",
      "Sum of Dice Rolls: 7\n",
      "\n",
      "First Dice Roll: 5\n",
      "Second Dice Roll: 1\n",
      "Sum of Dice Rolls: 6\n",
      "\n",
      "First Dice Roll: 2\n",
      "Second Dice Roll: 2\n",
      "Sum of Dice Rolls: 4\n",
      "\n",
      "First Dice Roll: 4\n",
      "Second Dice Roll: 1\n",
      "Sum of Dice Rolls: 5\n",
      "\n",
      "First Dice Roll: 4\n",
      "Second Dice Roll: 5\n",
      "Sum of Dice Rolls: 9\n",
      "\n"
     ]
    }
   ],
   "source": [
    "from random import randint\n",
    "\n",
    "def rollADice():\n",
    "    return randint(1, 6)\n",
    "\n",
    "\n",
    "for _ in range(5):\n",
    "    dice1 = rollADice()\n",
    "    dice2 = rollADice()\n",
    "    print(f\"First Dice Roll: {dice1}\")\n",
    "    print(f\"Second Dice Roll: {dice2}\")\n",
    "    print(f\"Sum of Dice Rolls: {dice1+dice2}\")\n",
    "    print()"
   ]
  },
  {
   "cell_type": "markdown",
   "metadata": {},
   "source": [
    "## Algorithms\n",
    ">Simulations often utilize algorithms and equations to perform tasks because simulations don't always have the same output\n",
    "- the output of a simulation depends on the input\n",
    "\n",
    ">An algorithm is a finite sequence of instructions used to solve problems or perform computations. \n",
    "- commonly used alongside functions\n"
   ]
  },
  {
   "cell_type": "markdown",
   "metadata": {},
   "source": [
    "## Example Algorithm in a function"
   ]
  },
  {
   "cell_type": "code",
   "execution_count": 42,
   "metadata": {},
   "outputs": [
    {
     "data": {
      "text/plain": [
       "7"
      ]
     },
     "execution_count": 42,
     "metadata": {},
     "output_type": "execute_result"
    }
   ],
   "source": [
    "#Defining Function\n",
    "def algorithm(input):\n",
    "    \n",
    "    #Manipulating input and preparing it for the output.  \n",
    "    output = input+2\n",
    "    \n",
    "    #Return the output\n",
    "    return output\n",
    "\n",
    "#Call the Function to start the algorithm\n",
    "algorithm(5)\n",
    "    "
   ]
  },
  {
   "cell_type": "markdown",
   "metadata": {},
   "source": [
    "## Mathematics\n",
    "- Math can also prove to be very useful in certain types of situations.\n",
    "- Commonly used along with Algorithms when simulating various things\n",
    "\n",
    "![math](https://pythontutorialhome.files.wordpress.com/2019/05/image-2.png)\n"
   ]
  },
  {
   "cell_type": "markdown",
   "metadata": {},
   "source": [
    "## Popcorn Hack #2"
   ]
  },
  {
   "cell_type": "markdown",
   "metadata": {},
   "source": [
    "Simulate how long an object will fall for using an algorithm, with user-inputed variables for height dropped. Use the following formula as a reference.\n",
    "\n",
    "![gravity ](https://hepweb.ucsd.edu/ph110b/110b_notes/img272.png)\n",
    "\n",
    "- t = time (output)\n",
    "- h = height dropped from (input)\n",
    "- g = constant (given)"
   ]
  },
  {
   "cell_type": "code",
   "execution_count": 9,
   "metadata": {},
   "outputs": [
    {
     "name": "stdout",
     "output_type": "stream",
     "text": [
      "Height Dropped: 0\n",
      "Time in the air: 0.0\n",
      "Height Dropped: 20\n",
      "Time in the air: 2.019275109384609\n",
      "Height Dropped: 40\n",
      "Time in the air: 2.855686245854129\n",
      "Height Dropped: 60\n",
      "Time in the air: 3.4974870839133447\n",
      "Height Dropped: 80\n",
      "Time in the air: 4.038550218769218\n",
      "Height Dropped: 100\n",
      "Time in the air: 4.515236409857309\n"
     ]
    }
   ],
   "source": [
    "# Constant, Acceleration due to gravity (m/s^2)\n",
    "G = 9.81 \n",
    "\n",
    "def simulation(height_dropped):\n",
    "    return (2*height_dropped/G)**(.5)\n",
    "\n",
    "for h in range(0, 101, 20):\n",
    "    print(f\"Height Dropped: {h}\")\n",
    "    print(f\"Time in the air: {simulation(h)}\")"
   ]
  },
  {
   "cell_type": "markdown",
   "metadata": {},
   "source": [
    "# Using Loops in Simulations"
   ]
  },
  {
   "cell_type": "markdown",
   "metadata": {},
   "source": [
    "> For loops can also be used in simulations\n",
    "- They can simulate events that repeat but don't always have the same output\n"
   ]
  },
  {
   "cell_type": "code",
   "execution_count": 44,
   "metadata": {},
   "outputs": [
    {
     "name": "stdout",
     "output_type": "stream",
     "text": [
      "This is run number: 0\n",
      "This is run number: 1\n",
      "This is run number: 2\n",
      "This is run number: 3\n"
     ]
    }
   ],
   "source": [
    "# Example For Loop\n",
    "\n",
    "#Creating For Loop to repeat 4 times\n",
    "for i in range(4):\n",
    "    \n",
    "    #Action that happens inside for loop\n",
    "    print(\"This is run number: \" + str(i))\n",
    "    "
   ]
  },
  {
   "cell_type": "markdown",
   "metadata": {},
   "source": [
    "## Popcorn Hack #3"
   ]
  },
  {
   "cell_type": "markdown",
   "metadata": {},
   "source": [
    "You are gambling addict (sigma). \n",
    "\n",
    "Each session you roll 2 dice.\n",
    "\n",
    "If your dice roll is greater than or equal to 9 you win the session.\n",
    "\n",
    "If you win over 5 sessions, you win the jackpot.\n",
    "\n",
    "Simulate your odds to predict if you will hit the jackpot (how many rounds did you win?) using a for loop and random.\n"
   ]
  },
  {
   "cell_type": "code",
   "execution_count": 12,
   "metadata": {},
   "outputs": [
    {
     "name": "stdout",
     "output_type": "stream",
     "text": [
      "Won: 5/10 or 50.0%\n",
      "Got the jackpot? True\n",
      "\n",
      "Won: 4/10 or 40.0%\n",
      "Got the jackpot? False\n",
      "\n",
      "Won: 3/10 or 30.0%\n",
      "Got the jackpot? False\n",
      "\n",
      "Won: 2/10 or 20.0%\n",
      "Got the jackpot? False\n",
      "\n",
      "Won: 4/10 or 40.0%\n",
      "Got the jackpot? False\n",
      "\n",
      "Won: 3/10 or 30.0%\n",
      "Got the jackpot? False\n",
      "\n",
      "Won: 2/10 or 20.0%\n",
      "Got the jackpot? False\n",
      "\n",
      "Won: 3/10 or 30.0%\n",
      "Got the jackpot? False\n",
      "\n",
      "Won: 1/10 or 10.0%\n",
      "Got the jackpot? False\n",
      "\n",
      "Won: 3/10 or 30.0%\n",
      "Got the jackpot? False\n",
      "\n"
     ]
    }
   ],
   "source": [
    "from random import randint\n",
    "\n",
    "\n",
    "for _ in range(10):\n",
    "    winRounds = 0\n",
    "    winJackPot = 0\n",
    "\n",
    "    for i in range(1, 10):\n",
    "        if (randint(1, 6)+randint(1, 6) >= 9):\n",
    "            winRounds += 1\n",
    "\n",
    "    print(f\"Won: {winRounds}/10 or {winRounds/10 * 100}%\")\n",
    "    print(f\"Got the jackpot? {winRounds >= 5}\")\n",
    "    print()\n"
   ]
  },
  {
   "cell_type": "markdown",
   "metadata": {},
   "source": [
    "## BONUS POPCORN HACK\n",
    "> Welcome to Flight Simulator! Your goal is to complete a Python program that simulates a flight We've set up some initial values for altitude, speed, and fuel. Your task is to update these values to make the flight more realistic.\n",
    "\n",
    "- Your mission:\n",
    "\n",
    "1. Use random changes to simulate altitude, speed, and fuel changes.\n",
    "2. Keep the flight going until it reaches 10,000 feet or runs out of fuel.\n",
    "3. Make sure altitude, speed, and fuel remain realistic."
   ]
  },
  {
   "cell_type": "code",
   "execution_count": 29,
   "metadata": {},
   "outputs": [
    {
     "name": "stdout",
     "output_type": "stream",
     "text": [
      "Welcome to Flight Simulator!\n"
     ]
    },
    {
     "data": {
      "image/png": "[encoded data removed]",
      "text/plain": [
       "<Figure size 432x288 with 1 Axes>"
      ]
     },
     "metadata": {
      "needs_background": "light"
     },
     "output_type": "display_data"
    }
   ],
   "source": [
    "from random import randint\n",
    "import matplotlib.pyplot as plt\n",
    "import numpy as np\n",
    "\n",
    "# Initial parameters\n",
    "altitude = 0\n",
    "speed = 0\n",
    "dist = 0\n",
    "fuel = 100\n",
    "\n",
    "print(\"Welcome to Flight Simulator!\")\n",
    "\n",
    "x = [0]\n",
    "y = [0]\n",
    "\n",
    "while fuel >= 0 and 0 <= altitude <= 10000:\n",
    "    if (altitude <= 200): # Prevent Crashes\n",
    "        altitude += randint(0, 1000)\n",
    "    else:\n",
    "        altitude += randint(-500, 1000)\n",
    "    speed += randint(0, 50)\n",
    "    dist += speed\n",
    "    fuel -= randint(0, 5)\n",
    "    # print(dist, altitude)\n",
    "    x.append(dist)\n",
    "    y.append(altitude)\n",
    "\n",
    "# Interpolate the data points for a smoother curve\n",
    "interp_x = np.linspace(min(x), max(x), 1000)  # 1000 points for smoother interpolation\n",
    "interp_y = np.interp(interp_x, x, y)\n",
    "\n",
    "plt.plot(interp_x, interp_y)\n",
    "plt.xlabel(\"Distance\")\n",
    "plt.ylabel(\"Altitude\")\n",
    "plt.title(\"Flight Simulator with Smoother Curve\")\n",
    "plt.show()\n"
   ]
  },
  {
   "cell_type": "markdown",
   "metadata": {},
   "source": [
    "## QUIZ TIME"
   ]
  },
  {
   "cell_type": "markdown",
   "metadata": {},
   "source": [
    "- Quick true or false quiz, whoever answers this correctly(raise your hand) gets a piece of gum or a dinero. \n",
    "<hr>\n",
    "\n",
    "> T or F    \n",
    "- A simulation will always have the same result.\n",
    "> T or F    \n",
    "- A simulation investigates a phenomenom without real-world constraints of time, money, or safety.\n",
    "> T or F    \n",
    "- A simulation has results which are more accurate than an experiment,\n",
    "> T or F    \n",
    "- A simulation can model real-worl events that are not practical for experiments"
   ]
  },
  {
   "cell_type": "markdown",
   "metadata": {},
   "source": [
    "## HOMEWORK HACK #1 "
   ]
  },
  {
   "cell_type": "markdown",
   "metadata": {},
   "source": [
    "First finish Popcorn Hack #3. Expand the simulation to involve your own money.\n",
    "\n",
    "starting money: $100\n",
    "\n",
    "(Dice Roll <= 3) &rarr; lose $70\n",
    "\n",
    "( 6> Dice Roll >3) &rarr; lose $40\n",
    "\n",
    "( 9> Dice Roll >=6) &rarr; win $20\n",
    "\n",
    "( Dice Roll>= 9 + Session Win) &rarr; win $50\n",
    "\n",
    "Jackpot &rarr; win $100"
   ]
  },
  {
   "cell_type": "code",
   "execution_count": 37,
   "metadata": {},
   "outputs": [
    {
     "name": "stdout",
     "output_type": "stream",
     "text": [
      "Current balance: 50\n",
      "Current balance: 70\n",
      "Current balance: 90\n",
      "Current balance: 140\n",
      "Current balance: 160\n",
      "Current balance: 210\n",
      "Current balance: 260\n",
      "YOU WON THE JACKPOT!!!!\n",
      "Current balance: 410\n",
      "Current balance: 430\n",
      "\n",
      "Current balance: 50\n",
      "Current balance: 70\n",
      "Current balance: 30\n",
      "Current balance: 80\n",
      "Current balance: 100\n",
      "Current balance: 150\n",
      "Current balance: 110\n",
      "Current balance: 70\n",
      "Current balance: 120\n",
      "\n",
      "Current balance: 50\n",
      "Current balance: 10\n",
      "Current balance: 60\n",
      "Current balance: 80\n",
      "Current balance: 100\n",
      "Current balance: 150\n",
      "Current balance: 170\n",
      "Current balance: 220\n",
      "YOU WON THE JACKPOT!!!!\n",
      "Current balance: 370\n",
      "\n",
      "Current balance: 20\n",
      "Current balance: 40\n",
      "Current balance: 60\n",
      "Current balance: 80\n",
      "Current balance: 100\n",
      "Current balance: 120\n",
      "Current balance: 170\n",
      "Current balance: 190\n",
      "Current balance: 210\n",
      "\n",
      "Current balance: 50\n",
      "Current balance: 10\n",
      "Current balance: -60\n",
      "Current balance: -40\n",
      "Current balance: -110\n",
      "Current balance: -90\n",
      "Current balance: -70\n",
      "Current balance: -20\n",
      "Current balance: 0\n",
      "\n",
      "Current balance: 20\n",
      "Current balance: 40\n",
      "Current balance: 0\n",
      "Current balance: 20\n",
      "Current balance: 70\n",
      "Current balance: 120\n",
      "Current balance: 140\n",
      "Current balance: 160\n",
      "Current balance: 180\n",
      "\n",
      "Current balance: 50\n",
      "Current balance: 70\n",
      "Current balance: 90\n",
      "Current balance: 50\n",
      "Current balance: 70\n",
      "Current balance: 120\n",
      "Current balance: 140\n",
      "Current balance: 190\n",
      "Current balance: 150\n",
      "\n",
      "Current balance: -40\n",
      "Current balance: -20\n",
      "Current balance: -90\n",
      "Current balance: -70\n",
      "Current balance: -20\n",
      "Current balance: 0\n",
      "Current balance: -40\n",
      "Current balance: -80\n",
      "Current balance: -120\n",
      "\n",
      "Current balance: -40\n",
      "Current balance: -20\n",
      "Current balance: 0\n",
      "Current balance: 20\n",
      "Current balance: 40\n",
      "Current balance: 60\n",
      "Current balance: 110\n",
      "Current balance: 160\n",
      "Current balance: 180\n",
      "\n",
      "Current balance: 50\n",
      "Current balance: 100\n",
      "Current balance: 60\n",
      "Current balance: 20\n",
      "Current balance: -20\n",
      "Current balance: 30\n",
      "Current balance: 50\n",
      "Current balance: 10\n",
      "Current balance: -60\n",
      "\n"
     ]
    }
   ],
   "source": [
    "from random import randint\n",
    "\n",
    "\n",
    "for _ in range(10):\n",
    "    winRound = 0\n",
    "    flag = True\n",
    "    balance = 0\n",
    "\n",
    "    for i in range(1, 10):\n",
    "        sumOfDice = randint(1, 6)+randint(1, 6)\n",
    "        if (sumOfDice <= 3):\n",
    "            balance -= 70\n",
    "        elif (3 < sumOfDice < 6):\n",
    "            balance -= 40\n",
    "        elif (6 <= sumOfDice < 9):\n",
    "            balance += 20\n",
    "        else:\n",
    "            balance += 50\n",
    "            winRound += 1\n",
    "        if (winRound == 5 and flag):\n",
    "            balance += 100\n",
    "            flag = False\n",
    "            print(\"YOU WON THE JACKPOT!!!!\")\n",
    "        print(f\"Current balance: {balance}\")\n",
    "    print()\n"
   ]
  },
  {
   "cell_type": "markdown",
   "metadata": {},
   "source": [
    "## HOMEWORK HACK #2"
   ]
  },
  {
   "cell_type": "markdown",
   "metadata": {},
   "source": [
    "> Given initial parameters for a car simulation, including its initial speed, acceleration rate, deceleration rate, maximum speed, and initial distance, write a  program to simulate the car's journey and determine the final speed, distance covered, and time taken before it either covers 1000 meters or slows down to below 5 m/s?"
   ]
  },
  {
   "cell_type": "code",
   "execution_count": 43,
   "metadata": {},
   "outputs": [
    {
     "name": "stdout",
     "output_type": "stream",
     "text": [
      "[1, 2, 3, 4, 5, 6, 7, 8, 9, 10, 11, 12, 13, 14, 15, 16, 17, 18, 19, 20, 21, 22, 23, 24, 25, 26, 27, 28, 29, 30, 31, 32, 33, 34, 35, 36, 37]\n",
      "[11.242212991153895, 12.48442598230779, 13.726638973461686, 14.968851964615581, 16.211064955769476, 17.45327794692337, 18.695490938077267, 19.937703929231162, 21.179916920385057, 22.422129911538953, 22.675440817423656, 22.92875172330836, 24.101365847872465, 25.27397997243657, 26.446594097000677, 27.619208221564783, 28.08864916883316, 28.55809011610154, 29.032414998405983, 29.506739880710427, 29.98106476301487, 30.455389645319315, 30.92971452762376, 31.404039409928203, 31.878364292232646, 32.35268917453709, 32.827014056841534, 33.30133893914598, 33.77566382145042, 34.249988703754866, 34.72431358605931, 35.198638468363754, 35.6729633506682, 36.14728823297264, 37.342936883633776, 38.53858553429491, 39.734234184956044]\n",
      "[11.242212991153895, 23.726638973461686, 37.45327794692337, 52.42212991153895, 68.63319486730843, 86.0864728142318, 104.78196375230907, 124.71966768154023, 145.89958460192528, 168.32171451346423, 190.9971553308879, 213.92590705419624, 238.02727290206872, 263.3012528745053, 289.74784697150596, 317.36705519307077, 345.45570436190394, 374.0137944780055, 403.0462094764115, 432.5529493571219, 462.5340141201368, 492.98940376545613, 523.9191182930799, 555.3231577030081, 587.2015219952407, 619.5542111697778, 652.3812252266193, 685.6825641657654, 719.4582279872158, 753.7082166909706, 788.43253027703, 823.6311687453938, 859.304132096062, 895.4514203290346, 932.7943572126684, 971.3329427469633, 1011.0671769319193]\n"
     ]
    },
    {
     "data": {
      "image/png": "[encoded data removed]",
      "text/plain": [
       "<Figure size 864x432 with 1 Axes>"
      ]
     },
     "metadata": {
      "needs_background": "light"
     },
     "output_type": "display_data"
    },
    {
     "data": {
      "image/png": "[encoded data removed]",
      "text/plain": [
       "<Figure size 864x432 with 1 Axes>"
      ]
     },
     "metadata": {
      "needs_background": "light"
     },
     "output_type": "display_data"
    }
   ],
   "source": [
    "import random\n",
    "import matplotlib.pyplot as plt\n",
    "\n",
    "# Initial parameters\n",
    "speed = 10  # Initial speed in m/s\n",
    "acceleration = 2  # Acceleration rate in m/s^2\n",
    "deceleration = 1  # Deceleration rate in m/s^2\n",
    "max_speed = 60  # Maximum speed in m/s\n",
    "distance = 0  # Initial distance in meters\n",
    "time = 0  # Initial time in seconds\n",
    "change_interval = random.randint(5, 20)  # Random interval for parameter changes\n",
    "\n",
    "# Lists to store data for plotting\n",
    "times = []\n",
    "speeds = []\n",
    "distances = []\n",
    "\n",
    "# Simulate the car's journey\n",
    "while distance < 1000 and speed >= 5:\n",
    "    if time % change_interval == 0:\n",
    "        # Change parameters periodically\n",
    "        acceleration = random.uniform(1.5, 2.5)\n",
    "        deceleration = random.uniform(0.5, 1.5)\n",
    "        change_interval = random.randint(5, 20)  # Random new interval for parameter changes\n",
    "\n",
    "    # Accelerate the car until it reaches the maximum speed\n",
    "    speed += acceleration-deceleration\n",
    "\n",
    "    # Update time and distance\n",
    "    time += 1  # Update time by 1 second\n",
    "    distance += speed  # Update distance based on speed\n",
    "\n",
    "    # Append data to lists for plotting\n",
    "    times.append(time)\n",
    "    speeds.append(speed)\n",
    "    distances.append(distance)\n",
    "\n",
    "print(times)\n",
    "print(speeds)\n",
    "print(distances)\n",
    "    \n",
    "# Create a figure for speed and a figure for distance\n",
    "plt.figure(figsize=(12, 6))\n",
    "\n",
    "# Plot speed over time\n",
    "plt.subplot(2, 1, 1)\n",
    "plt.plot(times, speeds)\n",
    "plt.xlabel(\"Time (s)\")\n",
    "plt.ylabel(\"Speed (m/s)\")\n",
    "plt.title(\"Car's Speed Over Time\")\n",
    "\n",
    "# Create a new figure for distance over time\n",
    "plt.figure(figsize=(12, 6))\n",
    "\n",
    "# Plot distance over time\n",
    "plt.plot(times, distances)\n",
    "plt.xlabel(\"Time (s)\")\n",
    "plt.ylabel(\"Distance (m)\")\n",
    "plt.title(\"Car's Distance Over Time\")\n",
    "\n",
    "plt.show()"
   ]
  },
  {
   "cell_type": "code",
   "execution_count": null,
   "metadata": {},
   "outputs": [],
   "source": []
  }
 ],
 "metadata": {
  "kernelspec": {
   "display_name": "Python 3 (ipykernel)",
   "language": "python",
   "name": "python3"
  },
  "language_info": {
   "codemirror_mode": {
    "name": "ipython",
    "version": 3
   },
   "file_extension": ".py",
   "mimetype": "text/x-python",
   "name": "python",
   "nbconvert_exporter": "python",
   "pygments_lexer": "ipython3",
   "version": "3.10.12"
  }
 },
 "nbformat": 4,
 "nbformat_minor": 2
}
