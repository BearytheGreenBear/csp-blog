{
 "cells": [
  {
   "cell_type": "markdown",
   "id": "9a5078b9",
   "metadata": {},
   "source": [
    "---\n",
    "layout: post\n",
    "title: 3.1-3.2 Data Abstraction\n",
    "description: Homework and Hacks\n",
    "courses: { compsci: {week: 7} }\n",
    "type: hacks\n",
    "comments: true\n",
    "---"
   ]
  },
  {
   "cell_type": "code",
   "execution_count": null,
   "id": "49e3501d",
   "metadata": {},
   "outputs": [],
   "source": [
    "string = \"Oranges\"\n",
    "print(string)"
   ]
  },
  {
   "cell_type": "code",
   "execution_count": null,
   "id": "b1fd55ab",
   "metadata": {},
   "outputs": [],
   "source": [
    "num = 88\n",
    "string = \"qwerty\"\n",
    "bool = False"
   ]
  },
  {
   "cell_type": "code",
   "execution_count": null,
   "id": "37c03a89",
   "metadata": {},
   "outputs": [],
   "source": [
    "A = 0\n",
    "B = 1\n",
    "C = 2\n",
    "A = B = C\n",
    "print(A, B, C)"
   ]
  },
  {
   "cell_type": "code",
   "execution_count": null,
   "id": "ca24695c",
   "metadata": {},
   "outputs": [],
   "source": [
    "myList = [i**2 for i in range(100)]\n",
    "print(myList[7]) # 49"
   ]
  },
  {
   "cell_type": "code",
   "execution_count": null,
   "id": "03e2c151",
   "metadata": {},
   "outputs": [],
   "source": [
    "people = {\n",
    "    \"Bruh\": 1\n",
    "}"
   ]
  },
  {
   "cell_type": "code",
   "execution_count": null,
   "id": "3adc75c5",
   "metadata": {},
   "outputs": [],
   "source": [
    "import json\n",
    "string = \"{'Bob': 1, 'Alice': 2, 'Malala': 3}\"\n",
    "json_obj = json.dumps(string)\n",
    "print(json_obj)"
   ]
  },
  {
   "cell_type": "markdown",
   "id": "2729fbe2",
   "metadata": {},
   "source": [
    "### Homework"
   ]
  },
  {
   "cell_type": "code",
   "execution_count": 11,
   "id": "9ac641a6",
   "metadata": {},
   "outputs": [
    {
     "name": "stdout",
     "output_type": "stream",
     "text": [
      "Hello my name is Kyle and I'm 15 years old!\n",
      "Hello my name is Bob and I'm 2 years old!\n",
      "Hello my name is Jesus and I'm 2023 years old!\n"
     ]
    }
   ],
   "source": [
    "class Person:\n",
    "    def __init__(self, name, age):\n",
    "        self.name = name\n",
    "        self.age = age\n",
    "\n",
    "    def myFunc(self):\n",
    "        print(f\"Hello my name is {self.name} and I'm {str(self.age)} years old!\")\n",
    "\n",
    "def printPeople(arr):\n",
    "    for person in arr:\n",
    "        person.myFunc()\n",
    "\n",
    "listOfPeople = [\n",
    "    Person(\"Kyle\", 15),\n",
    "    Person(\"Bob\", 2),\n",
    "    Person(\"Jesus\", 2023)\n",
    "]\n",
    "\n",
    "printPeople(listOfPeople)"
   ]
  },
  {
   "cell_type": "code",
   "execution_count": 15,
   "id": "726178d0",
   "metadata": {},
   "outputs": [
    {
     "name": "stdout",
     "output_type": "stream",
     "text": [
      "['Jesus', 'Jesus2'] are the oldest, with age 2023!\n"
     ]
    }
   ],
   "source": [
    "def printOldest(dictonary):\n",
    "    people = []\n",
    "    maxAge = None\n",
    "    for person, age in dictonary.items():\n",
    "        if (maxAge == None or age > maxAge):\n",
    "            people.clear()\n",
    "            people.append(person)\n",
    "            maxAge = age\n",
    "            continue\n",
    "        if (age == maxAge):\n",
    "            people.append(person)\n",
    "    print(f\"{people} are the oldest, with age {maxAge}!\")\n",
    "\n",
    "dictOfPeople = {\n",
    "    \"Kyle\": 15,\n",
    "    \"Bob\": 2,\n",
    "    \"Jesus\": 2023,\n",
    "    \"Jesus2\": 2023\n",
    "}\n",
    "\n",
    "printOldest(dictOfPeople)"
   ]
  },
  {
   "cell_type": "markdown",
   "id": "57cc4c39",
   "metadata": {},
   "source": [
    "### Hack #1"
   ]
  },
  {
   "cell_type": "code",
   "execution_count": 8,
   "id": "ff75033f",
   "metadata": {},
   "outputs": [
    {
     "name": "stdout",
     "output_type": "stream",
     "text": [
      "15\n",
      "Pizza\n",
      "['Nandan', 'Arnav', 'Torin', 'Remy']\n",
      "True\n",
      "{'Nandan': 'TeamMate1', 'Arnav': 'TeamMate2', 'Torin': 'TeamMate3', 'Remy': 'TeamMate4'}\n"
     ]
    }
   ],
   "source": [
    "secretNumber = 15 # Type: Number\n",
    "print(secretNumber)\n",
    "\n",
    "food = \"Pizza\" # Type: String\n",
    "print(food)\n",
    "\n",
    "names = [\"Nandan\", \"Arnav\", \"Torin\", \"Remy\"] # Type: List\n",
    "print(names)\n",
    "\n",
    "IamCool = True # Type: Boolean\n",
    "print(IamCool)\n",
    "\n",
    "##Bonus Problem:\n",
    "\n",
    "names_2 = { # Type: Dictionary\n",
    "    \"Nandan\": \"TeamMate1\",\n",
    "    \"Arnav\": \"TeamMate2\",\n",
    "    \"Torin\": \"TeamMate3\",\n",
    "    \"Remy\": \"TeamMate4\",\n",
    "}\n",
    "\n",
    "print(names_2)"
   ]
  },
  {
   "cell_type": "markdown",
   "id": "85c7213c",
   "metadata": {},
   "source": [
    "### Hack 2"
   ]
  },
  {
   "cell_type": "code",
   "execution_count": 7,
   "id": "f89ae8a3",
   "metadata": {},
   "outputs": [
    {
     "name": "stdout",
     "output_type": "stream",
     "text": [
      "name:\tKyle Liang\n",
      "age:\t15\n",
      "isStu:\tTrue\n",
      "books:\t['Sapiens', 'Twelve Rules For Life', '1984']\n",
      "The name Kyle Liang is a <class 'str'>\n",
      "So is Kyle Liang an int? False\n",
      "And what methods does a/an <class 'str'> have?\n",
      " ['__add__', '__class__', '__contains__', '__delattr__', '__dir__', '...']\n",
      "The age 15 is a <class 'int'>\n",
      "So is 15 an int? True\n",
      "And what methods does a/an <class 'int'> have?\n",
      " ['__abs__', '__add__', '__and__', '__bool__', '__ceil__', '...']\n",
      "The isStu True is a <class 'bool'>\n",
      "So is True an int? True\n",
      "And what methods does a/an <class 'bool'> have?\n",
      " ['__abs__', '__add__', '__and__', '__bool__', '__ceil__', '...']\n",
      "The books ['Sapiens', 'Twelve Rules For Life', '1984'] is a <class 'list'>\n",
      "So is ['Sapiens', 'Twelve Rules For Life', '1984'] an int? False\n",
      "And what methods does a/an <class 'list'> have?\n",
      " ['__add__', '__class__', '__class_getitem__', '__contains__', '__delattr__', '...']\n"
     ]
    }
   ],
   "source": [
    "import json\n",
    "\n",
    "def displayData(data):\n",
    "    for key, val in data.items():\n",
    "        print(f\"{key}:\\t{val}\")\n",
    "\n",
    "def typeData(data):\n",
    "    for key, val in data.items():\n",
    "        print(f\"The {key} {val} is a {type(val)}\")\n",
    "        print(f\"So is {val} an int? {isinstance(val, int)}\")\n",
    "        print(f\"And what methods does a/an {type(val)} have?\\n{[u for i, u in enumerate(dir(val)) if i < 5] + ['...']}\")\n",
    "\n",
    "myDict = {\n",
    "    \"name\": \"Kyle Liang\",\n",
    "    \"age\": 15,\n",
    "    \"isStu\": True,\n",
    "    \"books\": [\"Sapiens\", \"Twelve Rules For Life\", \"1984\"]\n",
    "}\n",
    "\n",
    "displayData(myDict)\n",
    "typeData(myDict)\n",
    "json_obj = json.dumps(myDict) # Now a JSON File\n",
    "\n"
   ]
  },
  {
   "cell_type": "code",
   "execution_count": null,
   "id": "044bd687",
   "metadata": {},
   "outputs": [],
   "source": []
  }
 ],
 "metadata": {
  "kernelspec": {
   "display_name": "Python 3 (ipykernel)",
   "language": "python",
   "name": "python3"
  },
  "language_info": {
   "codemirror_mode": {
    "name": "ipython",
    "version": 3
   },
   "file_extension": ".py",
   "mimetype": "text/x-python",
   "name": "python",
   "nbconvert_exporter": "python",
   "pygments_lexer": "ipython3",
   "version": "3.10.12"
  }
 },
 "nbformat": 4,
 "nbformat_minor": 5
}
